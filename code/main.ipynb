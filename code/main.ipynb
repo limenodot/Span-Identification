{
 "cells": [
  {
   "cell_type": "markdown",
   "metadata": {},
   "source": [
    "# Span Identification Experiment\n",
    "\n",
    "Отчет о результатах: [презентация](https://ru.overleaf.com/read/ytgfgkkykssp#650135) и статья (черновик)"
   ]
  },
  {
   "cell_type": "markdown",
   "metadata": {},
   "source": [
    "## Датасет с SemEval 2023 Task 11\n",
    "\n",
    "Subtask 3 (spans)"
   ]
  },
  {
   "cell_type": "code",
   "execution_count": null,
   "metadata": {},
   "outputs": [],
   "source": [
    "import pandas as pd\n",
    "import matplotlib.pyplot as plt\n",
    "import seaborn as sns\n",
    "import numpy as np\n",
    "from scipy import stats\n",
    "\n",
    "import re\n",
    "from glob import glob"
   ]
  },
  {
   "cell_type": "code",
   "execution_count": 2,
   "metadata": {},
   "outputs": [],
   "source": [
    "df_train = pd.read_csv('semeval-train-spans.csv')\n",
    "df_test = pd.read_csv('semeval-test-spans.csv')"
   ]
  },
  {
   "cell_type": "code",
   "execution_count": 5,
   "metadata": {},
   "outputs": [
    {
     "data": {
      "text/html": [
       "<div>\n",
       "<style scoped>\n",
       "    .dataframe tbody tr th:only-of-type {\n",
       "        vertical-align: middle;\n",
       "    }\n",
       "\n",
       "    .dataframe tbody tr th {\n",
       "        vertical-align: top;\n",
       "    }\n",
       "\n",
       "    .dataframe thead th {\n",
       "        text-align: right;\n",
       "    }\n",
       "</style>\n",
       "<table border=\"1\" class=\"dataframe\">\n",
       "  <thead>\n",
       "    <tr style=\"text-align: right;\">\n",
       "      <th></th>\n",
       "      <th>path</th>\n",
       "      <th>span</th>\n",
       "      <th>label</th>\n",
       "    </tr>\n",
       "  </thead>\n",
       "  <tbody>\n",
       "    <tr>\n",
       "      <th>5522</th>\n",
       "      <td>SemEval 2023 Dataset/data/en/train-articles-su...</td>\n",
       "      <td>tried to rein it in</td>\n",
       "      <td>Loaded_Language</td>\n",
       "    </tr>\n",
       "    <tr>\n",
       "      <th>1358</th>\n",
       "      <td>SemEval 2023 Dataset/data/en/train-articles-su...</td>\n",
       "      <td>harsh criticism</td>\n",
       "      <td>Loaded_Language</td>\n",
       "    </tr>\n",
       "    <tr>\n",
       "      <th>2868</th>\n",
       "      <td>SemEval 2023 Dataset/data/en/train-articles-su...</td>\n",
       "      <td>scandal</td>\n",
       "      <td>Repetition</td>\n",
       "    </tr>\n",
       "    <tr>\n",
       "      <th>7382</th>\n",
       "      <td>SemEval 2023 Dataset/data/en/train-articles-su...</td>\n",
       "      <td>God and a member</td>\n",
       "      <td>NaN</td>\n",
       "    </tr>\n",
       "    <tr>\n",
       "      <th>13475</th>\n",
       "      <td>SemEval 2023 Dataset/data/en/train-articles-su...</td>\n",
       "      <td>Saudi journalist in a Saudi diplomatic</td>\n",
       "      <td>NaN</td>\n",
       "    </tr>\n",
       "    <tr>\n",
       "      <th>14283</th>\n",
       "      <td>SemEval 2023 Dataset/data/en/train-articles-su...</td>\n",
       "      <td>should have. Email * Name This field is for va...</td>\n",
       "      <td>NaN</td>\n",
       "    </tr>\n",
       "    <tr>\n",
       "      <th>13330</th>\n",
       "      <td>SemEval 2023 Dataset/data/en/train-articles-su...</td>\n",
       "      <td>Dina Powell Heather Nauert Ivanka Trump Email ...</td>\n",
       "      <td>NaN</td>\n",
       "    </tr>\n",
       "    <tr>\n",
       "      <th>5014</th>\n",
       "      <td>SemEval 2023 Dataset/data/en/train-articles-su...</td>\n",
       "      <td>Dems</td>\n",
       "      <td>Name_Calling-Labeling</td>\n",
       "    </tr>\n",
       "    <tr>\n",
       "      <th>6723</th>\n",
       "      <td>SemEval 2023 Dataset/data/en/train-articles-su...</td>\n",
       "      <td>the partisans of the defeated candidate</td>\n",
       "      <td>Name_Calling-Labeling</td>\n",
       "    </tr>\n",
       "    <tr>\n",
       "      <th>1771</th>\n",
       "      <td>SemEval 2023 Dataset/data/en/train-articles-su...</td>\n",
       "      <td>fancy image-gathering hardware</td>\n",
       "      <td>Loaded_Language</td>\n",
       "    </tr>\n",
       "  </tbody>\n",
       "</table>\n",
       "</div>"
      ],
      "text/plain": [
       "                                                    path  \\\n",
       "5522   SemEval 2023 Dataset/data/en/train-articles-su...   \n",
       "1358   SemEval 2023 Dataset/data/en/train-articles-su...   \n",
       "2868   SemEval 2023 Dataset/data/en/train-articles-su...   \n",
       "7382   SemEval 2023 Dataset/data/en/train-articles-su...   \n",
       "13475  SemEval 2023 Dataset/data/en/train-articles-su...   \n",
       "14283  SemEval 2023 Dataset/data/en/train-articles-su...   \n",
       "13330  SemEval 2023 Dataset/data/en/train-articles-su...   \n",
       "5014   SemEval 2023 Dataset/data/en/train-articles-su...   \n",
       "6723   SemEval 2023 Dataset/data/en/train-articles-su...   \n",
       "1771   SemEval 2023 Dataset/data/en/train-articles-su...   \n",
       "\n",
       "                                                    span  \\\n",
       "5522                                 tried to rein it in   \n",
       "1358                                     harsh criticism   \n",
       "2868                                             scandal   \n",
       "7382                                    God and a member   \n",
       "13475             Saudi journalist in a Saudi diplomatic   \n",
       "14283  should have. Email * Name This field is for va...   \n",
       "13330  Dina Powell Heather Nauert Ivanka Trump Email ...   \n",
       "5014                                                Dems   \n",
       "6723             the partisans of the defeated candidate   \n",
       "1771                      fancy image-gathering hardware   \n",
       "\n",
       "                       label  \n",
       "5522         Loaded_Language  \n",
       "1358         Loaded_Language  \n",
       "2868              Repetition  \n",
       "7382                     NaN  \n",
       "13475                    NaN  \n",
       "14283                    NaN  \n",
       "13330                    NaN  \n",
       "5014   Name_Calling-Labeling  \n",
       "6723   Name_Calling-Labeling  \n",
       "1771         Loaded_Language  "
      ]
     },
     "execution_count": 5,
     "metadata": {},
     "output_type": "execute_result"
    }
   ],
   "source": [
    "df_train.sample(10)"
   ]
  },
  {
   "cell_type": "code",
   "execution_count": 109,
   "metadata": {},
   "outputs": [
    {
     "data": {
      "text/plain": [
       "(446, 90, 7201, 1801)"
      ]
     },
     "execution_count": 109,
     "metadata": {},
     "output_type": "execute_result"
    }
   ],
   "source": [
    "len(glob('SemEval 2023 Dataset/data/en/train-articles-subtask-3/*.txt')), \\\n",
    "len(glob('SemEval 2023 Dataset/data/en/dev-articles-subtask-3/*.txt')), \\\n",
    "len(df_train), len(df_test)"
   ]
  },
  {
   "cell_type": "code",
   "execution_count": 51,
   "metadata": {},
   "outputs": [],
   "source": [
    "lens = []\n",
    "\n",
    "for row in df_train.iterrows():\n",
    "    lens.append(len(row[1].span.split()))\n",
    "    \n",
    "for row in df_test.iterrows():\n",
    "    lens.append(len(row[1].span.split()))"
   ]
  },
  {
   "cell_type": "code",
   "execution_count": 79,
   "metadata": {},
   "outputs": [
    {
     "data": {
      "text/plain": [
       "(array([7626,  932,  287,  104,   30,   16,    5,    0,    0,    2],\n",
       "       dtype=int64),\n",
       " array([  1.,  15.,  29.,  43.,  57.,  71.,  85.,  99., 113., 127., 141.]))"
      ]
     },
     "execution_count": 79,
     "metadata": {},
     "output_type": "execute_result"
    }
   ],
   "source": [
    "hist, bin_edges = np.histogram(lens)\n",
    "hist, bin_edges"
   ]
  },
  {
   "cell_type": "code",
   "execution_count": 125,
   "metadata": {},
   "outputs": [
    {
     "data": {
      "image/png": "[encoded data removed]",
      "text/plain": [
       "<Figure size 640x480 with 1 Axes>"
      ]
     },
     "metadata": {},
     "output_type": "display_data"
    }
   ],
   "source": [
    "# plt.hist(lens, bins=30)\n",
    "# plt.yscale('log')\n",
    "# plt.show()\n",
    "\n",
    "sns.histplot(lens, bins=12, color='cornflowerblue')\n",
    "plt.xlabel('Длина фрагментов')\n",
    "plt.ylabel('Число фрагментов')\n",
    "# plt.title('Длина фрагментов на английском языке')\n",
    "plt.savefig('images/semeval-len-spans.png', dpi=200)\n",
    "plt.show()"
   ]
  },
  {
   "cell_type": "code",
   "execution_count": 58,
   "metadata": {},
   "outputs": [
    {
     "data": {
      "text/plain": [
       "(DescribeResult(nobs=9002, minmax=(1, 141), mean=7.700288824705621, variance=105.3197843849634, skewness=3.222833176741486, kurtosis=16.038381175206876),\n",
       " 1604)"
      ]
     },
     "execution_count": 58,
     "metadata": {},
     "output_type": "execute_result"
    }
   ],
   "source": [
    "stats.describe(lens), lens.count(1)"
   ]
  },
  {
   "cell_type": "code",
   "execution_count": 66,
   "metadata": {},
   "outputs": [],
   "source": [
    "classes = []\n",
    "\n",
    "for row in df_train.iterrows():\n",
    "    classes.append(row[1].label)\n",
    "    \n",
    "for row in df_test.iterrows():\n",
    "    classes.append(row[1].label)"
   ]
  },
  {
   "cell_type": "code",
   "execution_count": 67,
   "metadata": {},
   "outputs": [
    {
     "name": "stdout",
     "output_type": "stream",
     "text": [
      "['Doubt', 'Appeal_to_Authority', 'Repetition', 'Appeal_to_Fear-Prejudice', 'Appeal_to_Fear-Prejudice', 'Appeal_to_Authority', 'Appeal_to_Fear-Prejudice', 'Appeal_to_Fear-Prejudice', 'Slogans', 'False_Dilemma-No_Choice', 'Slogans', 'Loaded_Language', 'Loaded_Language', 'Flag_Waving', 'Name_Calling-Labeling', 'Name_Calling-Labeling', 'Loaded_Language', 'Loaded_Language', 'Causal_Oversimplification', 'Loaded_Language', 'Name_Calling-Labeling', 'Causal_Oversimplification', 'Loaded_Language', 'Appeal_to_Hypocrisy', 'Causal_Oversimplification', 'Name_Calling-Labeling', 'Loaded_Language', 'Slogans', 'Obfuscation-Vagueness-Confusion', 'Appeal_to_Fear-Prejudice', 'Loaded_Language', 'Appeal_to_Authority', 'Loaded_Language', 'Loaded_Language', 'Causal_Oversimplification', 'Loaded_Language', 'Exaggeration-Minimisation', 'Loaded_Language', 'Doubt', 'Doubt', 'Name_Calling-Labeling', 'Doubt', 'Loaded_Language', 'Loaded_Language', 'Doubt', 'Exaggeration-Minimisation', 'Doubt', 'Loaded_Language', 'Name_Calling-Labeling', 'Loaded_Language', 'Appeal_to_Authority', 'Loaded_Language', 'Causal_Oversimplification', 'Loaded_Language', 'Loaded_Language', 'Name_Calling-Labeling', 'Loaded_Language', 'Loaded_Language', 'Loaded_Language', 'Loaded_Language', 'Name_Calling-Labeling', 'Name_Calling-Labeling', 'Loaded_Language', 'Exaggeration-Minimisation', 'Loaded_Language', 'Loaded_Language', 'Name_Calling-Labeling', 'Causal_Oversimplification', 'Loaded_Language', 'Doubt', 'Name_Calling-Labeling', 'Name_Calling-Labeling', 'Loaded_Language', 'Loaded_Language', 'Loaded_Language', 'Loaded_Language', 'Loaded_Language', 'Loaded_Language', 'Name_Calling-Labeling', 'Name_Calling-Labeling', 'Loaded_Language', 'Exaggeration-Minimisation', 'Name_Calling-Labeling', 'False_Dilemma-No_Choice', 'Loaded_Language', 'Name_Calling-Labeling', 'Loaded_Language', 'Loaded_Language', 'Loaded_Language', 'Loaded_Language', 'Slogans', 'Loaded_Language', 'Loaded_Language', 'Loaded_Language', 'Loaded_Language', 'Repetition', 'Name_Calling-Labeling', 'Loaded_Language', 'Loaded_Language', 'Repetition', 'Repetition', 'Loaded_Language', 'Loaded_Language', 'Loaded_Language', 'Loaded_Language', 'Exaggeration-Minimisation', 'Repetition', 'Exaggeration-Minimisation', 'Flag_Waving', 'Repetition', 'Name_Calling-Labeling', 'Exaggeration-Minimisation', 'Name_Calling-Labeling', 'Repetition', 'Loaded_Language', 'Name_Calling-Labeling', 'Name_Calling-Labeling', 'False_Dilemma-No_Choice', 'Appeal_to_Fear-Prejudice', 'False_Dilemma-No_Choice', 'Loaded_Language', 'False_Dilemma-No_Choice', 'Loaded_Language', 'Loaded_Language', 'Name_Calling-Labeling', 'Red_Herring', 'Loaded_Language', 'Loaded_Language', 'Slogans', 'Loaded_Language', 'Loaded_Language', 'Loaded_Language', 'Loaded_Language', 'Loaded_Language', 'Loaded_Language', 'Loaded_Language', 'Name_Calling-Labeling', 'Loaded_Language', 'Loaded_Language', 'False_Dilemma-No_Choice', 'Name_Calling-Labeling', 'Repetition', 'Exaggeration-Minimisation', 'Name_Calling-Labeling', 'Causal_Oversimplification', 'Loaded_Language', 'Loaded_Language', 'Loaded_Language', 'Appeal_to_Authority', 'Loaded_Language', 'Name_Calling-Labeling', 'Loaded_Language', 'Exaggeration-Minimisation', 'Guilt_by_Association', 'Doubt', 'Loaded_Language', 'Repetition', 'Loaded_Language', 'Loaded_Language', 'Exaggeration-Minimisation', 'Loaded_Language', 'Loaded_Language', 'Flag_Waving', 'Exaggeration-Minimisation', 'Loaded_Language', 'Loaded_Language', 'Loaded_Language', 'Causal_Oversimplification', 'Loaded_Language', 'Name_Calling-Labeling', 'Name_Calling-Labeling', 'Causal_Oversimplification', 'Name_Calling-Labeling', 'Loaded_Language', 'Conversation_Killer', 'Name_Calling-Labeling', 'Loaded_Language', 'Loaded_Language', 'Appeal_to_Fear-Prejudice', 'Name_Calling-Labeling', 'Loaded_Language', 'Loaded_Language', 'Causal_Oversimplification', 'Loaded_Language', 'Exaggeration-Minimisation', 'Causal_Oversimplification', 'Exaggeration-Minimisation', 'Loaded_Language', 'Loaded_Language', 'Causal_Oversimplification', 'Loaded_Language', 'Flag_Waving', 'Loaded_Language', 'Appeal_to_Fear-Prejudice', 'Doubt', 'Doubt', 'False_Dilemma-No_Choice', 'Appeal_to_Authority', 'Conversation_Killer', 'Doubt', 'Appeal_to_Popularity', 'Doubt', 'Doubt', 'Appeal_to_Authority', 'Flag_Waving', 'Appeal_to_Authority', 'Repetition', 'Flag_Waving', 'Doubt', 'Doubt', 'Name_Calling-Labeling', 'Doubt', 'Repetition', 'Red_Herring', 'Repetition', 'Repetition', 'Name_Calling-Labeling', 'Loaded_Language', 'Appeal_to_Popularity', 'Loaded_Language', 'Name_Calling-Labeling', 'Repetition', 'Flag_Waving', 'Loaded_Language', 'Loaded_Language', 'Loaded_Language', 'Conversation_Killer', 'Appeal_to_Fear-Prejudice', 'False_Dilemma-No_Choice', 'Loaded_Language', 'Loaded_Language', 'Loaded_Language', 'Loaded_Language', 'Conversation_Killer', 'Loaded_Language', 'Loaded_Language', 'Loaded_Language', 'False_Dilemma-No_Choice', 'False_Dilemma-No_Choice', 'Guilt_by_Association', 'Appeal_to_Fear-Prejudice', 'False_Dilemma-No_Choice', 'Loaded_Language', 'Loaded_Language', 'Appeal_to_Fear-Prejudice', 'Conversation_Killer', 'Doubt', 'Doubt', 'Doubt', 'Loaded_Language', 'Loaded_Language', 'Exaggeration-Minimisation', 'Flag_Waving', 'Exaggeration-Minimisation', 'Name_Calling-Labeling', 'Loaded_Language', 'Conversation_Killer', 'Loaded_Language', 'Obfuscation-Vagueness-Confusion', 'Straw_Man', 'Doubt', 'Loaded_Language', 'Doubt', 'Straw_Man', 'Appeal_to_Authority', 'Doubt', 'Appeal_to_Fear-Prejudice', 'Conversation_Killer', 'Loaded_Language', 'Appeal_to_Hypocrisy', 'Loaded_Language', 'Straw_Man', 'Appeal_to_Authority', 'Name_Calling-Labeling', 'False_Dilemma-No_Choice', 'Loaded_Language', 'Loaded_Language', 'Doubt', 'Doubt', 'Doubt', 'Doubt', 'Loaded_Language', 'Doubt', 'Flag_Waving', 'Conversation_Killer', 'Repetition', 'Doubt', 'Name_Calling-Labeling', 'Exaggeration-Minimisation', 'Name_Calling-Labeling', 'Name_Calling-Labeling', 'Name_Calling-Labeling', 'Loaded_Language', 'Appeal_to_Popularity', 'Appeal_to_Authority', 'Repetition', 'Appeal_to_Fear-Prejudice', 'Loaded_Language', 'False_Dilemma-No_Choice', 'Loaded_Language', 'Loaded_Language', 'Guilt_by_Association', 'Guilt_by_Association', 'False_Dilemma-No_Choice', 'Loaded_Language', 'Loaded_Language', 'Name_Calling-Labeling', 'Doubt', 'Doubt', 'Repetition', 'Doubt', 'Doubt', 'Doubt', 'Doubt', 'Loaded_Language', 'Loaded_Language', 'Loaded_Language', 'Flag_Waving', 'Appeal_to_Hypocrisy', 'Repetition', 'Repetition', 'Slogans', 'Repetition', 'Loaded_Language', 'Repetition', 'Loaded_Language', 'Loaded_Language', 'Loaded_Language', 'Appeal_to_Fear-Prejudice', 'Appeal_to_Fear-Prejudice', 'Guilt_by_Association', 'Loaded_Language', 'Loaded_Language', 'Appeal_to_Fear-Prejudice', 'Appeal_to_Popularity', 'Loaded_Language', 'Appeal_to_Fear-Prejudice', 'Loaded_Language', 'Name_Calling-Labeling', 'Repetition', 'Doubt', 'Doubt', 'Loaded_Language', 'Doubt', 'Repetition', 'Doubt', 'Loaded_Language', 'Flag_Waving', 'Loaded_Language', 'Flag_Waving', 'Name_Calling-Labeling', 'Appeal_to_Fear-Prejudice', 'Appeal_to_Fear-Prejudice', 'Loaded_Language', 'Repetition', 'Obfuscation-Vagueness-Confusion', 'Doubt', 'Loaded_Language', 'Obfuscation-Vagueness-Confusion', 'Repetition', 'Repetition', 'Repetition', 'Repetition', 'Appeal_to_Fear-Prejudice', 'Name_Calling-Labeling', 'Causal_Oversimplification', 'Repetition', 'Loaded_Language', 'Loaded_Language', 'Repetition', 'Repetition', 'Repetition', 'Loaded_Language', 'Repetition', 'Repetition', 'Appeal_to_Fear-Prejudice', 'Loaded_Language', 'Appeal_to_Fear-Prejudice', 'Appeal_to_Fear-Prejudice', 'Appeal_to_Fear-Prejudice', 'Appeal_to_Fear-Prejudice', 'Loaded_Language', 'Loaded_Language', 'Repetition', 'Appeal_to_Fear-Prejudice', 'Appeal_to_Fear-Prejudice', 'Guilt_by_Association', 'Appeal_to_Fear-Prejudice', 'Guilt_by_Association', 'Loaded_Language', 'Loaded_Language', 'Conversation_Killer', 'Causal_Oversimplification', 'Appeal_to_Fear-Prejudice', 'Loaded_Language', 'Loaded_Language', 'Repetition', 'Appeal_to_Authority', 'Repetition', 'Appeal_to_Authority', 'Appeal_to_Authority', 'Repetition', 'Appeal_to_Authority', 'Appeal_to_Authority', 'Loaded_Language', 'Appeal_to_Authority', 'Loaded_Language', 'Appeal_to_Fear-Prejudice', 'Appeal_to_Authority', 'Repetition', 'Appeal_to_Fear-Prejudice', 'Exaggeration-Minimisation', 'Doubt', 'Doubt', 'Doubt', 'Doubt', 'False_Dilemma-No_Choice', 'Appeal_to_Fear-Prejudice', 'Flag_Waving', 'Doubt', 'False_Dilemma-No_Choice', 'Appeal_to_Fear-Prejudice', 'Name_Calling-Labeling', 'Flag_Waving', 'Appeal_to_Fear-Prejudice', 'Name_Calling-Labeling', 'Guilt_by_Association', 'Loaded_Language', 'Flag_Waving', 'Causal_Oversimplification', 'Causal_Oversimplification', 'Loaded_Language', 'Exaggeration-Minimisation', 'Exaggeration-Minimisation', 'Exaggeration-Minimisation', 'Doubt', 'Exaggeration-Minimisation', 'Loaded_Language', 'Causal_Oversimplification', 'Loaded_Language', 'Name_Calling-Labeling', 'Exaggeration-Minimisation', 'Loaded_Language', 'Name_Calling-Labeling', 'Guilt_by_Association', 'Guilt_by_Association', 'Causal_Oversimplification', 'Loaded_Language', 'Causal_Oversimplification', 'Causal_Oversimplification', 'Causal_Oversimplification', 'Flag_Waving', 'Flag_Waving', 'Flag_Waving', 'Loaded_Language', 'Loaded_Language', 'Exaggeration-Minimisation', 'Loaded_Language', 'Loaded_Language', 'Exaggeration-Minimisation', 'Loaded_Language', 'Appeal_to_Fear-Prejudice', 'Flag_Waving', 'Exaggeration-Minimisation', 'Loaded_Language', 'Loaded_Language', 'Name_Calling-Labeling', 'Name_Calling-Labeling', 'Appeal_to_Fear-Prejudice', 'Name_Calling-Labeling', 'Loaded_Language', 'Name_Calling-Labeling', 'Appeal_to_Fear-Prejudice', 'Appeal_to_Fear-Prejudice', 'Name_Calling-Labeling', 'Loaded_Language', 'Loaded_Language', 'Name_Calling-Labeling', 'Slogans', 'Loaded_Language', 'Repetition', 'Repetition', 'Repetition', 'Repetition', 'Name_Calling-Labeling', 'Loaded_Language', 'Loaded_Language', 'Slogans', 'Name_Calling-Labeling', 'Name_Calling-Labeling', 'Name_Calling-Labeling', 'Name_Calling-Labeling', 'Loaded_Language', 'Loaded_Language', 'Appeal_to_Fear-Prejudice', 'Name_Calling-Labeling', 'Appeal_to_Fear-Prejudice', 'Name_Calling-Labeling', 'Appeal_to_Fear-Prejudice', 'Appeal_to_Authority', 'Appeal_to_Fear-Prejudice', 'Appeal_to_Authority', 'Appeal_to_Fear-Prejudice', 'Appeal_to_Authority', 'Appeal_to_Fear-Prejudice', 'Loaded_Language', 'Loaded_Language', 'Causal_Oversimplification', 'Appeal_to_Authority', 'Causal_Oversimplification', 'Appeal_to_Fear-Prejudice', 'Appeal_to_Authority', 'Doubt', 'Exaggeration-Minimisation', 'Name_Calling-Labeling', 'Exaggeration-Minimisation', 'Doubt', 'Doubt', 'Loaded_Language', 'Slogans', 'Loaded_Language', 'Loaded_Language', 'Name_Calling-Labeling', 'Name_Calling-Labeling', 'Causal_Oversimplification', 'Doubt', 'Doubt', 'Exaggeration-Minimisation', 'Slogans', 'Name_Calling-Labeling', 'Loaded_Language', 'Appeal_to_Fear-Prejudice', 'Exaggeration-Minimisation', 'Name_Calling-Labeling', 'Doubt', 'Name_Calling-Labeling', 'Causal_Oversimplification', 'Conversation_Killer', 'Exaggeration-Minimisation', 'Loaded_Language', 'Exaggeration-Minimisation', 'Doubt', 'Causal_Oversimplification', 'Repetition', 'Appeal_to_Fear-Prejudice', 'Causal_Oversimplification', 'Loaded_Language', 'Causal_Oversimplification', 'Causal_Oversimplification', 'Exaggeration-Minimisation', 'Loaded_Language', 'Loaded_Language', 'Causal_Oversimplification', 'Exaggeration-Minimisation', 'Appeal_to_Fear-Prejudice', 'Exaggeration-Minimisation', 'Causal_Oversimplification', 'Red_Herring', 'Appeal_to_Authority', 'Name_Calling-Labeling', 'Loaded_Language', 'Doubt', 'Flag_Waving', 'Red_Herring', 'Name_Calling-Labeling', 'Exaggeration-Minimisation', 'Loaded_Language', 'Name_Calling-Labeling', 'Name_Calling-Labeling', 'Exaggeration-Minimisation', 'Doubt', 'Causal_Oversimplification', 'Causal_Oversimplification', 'Conversation_Killer', 'Loaded_Language', 'Loaded_Language', 'Flag_Waving', 'Exaggeration-Minimisation', 'Appeal_to_Fear-Prejudice', 'Doubt', 'Doubt', 'Name_Calling-Labeling', 'Repetition', 'Loaded_Language', 'Conversation_Killer', 'Loaded_Language', 'Exaggeration-Minimisation', 'Repetition', 'Doubt', 'Name_Calling-Labeling', 'Doubt', 'Loaded_Language', 'Flag_Waving', 'Name_Calling-Labeling', 'Doubt', 'Repetition', 'Obfuscation-Vagueness-Confusion', 'Loaded_Language', 'Loaded_Language', 'Repetition', 'Loaded_Language', 'Repetition', 'Repetition', 'Appeal_to_Authority', 'Repetition', 'Name_Calling-Labeling', 'False_Dilemma-No_Choice', 'Appeal_to_Authority', 'Name_Calling-Labeling', 'Appeal_to_Fear-Prejudice', 'Loaded_Language', 'Repetition', 'Loaded_Language', 'Repetition', 'Appeal_to_Fear-Prejudice', 'Exaggeration-Minimisation', 'Repetition', 'Appeal_to_Authority', 'Appeal_to_Fear-Prejudice', 'Appeal_to_Authority', 'Appeal_to_Fear-Prejudice', 'Causal_Oversimplification', 'Appeal_to_Fear-Prejudice', 'Causal_Oversimplification', 'Doubt', 'Appeal_to_Authority', 'Appeal_to_Fear-Prejudice', 'Name_Calling-Labeling', 'Appeal_to_Fear-Prejudice', 'Appeal_to_Fear-Prejudice', 'Loaded_Language', 'Exaggeration-Minimisation', 'Loaded_Language', 'Loaded_Language', 'Name_Calling-Labeling', 'Name_Calling-Labeling', 'Name_Calling-Labeling', 'Loaded_Language', 'Appeal_to_Fear-Prejudice', 'Loaded_Language', 'Appeal_to_Fear-Prejudice', 'Loaded_Language', 'Repetition', 'Name_Calling-Labeling', 'Loaded_Language', 'Loaded_Language', 'Loaded_Language', 'Causal_Oversimplification', 'Loaded_Language', 'Causal_Oversimplification', 'Name_Calling-Labeling', 'False_Dilemma-No_Choice', 'Appeal_to_Fear-Prejudice', 'Loaded_Language', 'Loaded_Language', 'Loaded_Language', 'Loaded_Language', 'Loaded_Language', 'Loaded_Language', 'Doubt', 'Doubt', 'Causal_Oversimplification', 'Exaggeration-Minimisation', 'Loaded_Language', 'Flag_Waving', 'Flag_Waving', 'Loaded_Language', 'Name_Calling-Labeling', 'Exaggeration-Minimisation', 'Loaded_Language', 'Exaggeration-Minimisation', 'Exaggeration-Minimisation', 'Exaggeration-Minimisation', 'Causal_Oversimplification', 'Guilt_by_Association', 'Guilt_by_Association', 'Name_Calling-Labeling', 'Causal_Oversimplification', 'Exaggeration-Minimisation', 'Flag_Waving', 'Loaded_Language', 'Doubt', 'Appeal_to_Hypocrisy', 'Doubt', 'Exaggeration-Minimisation', 'Exaggeration-Minimisation', 'Red_Herring', 'Name_Calling-Labeling', 'Doubt', 'Loaded_Language', 'Name_Calling-Labeling', 'Repetition', 'Exaggeration-Minimisation', 'Name_Calling-Labeling', 'Loaded_Language', 'Exaggeration-Minimisation', 'Causal_Oversimplification', 'Causal_Oversimplification', 'Loaded_Language', 'Flag_Waving', 'Causal_Oversimplification', 'Causal_Oversimplification', 'Conversation_Killer', 'Causal_Oversimplification', 'Causal_Oversimplification', 'Loaded_Language', 'Causal_Oversimplification', 'Loaded_Language', 'Loaded_Language', 'Appeal_to_Authority', 'Appeal_to_Fear-Prejudice', 'Appeal_to_Fear-Prejudice', 'Name_Calling-Labeling', 'Guilt_by_Association', 'Exaggeration-Minimisation', 'Flag_Waving', 'Repetition', 'Exaggeration-Minimisation', 'Loaded_Language', 'Loaded_Language', 'Loaded_Language', 'Appeal_to_Fear-Prejudice', 'Loaded_Language', 'Name_Calling-Labeling', 'Name_Calling-Labeling', 'Loaded_Language', 'Loaded_Language', 'Name_Calling-Labeling', 'Loaded_Language', 'Appeal_to_Fear-Prejudice', 'Doubt', 'Slogans', 'Loaded_Language', 'Loaded_Language', 'Guilt_by_Association', 'Exaggeration-Minimisation', 'Name_Calling-Labeling', 'Repetition', 'Exaggeration-Minimisation', 'Name_Calling-Labeling', 'Loaded_Language', 'Name_Calling-Labeling', 'Loaded_Language', 'Doubt', 'Doubt', 'Flag_Waving', 'Doubt', 'Loaded_Language', 'Appeal_to_Fear-Prejudice', 'Loaded_Language', 'Appeal_to_Fear-Prejudice', 'Loaded_Language', 'Name_Calling-Labeling', 'Name_Calling-Labeling', 'Appeal_to_Authority', 'Appeal_to_Authority', 'Loaded_Language', 'Appeal_to_Authority', 'Appeal_to_Fear-Prejudice', 'Loaded_Language', 'Loaded_Language', 'Loaded_Language', 'Loaded_Language', 'Doubt', 'Name_Calling-Labeling', 'Causal_Oversimplification', 'Loaded_Language', 'Loaded_Language', 'Repetition', 'Causal_Oversimplification', 'Repetition', 'Causal_Oversimplification', 'Repetition', 'Repetition', 'Red_Herring', 'Repetition', 'Repetition', 'Repetition', 'Repetition', 'Repetition', 'False_Dilemma-No_Choice', 'Repetition', 'Loaded_Language', 'Appeal_to_Fear-Prejudice', 'Appeal_to_Authority', 'Repetition', 'Repetition', 'Repetition', 'Appeal_to_Fear-Prejudice', 'Repetition', 'Loaded_Language', 'Loaded_Language', 'Appeal_to_Fear-Prejudice', 'Doubt', 'Loaded_Language', 'Loaded_Language', 'Doubt', 'Loaded_Language', 'Name_Calling-Labeling', 'Loaded_Language', 'Appeal_to_Authority', 'Loaded_Language', 'Loaded_Language', 'Loaded_Language', 'Doubt', 'Conversation_Killer', 'Doubt', 'Doubt', 'Loaded_Language', 'Doubt', 'Doubt', 'Loaded_Language', 'Name_Calling-Labeling', 'Name_Calling-Labeling', 'Name_Calling-Labeling', 'Name_Calling-Labeling', 'Name_Calling-Labeling', 'Appeal_to_Authority', 'Loaded_Language', 'Appeal_to_Fear-Prejudice', 'Appeal_to_Fear-Prejudice', 'Appeal_to_Authority', 'Appeal_to_Fear-Prejudice', 'Appeal_to_Fear-Prejudice', 'Name_Calling-Labeling', 'Appeal_to_Fear-Prejudice', 'Appeal_to_Fear-Prejudice', 'Appeal_to_Authority', 'Loaded_Language', 'Repetition', 'Repetition', 'Appeal_to_Authority', 'Repetition', 'Appeal_to_Fear-Prejudice', 'Appeal_to_Fear-Prejudice', 'Loaded_Language', 'Appeal_to_Fear-Prejudice', 'Loaded_Language', 'Flag_Waving', 'Name_Calling-Labeling', 'Loaded_Language', 'Loaded_Language', 'Slogans', 'Flag_Waving', 'Appeal_to_Fear-Prejudice', 'Loaded_Language', 'Loaded_Language', 'Loaded_Language', 'Loaded_Language', 'Flag_Waving', 'Repetition', 'Name_Calling-Labeling', 'Name_Calling-Labeling', 'Loaded_Language', 'Exaggeration-Minimisation', 'Loaded_Language', 'Exaggeration-Minimisation', 'Flag_Waving', 'Loaded_Language', 'Appeal_to_Fear-Prejudice', 'Appeal_to_Authority', 'Name_Calling-Labeling', 'Repetition', 'Repetition', 'Appeal_to_Fear-Prejudice', 'Appeal_to_Authority', 'Exaggeration-Minimisation', 'Name_Calling-Labeling', 'Repetition', 'Appeal_to_Fear-Prejudice', 'Repetition', 'Appeal_to_Fear-Prejudice', 'Loaded_Language', 'Exaggeration-Minimisation', 'Loaded_Language', 'Exaggeration-Minimisation', 'Slogans', 'Exaggeration-Minimisation', 'Exaggeration-Minimisation', 'Exaggeration-Minimisation', 'Appeal_to_Fear-Prejudice', 'Loaded_Language', 'Loaded_Language', 'Loaded_Language', 'Loaded_Language', 'Loaded_Language', 'Whataboutism', 'Appeal_to_Fear-Prejudice', 'Name_Calling-Labeling', 'Appeal_to_Fear-Prejudice', 'False_Dilemma-No_Choice', 'Loaded_Language', 'Name_Calling-Labeling', 'Loaded_Language', 'Appeal_to_Fear-Prejudice', 'Appeal_to_Fear-Prejudice', 'Appeal_to_Authority', 'Causal_Oversimplification', 'Loaded_Language', 'Name_Calling-Labeling', 'Causal_Oversimplification', 'Causal_Oversimplification', 'Appeal_to_Fear-Prejudice', 'Repetition', 'Name_Calling-Labeling', 'Repetition', 'Appeal_to_Fear-Prejudice', 'Repetition', 'Repetition', 'Appeal_to_Fear-Prejudice', 'Name_Calling-Labeling', 'Appeal_to_Fear-Prejudice', 'Appeal_to_Fear-Prejudice', 'Repetition', 'Appeal_to_Authority', 'Repetition', 'Appeal_to_Fear-Prejudice', 'Name_Calling-Labeling', 'Flag_Waving', 'Flag_Waving', 'Loaded_Language', 'Flag_Waving', 'Loaded_Language', 'Appeal_to_Fear-Prejudice', 'Loaded_Language', 'Causal_Oversimplification', 'Loaded_Language', 'Exaggeration-Minimisation', 'Slogans', 'Appeal_to_Fear-Prejudice', 'Name_Calling-Labeling', 'Flag_Waving', 'Loaded_Language', 'Loaded_Language', 'Loaded_Language', 'Loaded_Language', 'Loaded_Language', 'Loaded_Language', 'Loaded_Language', 'Repetition', 'Loaded_Language', 'Repetition', 'Repetition', 'Obfuscation-Vagueness-Confusion', 'Loaded_Language', 'Flag_Waving', 'Loaded_Language', 'Repetition', 'Repetition', 'Name_Calling-Labeling', 'Loaded_Language', 'Name_Calling-Labeling', 'Name_Calling-Labeling', 'Repetition', 'Repetition', 'Repetition', 'Repetition', 'Repetition', 'Repetition', 'Flag_Waving', 'Flag_Waving', 'Appeal_to_Fear-Prejudice', 'Repetition', 'Loaded_Language', 'Exaggeration-Minimisation', 'Red_Herring', 'Red_Herring', 'Loaded_Language', 'Repetition', 'Repetition', 'Loaded_Language', 'Slogans', 'Loaded_Language', 'Repetition', 'Conversation_Killer', 'False_Dilemma-No_Choice', 'Loaded_Language', 'Loaded_Language', 'Appeal_to_Authority', 'Loaded_Language', 'Appeal_to_Authority', 'Loaded_Language', 'Appeal_to_Authority', 'Loaded_Language', 'Exaggeration-Minimisation', 'Appeal_to_Fear-Prejudice', 'Doubt', 'Loaded_Language', 'Exaggeration-Minimisation', 'Loaded_Language', 'Loaded_Language', 'Loaded_Language', 'Loaded_Language', 'Exaggeration-Minimisation', 'Loaded_Language', 'Loaded_Language', 'Loaded_Language', 'Loaded_Language', 'Appeal_to_Fear-Prejudice', 'Causal_Oversimplification', 'Loaded_Language', 'Flag_Waving', 'Loaded_Language', 'Loaded_Language', 'Loaded_Language', 'Causal_Oversimplification', 'Loaded_Language', 'Loaded_Language', 'Loaded_Language', 'Loaded_Language', 'Whataboutism', 'Loaded_Language', 'Conversation_Killer', 'Whataboutism', 'Conversation_Killer', 'Doubt', 'Causal_Oversimplification', 'Appeal_to_Fear-Prejudice', 'Flag_Waving', 'Appeal_to_Fear-Prejudice', 'False_Dilemma-No_Choice', 'Appeal_to_Fear-Prejudice', 'Loaded_Language', 'Appeal_to_Fear-Prejudice', 'Causal_Oversimplification', 'Loaded_Language', 'Causal_Oversimplification', 'Name_Calling-Labeling', 'Loaded_Language', 'Name_Calling-Labeling', 'Name_Calling-Labeling', 'Loaded_Language', 'Name_Calling-Labeling', 'Red_Herring', 'Loaded_Language', 'Exaggeration-Minimisation', 'Repetition', 'Loaded_Language', 'Causal_Oversimplification', 'Loaded_Language', 'Name_Calling-Labeling', 'Repetition', 'Loaded_Language', 'Repetition', 'Repetition', 'Repetition', 'Repetition', 'Appeal_to_Fear-Prejudice', 'Loaded_Language', 'Loaded_Language', 'Loaded_Language', 'Loaded_Language', 'Doubt', 'Doubt', 'Causal_Oversimplification', 'Whataboutism', 'Loaded_Language', 'False_Dilemma-No_Choice', 'Flag_Waving', 'Loaded_Language', 'Flag_Waving', 'Appeal_to_Authority', 'Loaded_Language', 'Loaded_Language', 'Loaded_Language', 'Loaded_Language', 'Name_Calling-Labeling', 'Slogans', 'Appeal_to_Authority', 'Loaded_Language', 'Guilt_by_Association', 'Exaggeration-Minimisation', 'Guilt_by_Association', 'Causal_Oversimplification', 'Name_Calling-Labeling', 'Name_Calling-Labeling', 'Name_Calling-Labeling', 'Loaded_Language', 'Loaded_Language', 'Exaggeration-Minimisation', 'Loaded_Language', 'Repetition', 'Loaded_Language', 'Loaded_Language', 'Exaggeration-Minimisation', 'Loaded_Language', 'Loaded_Language', 'Doubt', 'False_Dilemma-No_Choice', 'Loaded_Language', 'Exaggeration-Minimisation', 'Exaggeration-Minimisation', 'Loaded_Language', 'Appeal_to_Fear-Prejudice', 'Loaded_Language', 'Name_Calling-Labeling', 'Conversation_Killer', 'Loaded_Language', 'Loaded_Language', 'Whataboutism', 'Name_Calling-Labeling', 'Loaded_Language', 'Repetition', 'Flag_Waving', 'Obfuscation-Vagueness-Confusion', 'Loaded_Language', 'Loaded_Language', 'Appeal_to_Authority', 'Loaded_Language', 'Loaded_Language', 'Loaded_Language', 'Loaded_Language', 'Appeal_to_Authority', 'Red_Herring', 'Loaded_Language', 'Doubt', 'Doubt', 'Appeal_to_Fear-Prejudice', 'Appeal_to_Fear-Prejudice', 'Loaded_Language', 'Doubt', 'Doubt', 'Loaded_Language', 'Loaded_Language', 'Doubt', 'Loaded_Language', 'Appeal_to_Fear-Prejudice', 'Loaded_Language', 'Name_Calling-Labeling', 'Loaded_Language', 'Loaded_Language', 'Loaded_Language', 'Loaded_Language', 'Loaded_Language', 'False_Dilemma-No_Choice', 'Loaded_Language', 'Causal_Oversimplification', 'Doubt', 'Repetition', 'Loaded_Language', 'Loaded_Language', 'Repetition', 'Repetition', 'Appeal_to_Fear-Prejudice', 'Loaded_Language', 'Repetition', 'Appeal_to_Authority', 'Repetition', 'Name_Calling-Labeling', 'Flag_Waving', 'Repetition', 'Flag_Waving', 'Repetition', 'Flag_Waving', 'Loaded_Language', 'Appeal_to_Authority', 'Name_Calling-Labeling', 'Repetition', 'Repetition', 'Repetition', 'Loaded_Language', 'Loaded_Language', 'Repetition', 'Repetition', 'Appeal_to_Authority', 'Loaded_Language', 'Loaded_Language', 'False_Dilemma-No_Choice', 'Loaded_Language', 'Exaggeration-Minimisation', 'Repetition', 'Appeal_to_Authority', 'Exaggeration-Minimisation', 'Appeal_to_Fear-Prejudice', 'Flag_Waving', 'Repetition', 'Repetition', 'Repetition', 'Flag_Waving', 'Flag_Waving', 'Flag_Waving', 'Name_Calling-Labeling', 'Repetition', 'Repetition', 'Repetition', 'Repetition', 'Appeal_to_Fear-Prejudice', 'Loaded_Language', 'Appeal_to_Fear-Prejudice', 'Name_Calling-Labeling', 'Conversation_Killer', 'Loaded_Language', 'Loaded_Language', 'Loaded_Language', 'Red_Herring', 'Red_Herring', 'Red_Herring', 'Flag_Waving', 'Appeal_to_Fear-Prejudice', 'Red_Herring', 'Appeal_to_Fear-Prejudice', 'Loaded_Language', 'Appeal_to_Fear-Prejudice', 'Exaggeration-Minimisation', 'False_Dilemma-No_Choice', 'Doubt', 'False_Dilemma-No_Choice', 'False_Dilemma-No_Choice', 'Name_Calling-Labeling', 'Loaded_Language', 'Loaded_Language', 'Loaded_Language', 'False_Dilemma-No_Choice', 'Guilt_by_Association', 'False_Dilemma-No_Choice', 'Loaded_Language', 'Loaded_Language', 'Appeal_to_Fear-Prejudice', 'Appeal_to_Fear-Prejudice', 'False_Dilemma-No_Choice', 'Appeal_to_Fear-Prejudice', 'Appeal_to_Fear-Prejudice', 'Loaded_Language', 'Loaded_Language', 'Exaggeration-Minimisation', 'Doubt', 'Loaded_Language', 'Loaded_Language', 'Conversation_Killer', 'Doubt', 'Name_Calling-Labeling', 'Appeal_to_Fear-Prejudice', 'Appeal_to_Fear-Prejudice', 'Name_Calling-Labeling', 'Name_Calling-Labeling', 'Loaded_Language', 'Loaded_Language', 'Doubt', 'Doubt', 'Loaded_Language', 'Doubt', 'Causal_Oversimplification', 'Doubt', 'Appeal_to_Fear-Prejudice', 'Doubt', 'Appeal_to_Fear-Prejudice', 'Doubt', 'Repetition', 'Exaggeration-Minimisation', 'Conversation_Killer', 'Repetition', 'Doubt', 'Repetition', 'Doubt', 'Conversation_Killer', 'Doubt', 'Loaded_Language', 'Doubt', 'Doubt', 'Repetition', 'Flag_Waving', 'Causal_Oversimplification', 'Loaded_Language', 'Loaded_Language', 'Loaded_Language', 'Loaded_Language', 'Repetition', 'Loaded_Language', 'Loaded_Language', 'Name_Calling-Labeling', 'Loaded_Language', 'Doubt', 'Loaded_Language', 'Loaded_Language', 'Doubt', 'Exaggeration-Minimisation', 'Doubt', 'Loaded_Language', 'Doubt', 'Doubt', 'Doubt', 'Loaded_Language', 'Doubt', 'Causal_Oversimplification', 'Doubt', 'Exaggeration-Minimisation', 'Loaded_Language', 'Loaded_Language', 'Exaggeration-Minimisation', 'Appeal_to_Hypocrisy', 'False_Dilemma-No_Choice', 'Appeal_to_Fear-Prejudice', 'Name_Calling-Labeling', 'Loaded_Language', 'Name_Calling-Labeling', 'Loaded_Language', 'Appeal_to_Authority', 'Appeal_to_Fear-Prejudice', 'Name_Calling-Labeling', 'Exaggeration-Minimisation', 'Loaded_Language', 'Loaded_Language', 'Loaded_Language', 'Loaded_Language', 'Appeal_to_Popularity', 'Causal_Oversimplification', 'Conversation_Killer', 'Loaded_Language', 'Loaded_Language', 'Appeal_to_Popularity', 'Obfuscation-Vagueness-Confusion', 'Name_Calling-Labeling', 'Repetition', 'Repetition', 'Appeal_to_Fear-Prejudice', 'Conversation_Killer', 'Repetition', 'Repetition', 'Repetition', 'Loaded_Language', 'Loaded_Language', 'Name_Calling-Labeling', 'Loaded_Language', 'Loaded_Language', 'Loaded_Language', 'Loaded_Language', 'Name_Calling-Labeling', 'Name_Calling-Labeling', 'Loaded_Language', 'Obfuscation-Vagueness-Confusion', 'Loaded_Language', 'Loaded_Language', 'Loaded_Language', 'Name_Calling-Labeling', 'Conversation_Killer', 'Name_Calling-Labeling', 'Loaded_Language', 'Slogans', 'Loaded_Language', 'Loaded_Language', 'Loaded_Language', 'Loaded_Language', 'Exaggeration-Minimisation', 'Name_Calling-Labeling', 'Name_Calling-Labeling', 'Name_Calling-Labeling', 'Name_Calling-Labeling', 'Loaded_Language', 'Loaded_Language', 'Name_Calling-Labeling', 'Conversation_Killer', 'Loaded_Language', 'Loaded_Language', 'Name_Calling-Labeling', 'Appeal_to_Hypocrisy', 'Name_Calling-Labeling', 'Loaded_Language', 'Doubt', 'Loaded_Language', 'Loaded_Language', 'Appeal_to_Fear-Prejudice', 'Loaded_Language', 'Exaggeration-Minimisation', 'Slogans', 'Loaded_Language', 'Doubt', 'Guilt_by_Association', 'Exaggeration-Minimisation', 'Appeal_to_Fear-Prejudice', 'Flag_Waving', 'Loaded_Language', 'Conversation_Killer', 'Loaded_Language', 'Guilt_by_Association', 'Exaggeration-Minimisation', 'Repetition', 'Appeal_to_Fear-Prejudice', 'Loaded_Language', 'Guilt_by_Association', 'Whataboutism', 'Appeal_to_Fear-Prejudice', 'Appeal_to_Fear-Prejudice', 'Loaded_Language', 'Loaded_Language', 'Loaded_Language', 'Loaded_Language', 'Appeal_to_Fear-Prejudice', 'Loaded_Language', 'Repetition', 'Loaded_Language', 'Name_Calling-Labeling', 'Doubt', 'Loaded_Language', 'Loaded_Language', 'Exaggeration-Minimisation', 'Exaggeration-Minimisation', 'Loaded_Language', 'Loaded_Language', 'Doubt', 'Conversation_Killer', 'Doubt', 'Loaded_Language', 'Doubt', 'Doubt', 'Loaded_Language', 'Doubt', 'Loaded_Language', 'Loaded_Language', 'Loaded_Language', 'Guilt_by_Association', 'Flag_Waving', 'Name_Calling-Labeling', 'Name_Calling-Labeling', 'Loaded_Language', 'Loaded_Language', 'Loaded_Language', 'Name_Calling-Labeling', 'Loaded_Language', 'Loaded_Language', 'Loaded_Language', 'Loaded_Language', 'Loaded_Language', 'Flag_Waving', 'Loaded_Language', 'Loaded_Language', 'Loaded_Language', 'Loaded_Language', 'Doubt', 'Loaded_Language', 'Appeal_to_Fear-Prejudice', 'Conversation_Killer', 'Loaded_Language', 'Appeal_to_Fear-Prejudice', 'Loaded_Language', 'Exaggeration-Minimisation', 'Appeal_to_Authority', 'Loaded_Language', 'Exaggeration-Minimisation', 'Obfuscation-Vagueness-Confusion', 'False_Dilemma-No_Choice', 'Causal_Oversimplification', 'False_Dilemma-No_Choice', 'Name_Calling-Labeling', 'Name_Calling-Labeling', 'Name_Calling-Labeling', 'Loaded_Language', 'Loaded_Language', 'Causal_Oversimplification', 'Loaded_Language', 'Name_Calling-Labeling', 'Name_Calling-Labeling', 'Name_Calling-Labeling', 'Loaded_Language', 'Repetition', 'Conversation_Killer', 'Conversation_Killer', 'Exaggeration-Minimisation', 'Name_Calling-Labeling', 'Doubt', 'Exaggeration-Minimisation', 'Loaded_Language', 'Loaded_Language', 'Appeal_to_Fear-Prejudice', 'Causal_Oversimplification', 'Appeal_to_Fear-Prejudice', 'Loaded_Language', 'Loaded_Language', 'Doubt', 'Conversation_Killer', 'Loaded_Language', 'Doubt', 'Appeal_to_Fear-Prejudice', 'Name_Calling-Labeling', 'Loaded_Language', 'Name_Calling-Labeling', 'Name_Calling-Labeling', 'Name_Calling-Labeling', 'Name_Calling-Labeling', 'Name_Calling-Labeling', 'Name_Calling-Labeling', 'Name_Calling-Labeling', 'Name_Calling-Labeling', 'Loaded_Language', 'Doubt', 'Name_Calling-Labeling', 'Loaded_Language', 'Name_Calling-Labeling', 'Loaded_Language', 'Slogans', 'False_Dilemma-No_Choice', 'Name_Calling-Labeling', 'Loaded_Language', 'Loaded_Language', 'Loaded_Language', 'Loaded_Language', 'Appeal_to_Fear-Prejudice', 'Name_Calling-Labeling', 'Name_Calling-Labeling', 'Loaded_Language', 'Loaded_Language', 'Loaded_Language', 'Loaded_Language', 'Name_Calling-Labeling', 'Straw_Man', 'Appeal_to_Authority', 'Guilt_by_Association', 'Guilt_by_Association', 'Conversation_Killer', 'Flag_Waving', 'Doubt', 'Causal_Oversimplification', 'Straw_Man', 'Loaded_Language', 'Name_Calling-Labeling', 'Slogans', 'Loaded_Language', 'Loaded_Language', 'Loaded_Language', 'Repetition', 'Repetition', 'Repetition', 'Loaded_Language', 'Appeal_to_Fear-Prejudice', 'Repetition', 'False_Dilemma-No_Choice', 'Appeal_to_Authority', 'Loaded_Language', 'Loaded_Language', 'Repetition', 'Repetition', 'Repetition', 'Repetition', 'Repetition', 'Repetition', 'Causal_Oversimplification', 'Loaded_Language', 'Flag_Waving', 'Appeal_to_Fear-Prejudice', 'Loaded_Language', 'Repetition', 'Appeal_to_Fear-Prejudice', 'Repetition', 'False_Dilemma-No_Choice', 'Repetition', 'Repetition', 'Repetition', 'Repetition', 'Repetition', 'Repetition', 'Repetition', 'Repetition', 'Repetition', 'Repetition', 'Repetition', 'Repetition', 'Doubt', 'Repetition', 'Repetition', 'Repetition', 'Name_Calling-Labeling', 'Repetition', 'Repetition', 'Repetition', 'Loaded_Language', 'Repetition', 'Repetition', 'Loaded_Language', 'Appeal_to_Fear-Prejudice', 'Loaded_Language', 'Loaded_Language', 'Repetition', 'Loaded_Language', 'Repetition', 'Repetition', 'Repetition', 'Appeal_to_Fear-Prejudice', 'Doubt', 'Repetition', 'Appeal_to_Fear-Prejudice', 'Appeal_to_Fear-Prejudice', 'Repetition', 'Repetition', 'Conversation_Killer', 'Doubt', 'Loaded_Language', 'Causal_Oversimplification', 'Loaded_Language', 'Loaded_Language', 'Name_Calling-Labeling', 'Doubt', 'Name_Calling-Labeling', 'Exaggeration-Minimisation', 'Doubt', 'Exaggeration-Minimisation', 'Appeal_to_Fear-Prejudice', 'Flag_Waving', 'Doubt', 'Name_Calling-Labeling', 'Doubt', 'Doubt', 'Doubt', 'Loaded_Language', 'Name_Calling-Labeling', 'Loaded_Language', 'Loaded_Language', 'False_Dilemma-No_Choice', 'Appeal_to_Authority', 'Causal_Oversimplification', 'Exaggeration-Minimisation', 'Appeal_to_Authority', 'Conversation_Killer', 'Obfuscation-Vagueness-Confusion', 'Obfuscation-Vagueness-Confusion', 'False_Dilemma-No_Choice', 'Appeal_to_Fear-Prejudice', 'Loaded_Language', 'False_Dilemma-No_Choice', 'Appeal_to_Authority', 'Exaggeration-Minimisation', 'Loaded_Language', 'Name_Calling-Labeling', 'Name_Calling-Labeling', 'Exaggeration-Minimisation', 'Exaggeration-Minimisation', 'Exaggeration-Minimisation', 'Repetition', 'Loaded_Language', 'Doubt', 'Doubt', 'Repetition', 'Conversation_Killer', 'Doubt', 'Repetition', 'Doubt', 'Repetition', 'Name_Calling-Labeling', 'Name_Calling-Labeling', 'Loaded_Language', 'Loaded_Language', 'Loaded_Language', 'Doubt', 'Loaded_Language', 'Doubt', 'Appeal_to_Authority', 'Repetition', 'Conversation_Killer', 'Name_Calling-Labeling', 'Name_Calling-Labeling', 'Conversation_Killer', 'Conversation_Killer', 'Loaded_Language', 'Loaded_Language', 'Exaggeration-Minimisation', 'Loaded_Language', 'Name_Calling-Labeling', 'Loaded_Language', 'Loaded_Language', 'Name_Calling-Labeling', 'Loaded_Language', 'Loaded_Language', 'Appeal_to_Fear-Prejudice', 'Conversation_Killer', 'Conversation_Killer', 'Loaded_Language', 'Loaded_Language', 'Doubt', 'Name_Calling-Labeling', 'Appeal_to_Authority', 'Loaded_Language', 'Loaded_Language', 'Loaded_Language', 'Loaded_Language', 'Loaded_Language', 'Loaded_Language', 'Loaded_Language', 'Loaded_Language', 'Loaded_Language', 'Name_Calling-Labeling', 'Repetition', 'Name_Calling-Labeling', 'Appeal_to_Fear-Prejudice', 'Name_Calling-Labeling', 'Loaded_Language', 'Appeal_to_Fear-Prejudice', 'Loaded_Language', 'Loaded_Language', 'Loaded_Language', 'Loaded_Language', 'Loaded_Language', 'Loaded_Language', 'Doubt', 'Conversation_Killer', 'Appeal_to_Authority', 'Doubt', 'Loaded_Language', 'Slogans', 'Exaggeration-Minimisation', 'Appeal_to_Fear-Prejudice', 'Whataboutism', 'Flag_Waving', 'Flag_Waving', 'Slogans', 'Repetition', 'Flag_Waving', 'Slogans', 'Repetition', 'Flag_Waving', 'Slogans', 'Repetition', 'Repetition', 'Loaded_Language', 'Flag_Waving', 'Loaded_Language', 'Repetition', 'Loaded_Language', 'Appeal_to_Fear-Prejudice', 'Appeal_to_Fear-Prejudice', 'Loaded_Language', 'Repetition', 'Name_Calling-Labeling', 'Flag_Waving', 'Loaded_Language', 'False_Dilemma-No_Choice', 'False_Dilemma-No_Choice', 'Conversation_Killer', 'Loaded_Language', 'Name_Calling-Labeling', 'Doubt', 'Loaded_Language', 'Loaded_Language', 'Exaggeration-Minimisation', 'Loaded_Language', 'Loaded_Language', 'Doubt', 'Conversation_Killer', 'Doubt', 'Name_Calling-Labeling', 'Repetition', 'Red_Herring', 'Loaded_Language', 'Appeal_to_Hypocrisy', 'Red_Herring', 'Red_Herring', 'Flag_Waving', 'Red_Herring', 'Loaded_Language', 'Appeal_to_Hypocrisy', 'Name_Calling-Labeling', 'Loaded_Language', 'Loaded_Language', 'Causal_Oversimplification', 'Causal_Oversimplification', 'Loaded_Language', 'Name_Calling-Labeling', 'Name_Calling-Labeling', 'Loaded_Language', 'Slogans', 'Repetition', 'Repetition', 'Repetition', 'Repetition', 'Slogans', 'Slogans', 'False_Dilemma-No_Choice', 'Flag_Waving', 'Appeal_to_Fear-Prejudice', 'Loaded_Language', 'Loaded_Language', 'Repetition', 'Exaggeration-Minimisation', 'Loaded_Language', 'Loaded_Language', 'Loaded_Language', 'Loaded_Language', 'Exaggeration-Minimisation', 'Conversation_Killer', 'Exaggeration-Minimisation', 'Exaggeration-Minimisation', 'Flag_Waving', 'Loaded_Language', 'Loaded_Language', 'Loaded_Language', 'Loaded_Language', 'Loaded_Language', 'Name_Calling-Labeling', 'Loaded_Language', 'Name_Calling-Labeling', 'Loaded_Language', 'Name_Calling-Labeling', 'Name_Calling-Labeling', 'Loaded_Language', 'Name_Calling-Labeling', 'Name_Calling-Labeling', 'Loaded_Language', 'Repetition', 'Appeal_to_Popularity', 'Name_Calling-Labeling', 'Loaded_Language', 'Loaded_Language', 'Loaded_Language', 'Loaded_Language', 'Exaggeration-Minimisation', 'Exaggeration-Minimisation', 'Repetition', 'Name_Calling-Labeling', 'Loaded_Language', 'Loaded_Language', 'Loaded_Language', 'Red_Herring', 'Causal_Oversimplification', 'Flag_Waving', 'Loaded_Language', 'Loaded_Language', 'Name_Calling-Labeling', 'Loaded_Language', 'Doubt', 'False_Dilemma-No_Choice', 'Flag_Waving', 'Flag_Waving', 'Loaded_Language', 'Doubt', 'False_Dilemma-No_Choice', 'Loaded_Language', 'Exaggeration-Minimisation', 'Appeal_to_Popularity', 'Causal_Oversimplification', 'False_Dilemma-No_Choice', 'False_Dilemma-No_Choice', 'Guilt_by_Association', 'Causal_Oversimplification', 'Conversation_Killer', 'Appeal_to_Popularity', 'Repetition', 'False_Dilemma-No_Choice', 'Appeal_to_Fear-Prejudice', 'Loaded_Language', 'Exaggeration-Minimisation', 'Appeal_to_Authority', 'Appeal_to_Fear-Prejudice', 'Loaded_Language', 'Appeal_to_Authority', 'False_Dilemma-No_Choice', 'Loaded_Language', 'Name_Calling-Labeling', 'Loaded_Language', 'Name_Calling-Labeling', 'False_Dilemma-No_Choice', 'False_Dilemma-No_Choice', 'Appeal_to_Authority', 'False_Dilemma-No_Choice', 'False_Dilemma-No_Choice', 'Loaded_Language', 'Loaded_Language', 'Loaded_Language', 'Loaded_Language', 'Loaded_Language', 'Appeal_to_Fear-Prejudice', 'Loaded_Language', 'Appeal_to_Authority', 'Appeal_to_Authority', 'Loaded_Language', 'Loaded_Language', 'Doubt', 'Loaded_Language', 'Causal_Oversimplification', 'Name_Calling-Labeling', 'Loaded_Language', 'Doubt', 'Loaded_Language', 'Flag_Waving', 'Flag_Waving', 'Appeal_to_Fear-Prejudice', 'Appeal_to_Fear-Prejudice', 'Flag_Waving', 'Loaded_Language', 'Appeal_to_Fear-Prejudice', 'Slogans', 'Name_Calling-Labeling', 'Loaded_Language', 'Guilt_by_Association', 'Slogans', 'Flag_Waving', 'Slogans', 'Flag_Waving', 'Appeal_to_Fear-Prejudice', 'Appeal_to_Fear-Prejudice', 'Name_Calling-Labeling', 'Name_Calling-Labeling', 'Name_Calling-Labeling', 'Guilt_by_Association', 'Repetition', 'Repetition', 'Slogans', 'Flag_Waving', 'Appeal_to_Fear-Prejudice', 'Flag_Waving', 'Flag_Waving', 'Flag_Waving', 'Name_Calling-Labeling', 'Repetition', 'Slogans', 'Name_Calling-Labeling', 'Loaded_Language', 'Name_Calling-Labeling', 'Guilt_by_Association', 'False_Dilemma-No_Choice', 'Name_Calling-Labeling', 'Repetition', 'Loaded_Language', 'Name_Calling-Labeling', 'Loaded_Language', 'Name_Calling-Labeling', 'Loaded_Language', 'Doubt', 'Appeal_to_Authority', 'Appeal_to_Authority', 'Repetition', 'Repetition', 'Repetition', 'Flag_Waving', 'Flag_Waving', 'Name_Calling-Labeling', 'Exaggeration-Minimisation', 'Appeal_to_Authority', 'Loaded_Language', 'Appeal_to_Authority', 'Loaded_Language', 'Red_Herring', 'Name_Calling-Labeling', 'Appeal_to_Authority', 'Exaggeration-Minimisation', 'Red_Herring', 'Red_Herring', 'Appeal_to_Authority', 'Appeal_to_Fear-Prejudice', 'Loaded_Language', 'Appeal_to_Authority', 'Flag_Waving', 'Appeal_to_Authority', 'Appeal_to_Authority', 'Loaded_Language', 'Exaggeration-Minimisation', 'Loaded_Language', 'Loaded_Language', 'Guilt_by_Association', 'Repetition', 'False_Dilemma-No_Choice', 'Guilt_by_Association', 'Conversation_Killer', 'Causal_Oversimplification', 'Repetition', 'False_Dilemma-No_Choice', 'Name_Calling-Labeling', 'Loaded_Language', 'Repetition', 'Repetition', 'Exaggeration-Minimisation', 'Slogans', 'Name_Calling-Labeling', 'Name_Calling-Labeling', 'Slogans', 'Name_Calling-Labeling', 'Name_Calling-Labeling', 'Name_Calling-Labeling', 'Name_Calling-Labeling', 'Red_Herring', 'Loaded_Language', 'Loaded_Language', 'Name_Calling-Labeling', 'Exaggeration-Minimisation', 'Name_Calling-Labeling', 'Appeal_to_Popularity', 'Name_Calling-Labeling', 'Name_Calling-Labeling', 'Loaded_Language', 'Red_Herring', 'Guilt_by_Association', 'Exaggeration-Minimisation', 'Name_Calling-Labeling', 'Loaded_Language', 'Red_Herring', 'Loaded_Language', 'Loaded_Language', 'Name_Calling-Labeling', 'Loaded_Language', 'Loaded_Language', 'Exaggeration-Minimisation', 'Loaded_Language', 'Slogans', 'Loaded_Language', 'Loaded_Language', 'Guilt_by_Association', 'Doubt', 'Loaded_Language', 'Exaggeration-Minimisation', 'Loaded_Language', 'Doubt', 'Loaded_Language', 'Loaded_Language', 'Loaded_Language', 'Conversation_Killer', 'Flag_Waving', 'Doubt', 'Loaded_Language', 'Red_Herring', 'Flag_Waving', 'Doubt', 'Flag_Waving', 'Loaded_Language', 'Guilt_by_Association', 'Loaded_Language', 'Loaded_Language', 'Loaded_Language', 'Causal_Oversimplification', 'Exaggeration-Minimisation', 'Loaded_Language', 'Loaded_Language', 'Loaded_Language', 'Guilt_by_Association', 'Loaded_Language', 'Exaggeration-Minimisation', 'Loaded_Language', 'Loaded_Language', 'Loaded_Language', 'Loaded_Language', 'Flag_Waving', 'Loaded_Language', 'Loaded_Language', 'Repetition', 'Loaded_Language', 'Repetition', 'Loaded_Language', 'Slogans', 'Loaded_Language', 'Name_Calling-Labeling', 'Name_Calling-Labeling', 'Slogans', 'Loaded_Language', 'Slogans', 'Loaded_Language', 'Exaggeration-Minimisation', 'Loaded_Language', 'False_Dilemma-No_Choice', 'Doubt', 'Name_Calling-Labeling', 'Loaded_Language', 'Doubt', 'Doubt', 'Causal_Oversimplification', 'Name_Calling-Labeling', 'Red_Herring', 'Doubt', 'Red_Herring', 'Appeal_to_Fear-Prejudice', 'Appeal_to_Fear-Prejudice', 'Appeal_to_Authority', 'Appeal_to_Fear-Prejudice', 'Loaded_Language', 'Appeal_to_Fear-Prejudice', 'Appeal_to_Fear-Prejudice', 'Appeal_to_Fear-Prejudice', 'Appeal_to_Authority', 'Loaded_Language', 'Appeal_to_Fear-Prejudice', 'Loaded_Language', 'Doubt', 'Appeal_to_Hypocrisy', 'Appeal_to_Hypocrisy', 'Appeal_to_Authority', 'Appeal_to_Authority', 'Causal_Oversimplification', 'Appeal_to_Hypocrisy', 'Loaded_Language', 'False_Dilemma-No_Choice', 'Appeal_to_Fear-Prejudice', 'Name_Calling-Labeling', 'Loaded_Language', 'Appeal_to_Hypocrisy', 'Loaded_Language', 'Loaded_Language', 'Loaded_Language', 'Loaded_Language', 'Loaded_Language', 'Loaded_Language', 'Loaded_Language', 'Loaded_Language', 'Doubt', 'Doubt', 'Conversation_Killer', 'Loaded_Language', 'Loaded_Language', 'Name_Calling-Labeling', 'Loaded_Language', 'Loaded_Language', 'Loaded_Language', 'Name_Calling-Labeling', 'Loaded_Language', 'Loaded_Language', 'Appeal_to_Fear-Prejudice', 'Loaded_Language', 'Name_Calling-Labeling', 'Loaded_Language', 'Name_Calling-Labeling', 'Name_Calling-Labeling', 'Loaded_Language', 'Name_Calling-Labeling', 'Name_Calling-Labeling', 'Name_Calling-Labeling', 'Name_Calling-Labeling', 'Loaded_Language', 'Name_Calling-Labeling', 'Name_Calling-Labeling', 'Loaded_Language', 'Name_Calling-Labeling', 'Loaded_Language', 'Name_Calling-Labeling', 'Name_Calling-Labeling', 'Name_Calling-Labeling', 'Name_Calling-Labeling', 'Name_Calling-Labeling', 'Repetition', 'Name_Calling-Labeling', 'Name_Calling-Labeling', 'Loaded_Language', 'Name_Calling-Labeling', 'Name_Calling-Labeling', 'Name_Calling-Labeling', 'Name_Calling-Labeling', 'Loaded_Language', 'Name_Calling-Labeling', 'Loaded_Language', 'Loaded_Language', 'Loaded_Language', 'Doubt', 'Loaded_Language', 'Doubt', 'Name_Calling-Labeling', 'Name_Calling-Labeling', 'Name_Calling-Labeling', 'Doubt', 'Loaded_Language', 'Name_Calling-Labeling', 'Name_Calling-Labeling', 'Loaded_Language', 'Loaded_Language', 'Loaded_Language', 'Loaded_Language', 'Name_Calling-Labeling', 'Loaded_Language', 'Loaded_Language', 'Loaded_Language', 'Loaded_Language', 'Name_Calling-Labeling', 'Exaggeration-Minimisation', 'Appeal_to_Authority', 'Exaggeration-Minimisation', 'Doubt', 'Causal_Oversimplification', 'Loaded_Language', 'Red_Herring', 'Loaded_Language', 'Appeal_to_Fear-Prejudice', 'Exaggeration-Minimisation', 'Loaded_Language', 'Conversation_Killer', 'Flag_Waving', 'Name_Calling-Labeling', 'Red_Herring', 'Loaded_Language', 'Conversation_Killer', 'Exaggeration-Minimisation', 'Name_Calling-Labeling', 'Exaggeration-Minimisation', 'Slogans', 'Loaded_Language', 'Loaded_Language', 'Loaded_Language', 'Appeal_to_Authority', 'Loaded_Language', 'Loaded_Language', 'Loaded_Language', 'Flag_Waving', 'Flag_Waving', 'Slogans', 'Slogans', 'Appeal_to_Popularity', 'Doubt', 'Loaded_Language', 'Exaggeration-Minimisation', 'Appeal_to_Authority', 'Exaggeration-Minimisation', 'Appeal_to_Authority', 'Loaded_Language', 'Name_Calling-Labeling', 'Appeal_to_Fear-Prejudice', 'Doubt', 'Flag_Waving', 'Name_Calling-Labeling', 'Doubt', 'Exaggeration-Minimisation', 'Doubt', 'Exaggeration-Minimisation', 'Flag_Waving', 'Doubt', 'Causal_Oversimplification', 'Exaggeration-Minimisation', 'Loaded_Language', 'Flag_Waving', 'Doubt', 'Causal_Oversimplification', 'Loaded_Language', 'Loaded_Language', 'Loaded_Language', 'Appeal_to_Authority', 'Name_Calling-Labeling', 'Conversation_Killer', 'Appeal_to_Fear-Prejudice', 'Exaggeration-Minimisation', 'Name_Calling-Labeling', 'Loaded_Language', 'Loaded_Language', 'Exaggeration-Minimisation', 'Appeal_to_Authority', 'Loaded_Language', 'Exaggeration-Minimisation', 'Loaded_Language', 'Loaded_Language', 'Doubt', 'Loaded_Language', 'Loaded_Language', 'Appeal_to_Authority', 'Loaded_Language', 'Loaded_Language', 'Loaded_Language', 'Appeal_to_Authority', 'Doubt', 'Flag_Waving', 'Conversation_Killer', 'Slogans', 'Flag_Waving', 'Appeal_to_Fear-Prejudice', 'Appeal_to_Authority', 'Exaggeration-Minimisation', 'Flag_Waving', 'Causal_Oversimplification', 'Red_Herring', 'Appeal_to_Hypocrisy', 'Exaggeration-Minimisation', 'Appeal_to_Authority', 'Exaggeration-Minimisation', 'Slogans', 'Exaggeration-Minimisation', 'Appeal_to_Authority', 'Exaggeration-Minimisation', 'Exaggeration-Minimisation', 'Conversation_Killer', 'Name_Calling-Labeling', 'Exaggeration-Minimisation', 'Loaded_Language', 'Name_Calling-Labeling', 'Name_Calling-Labeling', 'Red_Herring', 'Name_Calling-Labeling', 'Red_Herring', 'Doubt', 'Name_Calling-Labeling', 'Name_Calling-Labeling', 'Name_Calling-Labeling', 'Name_Calling-Labeling', 'Name_Calling-Labeling', 'Loaded_Language', 'Loaded_Language', 'Appeal_to_Authority', 'Loaded_Language', 'Appeal_to_Authority', 'Repetition', 'Appeal_to_Fear-Prejudice', 'Doubt', 'Exaggeration-Minimisation', 'Name_Calling-Labeling', 'Exaggeration-Minimisation', 'Loaded_Language', 'Loaded_Language', 'Doubt', 'Loaded_Language', 'Doubt', 'Appeal_to_Fear-Prejudice', 'Appeal_to_Fear-Prejudice', 'Guilt_by_Association', 'Loaded_Language', 'Appeal_to_Authority', 'Repetition', 'Exaggeration-Minimisation', 'Flag_Waving', 'Repetition', 'Causal_Oversimplification', 'Loaded_Language', 'Appeal_to_Fear-Prejudice', 'Causal_Oversimplification', 'Doubt', 'Guilt_by_Association', 'Loaded_Language', 'Loaded_Language', 'Slogans', 'Guilt_by_Association', 'Loaded_Language', 'Loaded_Language', 'Name_Calling-Labeling', 'Loaded_Language', 'Loaded_Language', 'Name_Calling-Labeling', 'Name_Calling-Labeling', 'Doubt', 'Doubt', 'Name_Calling-Labeling', 'Doubt', 'Exaggeration-Minimisation', 'Doubt', 'Doubt', 'Loaded_Language', 'Doubt', 'Conversation_Killer', 'Doubt', 'Exaggeration-Minimisation', 'Appeal_to_Fear-Prejudice', 'Loaded_Language', 'Appeal_to_Fear-Prejudice', 'Appeal_to_Fear-Prejudice', 'Appeal_to_Fear-Prejudice', 'Appeal_to_Fear-Prejudice', 'Appeal_to_Fear-Prejudice', 'Name_Calling-Labeling', 'Appeal_to_Fear-Prejudice', 'Loaded_Language', 'Loaded_Language', 'False_Dilemma-No_Choice', 'Loaded_Language', 'Slogans', 'Doubt', 'Name_Calling-Labeling', 'Loaded_Language', 'Loaded_Language', 'Loaded_Language', 'Appeal_to_Fear-Prejudice', 'Flag_Waving', 'Loaded_Language', 'Repetition', 'Loaded_Language', 'Loaded_Language', 'False_Dilemma-No_Choice', 'Flag_Waving', 'Loaded_Language', 'Appeal_to_Authority', 'Name_Calling-Labeling', 'False_Dilemma-No_Choice', 'Loaded_Language', 'Flag_Waving', 'Doubt', 'Doubt', 'Loaded_Language', 'Loaded_Language', 'Appeal_to_Fear-Prejudice', 'Appeal_to_Fear-Prejudice', 'Loaded_Language', 'Appeal_to_Fear-Prejudice', 'Loaded_Language', 'Repetition', 'Repetition', 'Appeal_to_Fear-Prejudice', 'Repetition', 'Loaded_Language', 'Loaded_Language', 'Exaggeration-Minimisation', 'Exaggeration-Minimisation', 'Repetition', 'Repetition', 'Loaded_Language', 'Loaded_Language', 'Loaded_Language', 'Repetition', 'Loaded_Language', 'Loaded_Language', 'Repetition', 'Repetition', 'Name_Calling-Labeling', 'Loaded_Language', 'Loaded_Language', 'Loaded_Language', 'Repetition', 'Loaded_Language', 'Loaded_Language', 'Repetition', 'Repetition', 'Exaggeration-Minimisation', 'Loaded_Language', 'Name_Calling-Labeling', 'Name_Calling-Labeling', 'Name_Calling-Labeling', 'Loaded_Language', 'Loaded_Language', 'Loaded_Language', 'Name_Calling-Labeling', 'Name_Calling-Labeling', 'Loaded_Language', 'Name_Calling-Labeling', 'Loaded_Language', 'Loaded_Language', 'Loaded_Language', 'Loaded_Language', 'Loaded_Language', 'Loaded_Language', 'Doubt', 'Loaded_Language', 'Doubt', 'Name_Calling-Labeling', 'Name_Calling-Labeling', 'Conversation_Killer', 'Appeal_to_Fear-Prejudice', 'False_Dilemma-No_Choice', 'Appeal_to_Fear-Prejudice', 'Loaded_Language', 'Appeal_to_Fear-Prejudice', 'Appeal_to_Fear-Prejudice', 'Appeal_to_Fear-Prejudice', 'Red_Herring', 'Causal_Oversimplification', 'Loaded_Language', 'Repetition', 'Loaded_Language', 'Loaded_Language', 'Repetition', 'Loaded_Language', 'Loaded_Language', 'Appeal_to_Authority', 'Appeal_to_Authority', 'Exaggeration-Minimisation', 'Name_Calling-Labeling', 'Exaggeration-Minimisation', 'Loaded_Language', 'Exaggeration-Minimisation', 'Loaded_Language', 'Guilt_by_Association', 'Repetition', 'Straw_Man', 'Repetition', 'Exaggeration-Minimisation', 'Exaggeration-Minimisation', 'Exaggeration-Minimisation', 'Repetition', 'False_Dilemma-No_Choice', 'Name_Calling-Labeling', 'Loaded_Language', 'Loaded_Language', 'Exaggeration-Minimisation', 'Loaded_Language', 'Exaggeration-Minimisation', 'Loaded_Language', 'Repetition', 'Repetition', 'Repetition', 'Repetition', 'Repetition', 'Repetition', 'Repetition', 'Repetition', 'Repetition', 'Repetition', 'Repetition', 'Repetition', 'Repetition', 'Repetition', 'Repetition', 'Repetition', 'Repetition', 'Repetition', 'Repetition', 'Repetition', 'Repetition', 'Repetition', 'Repetition', 'Repetition', 'Repetition', 'Loaded_Language', 'Repetition', 'Loaded_Language', 'Repetition', 'Repetition', 'Repetition', 'Repetition', 'Repetition', 'Repetition', 'Name_Calling-Labeling', 'Loaded_Language', 'Loaded_Language', 'Name_Calling-Labeling', 'Loaded_Language', 'Repetition', 'Appeal_to_Fear-Prejudice', 'Repetition', 'Repetition', 'Repetition', 'Repetition', 'Repetition', 'Repetition', 'Repetition', 'Repetition', 'Repetition', 'Repetition', 'Repetition', 'Repetition', 'Repetition', 'Name_Calling-Labeling', 'Exaggeration-Minimisation', 'Loaded_Language', 'Loaded_Language', 'Loaded_Language', 'Name_Calling-Labeling', 'Name_Calling-Labeling', 'Name_Calling-Labeling', 'Repetition', 'Loaded_Language', 'Name_Calling-Labeling', 'Appeal_to_Fear-Prejudice', 'Loaded_Language', 'Doubt', 'Name_Calling-Labeling', 'Doubt', 'Repetition', 'Doubt', 'Name_Calling-Labeling', 'Conversation_Killer', 'Loaded_Language', 'Loaded_Language', 'Slogans', 'Flag_Waving', 'Causal_Oversimplification', 'Flag_Waving', 'Loaded_Language', 'Exaggeration-Minimisation', 'Loaded_Language', 'Loaded_Language', 'Loaded_Language', 'Repetition', 'Loaded_Language', 'Repetition', 'Appeal_to_Fear-Prejudice', 'Repetition', 'Appeal_to_Fear-Prejudice', 'Appeal_to_Fear-Prejudice', 'Repetition', 'Repetition', 'Loaded_Language', 'Repetition', 'Repetition', 'Appeal_to_Fear-Prejudice', 'Doubt', 'Doubt', 'Doubt', 'Loaded_Language', 'Loaded_Language', 'Name_Calling-Labeling', 'Doubt', 'Loaded_Language', 'Name_Calling-Labeling', 'Name_Calling-Labeling', 'Exaggeration-Minimisation', 'Loaded_Language', 'Name_Calling-Labeling', 'Exaggeration-Minimisation', 'Exaggeration-Minimisation', 'Loaded_Language', 'Loaded_Language', 'Loaded_Language', 'Name_Calling-Labeling', 'Name_Calling-Labeling', 'Repetition', 'Name_Calling-Labeling', 'Loaded_Language', 'Doubt', 'Loaded_Language', 'Exaggeration-Minimisation', 'Name_Calling-Labeling', 'Name_Calling-Labeling', 'Causal_Oversimplification', 'Loaded_Language', 'Name_Calling-Labeling', 'Loaded_Language', 'Name_Calling-Labeling', 'Appeal_to_Fear-Prejudice', 'Loaded_Language', 'Loaded_Language', 'Causal_Oversimplification', 'Loaded_Language', 'Loaded_Language', 'Causal_Oversimplification', 'Name_Calling-Labeling', 'Name_Calling-Labeling', 'Repetition', 'Name_Calling-Labeling', 'Repetition', 'Loaded_Language', 'Flag_Waving', 'Appeal_to_Hypocrisy', 'Loaded_Language', 'Loaded_Language', 'Loaded_Language', 'Appeal_to_Hypocrisy', 'Appeal_to_Hypocrisy', 'Appeal_to_Fear-Prejudice', 'Loaded_Language', 'Name_Calling-Labeling', 'Loaded_Language', 'Name_Calling-Labeling', 'Loaded_Language', 'False_Dilemma-No_Choice', 'Loaded_Language', 'Loaded_Language', 'Loaded_Language', 'Loaded_Language', 'False_Dilemma-No_Choice', 'Appeal_to_Fear-Prejudice', 'Appeal_to_Fear-Prejudice', 'Exaggeration-Minimisation', 'False_Dilemma-No_Choice', 'Loaded_Language', 'Loaded_Language', 'Loaded_Language', 'Loaded_Language', 'Loaded_Language', 'Loaded_Language', 'Repetition', 'Repetition', 'Name_Calling-Labeling', 'Loaded_Language', 'Loaded_Language', 'Loaded_Language', 'Loaded_Language', 'Repetition', 'Loaded_Language', 'Loaded_Language', 'Loaded_Language', 'Exaggeration-Minimisation', 'Exaggeration-Minimisation', 'Loaded_Language', 'Loaded_Language', 'Loaded_Language', 'Loaded_Language', 'Loaded_Language', 'Doubt', 'Loaded_Language', 'Repetition', 'Loaded_Language', 'Loaded_Language', 'Loaded_Language', 'Appeal_to_Fear-Prejudice', 'Repetition', 'Name_Calling-Labeling', 'Loaded_Language', 'Slogans', 'Loaded_Language', 'Repetition', 'Repetition', 'Repetition', 'Repetition', 'Repetition', 'Repetition', 'Repetition', 'Repetition', 'Repetition', 'Loaded_Language', 'Repetition', 'Repetition', 'Repetition', 'Repetition', 'Repetition', 'Repetition', 'Repetition', 'Repetition', 'Loaded_Language', 'Repetition', 'Repetition', 'Repetition', 'Repetition', 'Repetition', 'Causal_Oversimplification', 'Flag_Waving', 'Loaded_Language', 'Flag_Waving', 'Flag_Waving', 'Slogans', 'False_Dilemma-No_Choice', 'Loaded_Language', 'Loaded_Language', 'Slogans', 'Loaded_Language', 'False_Dilemma-No_Choice', 'Name_Calling-Labeling', 'Exaggeration-Minimisation', 'Exaggeration-Minimisation', 'Slogans', 'Name_Calling-Labeling', 'Name_Calling-Labeling', 'Flag_Waving', 'Causal_Oversimplification', 'Causal_Oversimplification', 'Exaggeration-Minimisation', 'Loaded_Language', 'False_Dilemma-No_Choice', 'Slogans', 'Name_Calling-Labeling', 'Slogans', 'Name_Calling-Labeling', 'Appeal_to_Hypocrisy', 'Loaded_Language', 'Name_Calling-Labeling', 'Flag_Waving', 'Loaded_Language', 'Exaggeration-Minimisation', 'Causal_Oversimplification', 'Doubt', 'Doubt', 'Flag_Waving', 'Doubt', 'Slogans', 'Flag_Waving', 'Loaded_Language', 'Loaded_Language', 'Loaded_Language', 'Loaded_Language', 'Loaded_Language', 'Loaded_Language', 'Flag_Waving', 'Name_Calling-Labeling', 'Loaded_Language', 'Exaggeration-Minimisation', 'Name_Calling-Labeling', 'Exaggeration-Minimisation', 'Loaded_Language', 'Doubt', 'Loaded_Language', 'Loaded_Language', 'Loaded_Language', 'Name_Calling-Labeling', 'Doubt', 'Flag_Waving', 'Repetition', 'False_Dilemma-No_Choice', 'False_Dilemma-No_Choice', 'Conversation_Killer', 'Exaggeration-Minimisation', 'Flag_Waving', 'Loaded_Language', 'Name_Calling-Labeling', 'Loaded_Language', 'Loaded_Language', 'Loaded_Language', 'Name_Calling-Labeling', 'Loaded_Language', 'Loaded_Language', 'Flag_Waving', 'Loaded_Language', 'Slogans', 'Appeal_to_Hypocrisy', 'Appeal_to_Hypocrisy', 'Causal_Oversimplification', 'Exaggeration-Minimisation', 'Repetition', 'Loaded_Language', 'Appeal_to_Hypocrisy', 'Appeal_to_Hypocrisy', 'Loaded_Language', 'Name_Calling-Labeling', 'Causal_Oversimplification', 'Loaded_Language', 'Flag_Waving', 'Name_Calling-Labeling', 'Flag_Waving', 'Loaded_Language', 'Loaded_Language', 'Flag_Waving', 'Flag_Waving', 'False_Dilemma-No_Choice', 'Conversation_Killer', 'Appeal_to_Fear-Prejudice', 'False_Dilemma-No_Choice', 'Exaggeration-Minimisation', 'Exaggeration-Minimisation', 'Exaggeration-Minimisation', 'False_Dilemma-No_Choice', 'Loaded_Language', 'Guilt_by_Association', 'Appeal_to_Fear-Prejudice', 'Loaded_Language', 'Slogans', 'Repetition', 'Slogans', 'Repetition', 'Loaded_Language', 'Loaded_Language', 'Loaded_Language', 'Causal_Oversimplification', 'Loaded_Language', 'Causal_Oversimplification', 'Loaded_Language', 'Loaded_Language', 'Name_Calling-Labeling', 'Flag_Waving', 'Loaded_Language', 'Loaded_Language', 'Repetition', 'Loaded_Language', 'Loaded_Language', 'Loaded_Language', 'Loaded_Language', 'Causal_Oversimplification', 'Loaded_Language', 'Loaded_Language', 'Loaded_Language', 'Repetition', 'Loaded_Language', 'Conversation_Killer', 'Doubt', 'Name_Calling-Labeling', 'Name_Calling-Labeling', 'False_Dilemma-No_Choice', 'Name_Calling-Labeling', 'Flag_Waving', 'Name_Calling-Labeling', 'Loaded_Language', 'Loaded_Language', 'False_Dilemma-No_Choice', 'Loaded_Language', 'Loaded_Language', 'Name_Calling-Labeling', 'Exaggeration-Minimisation', 'Loaded_Language', 'Loaded_Language', 'Loaded_Language', 'Flag_Waving', 'Loaded_Language', 'Flag_Waving', 'Name_Calling-Labeling', 'Exaggeration-Minimisation', 'Name_Calling-Labeling', 'Appeal_to_Fear-Prejudice', 'Repetition', 'Loaded_Language', 'Appeal_to_Fear-Prejudice', 'Repetition', 'Loaded_Language', 'Flag_Waving', 'Doubt', 'Doubt', 'Flag_Waving', 'Loaded_Language', 'Loaded_Language', 'Loaded_Language', 'Straw_Man', 'Straw_Man', 'Loaded_Language', 'Loaded_Language', 'Doubt', 'Name_Calling-Labeling', 'Exaggeration-Minimisation', 'Exaggeration-Minimisation', 'Loaded_Language', 'Loaded_Language', 'Repetition', 'Repetition', 'Exaggeration-Minimisation', 'Flag_Waving', 'Exaggeration-Minimisation', 'Loaded_Language', 'Flag_Waving', 'Flag_Waving', 'Exaggeration-Minimisation', 'Exaggeration-Minimisation', 'Repetition', 'Repetition', 'Repetition', 'Repetition', 'Name_Calling-Labeling', 'Exaggeration-Minimisation', 'Exaggeration-Minimisation', 'Name_Calling-Labeling', 'Loaded_Language', 'Loaded_Language', 'Red_Herring', 'Name_Calling-Labeling', 'Loaded_Language', 'Name_Calling-Labeling', 'Loaded_Language', 'Loaded_Language', 'Loaded_Language', 'Loaded_Language', 'Exaggeration-Minimisation', 'Loaded_Language', 'Name_Calling-Labeling', 'Name_Calling-Labeling', 'Doubt', 'Loaded_Language', 'Loaded_Language', 'Loaded_Language', 'Loaded_Language', 'Loaded_Language', 'Exaggeration-Minimisation', 'Exaggeration-Minimisation', 'Repetition', 'Repetition', 'Exaggeration-Minimisation', 'Exaggeration-Minimisation', 'Name_Calling-Labeling', 'Name_Calling-Labeling', 'Name_Calling-Labeling', 'Exaggeration-Minimisation', 'Repetition', 'Repetition', 'Slogans', 'Repetition', 'Loaded_Language', 'Loaded_Language', 'Loaded_Language', 'Repetition', 'Repetition', 'Appeal_to_Fear-Prejudice', 'Loaded_Language', 'Flag_Waving', 'Loaded_Language', 'Loaded_Language', 'Loaded_Language', 'Loaded_Language', 'Name_Calling-Labeling', 'Repetition', 'Loaded_Language', 'Repetition', 'Repetition', 'Loaded_Language', 'Exaggeration-Minimisation', 'Loaded_Language', 'Repetition', 'Repetition', 'Loaded_Language', 'Loaded_Language', 'Repetition', 'Repetition', 'Repetition', 'Loaded_Language', 'Repetition', 'Repetition', 'Repetition', 'Repetition', 'Causal_Oversimplification', 'Exaggeration-Minimisation', 'Loaded_Language', 'Loaded_Language', 'Loaded_Language', 'Flag_Waving', 'Loaded_Language', 'Exaggeration-Minimisation', 'Doubt', 'Loaded_Language', 'Name_Calling-Labeling', 'Loaded_Language', 'Loaded_Language', 'Loaded_Language', 'Loaded_Language', 'Repetition', 'Repetition', 'Loaded_Language', 'Name_Calling-Labeling', 'Repetition', 'Doubt', 'Repetition', 'Loaded_Language', 'Loaded_Language', 'Repetition', 'Doubt', 'Loaded_Language', 'Loaded_Language', 'Doubt', 'Doubt', 'Loaded_Language', 'Loaded_Language', 'Loaded_Language', 'Doubt', 'Repetition', 'Name_Calling-Labeling', 'Appeal_to_Fear-Prejudice', 'Loaded_Language', 'Name_Calling-Labeling', 'Name_Calling-Labeling', 'Loaded_Language', 'Exaggeration-Minimisation', 'Loaded_Language', 'Loaded_Language', 'Name_Calling-Labeling', 'Name_Calling-Labeling', 'Loaded_Language', 'Loaded_Language', 'Appeal_to_Fear-Prejudice', 'Loaded_Language', 'Name_Calling-Labeling', 'Loaded_Language', 'Loaded_Language', 'Exaggeration-Minimisation', 'Loaded_Language', 'Name_Calling-Labeling', 'Exaggeration-Minimisation', 'Exaggeration-Minimisation', 'Appeal_to_Authority', 'Exaggeration-Minimisation', 'Exaggeration-Minimisation', 'Loaded_Language', 'Loaded_Language', 'Flag_Waving', 'Name_Calling-Labeling', 'Loaded_Language', 'Name_Calling-Labeling', 'Name_Calling-Labeling', 'Exaggeration-Minimisation', 'Exaggeration-Minimisation', 'Loaded_Language', 'Exaggeration-Minimisation', 'Loaded_Language', 'Loaded_Language', 'Exaggeration-Minimisation', 'Loaded_Language', 'Exaggeration-Minimisation', 'Name_Calling-Labeling', 'Loaded_Language', 'Name_Calling-Labeling', 'Name_Calling-Labeling', 'Loaded_Language', 'Loaded_Language', 'Loaded_Language', 'Exaggeration-Minimisation', 'Loaded_Language', 'Loaded_Language', 'Name_Calling-Labeling', 'Name_Calling-Labeling', 'Loaded_Language', 'Loaded_Language', 'Loaded_Language', 'Name_Calling-Labeling', 'Loaded_Language', 'Loaded_Language', 'Loaded_Language', 'Loaded_Language', 'Loaded_Language', 'Repetition', 'Exaggeration-Minimisation', 'Repetition', 'Loaded_Language', 'Exaggeration-Minimisation', 'Loaded_Language', 'Appeal_to_Hypocrisy', 'Loaded_Language', 'Exaggeration-Minimisation', 'Loaded_Language', 'Repetition', 'Loaded_Language', 'Whataboutism', 'Loaded_Language', 'Loaded_Language', 'Whataboutism', 'Loaded_Language', 'Flag_Waving', 'Name_Calling-Labeling', 'Repetition', 'Slogans', 'Slogans', 'Repetition', 'Slogans', 'Repetition', 'False_Dilemma-No_Choice', 'Exaggeration-Minimisation', 'Appeal_to_Fear-Prejudice', 'Name_Calling-Labeling', 'Loaded_Language', 'False_Dilemma-No_Choice', 'Repetition', 'Straw_Man', 'Repetition', 'Loaded_Language', 'Flag_Waving', 'Loaded_Language', 'Flag_Waving', 'Loaded_Language', 'False_Dilemma-No_Choice', 'False_Dilemma-No_Choice', 'Slogans', 'Slogans', 'Slogans', 'Slogans', 'Slogans', 'Flag_Waving', 'Slogans', 'Flag_Waving', 'Slogans', 'Flag_Waving', 'Repetition', 'Repetition', 'Repetition', 'Repetition', 'Flag_Waving', 'Slogans', 'Flag_Waving', 'Slogans', 'False_Dilemma-No_Choice', 'Slogans', 'Loaded_Language', 'Name_Calling-Labeling', 'Appeal_to_Fear-Prejudice', 'Name_Calling-Labeling', 'Appeal_to_Fear-Prejudice', 'Name_Calling-Labeling', 'Repetition', 'Flag_Waving', 'Flag_Waving', 'Loaded_Language', 'Flag_Waving', 'False_Dilemma-No_Choice', 'Slogans', 'Appeal_to_Hypocrisy', 'Repetition', 'Flag_Waving', 'Repetition', 'Flag_Waving', 'Flag_Waving', 'Flag_Waving', 'Appeal_to_Hypocrisy', 'Repetition', 'Repetition', 'Loaded_Language', 'Repetition', 'Repetition', 'Repetition', 'Repetition', 'Repetition', 'Loaded_Language', 'Repetition', 'Repetition', 'Loaded_Language', 'Exaggeration-Minimisation', 'Repetition', 'Slogans', 'Flag_Waving', 'Slogans', 'Flag_Waving', 'Flag_Waving', 'False_Dilemma-No_Choice', 'Loaded_Language', 'Loaded_Language', 'Repetition', 'Loaded_Language', 'Loaded_Language', 'Repetition', 'Exaggeration-Minimisation', 'Loaded_Language', 'Repetition', 'Loaded_Language', 'Loaded_Language', 'Name_Calling-Labeling', 'Loaded_Language', 'Exaggeration-Minimisation', 'False_Dilemma-No_Choice', 'Slogans', 'Repetition', 'Repetition', 'Slogans', 'Repetition', 'Repetition', 'Flag_Waving', 'Flag_Waving', 'Loaded_Language', 'Loaded_Language', 'Loaded_Language', 'Doubt', 'Loaded_Language', 'Loaded_Language', 'Loaded_Language', 'Loaded_Language', 'Repetition', 'Repetition', 'Repetition', 'Repetition', 'Repetition', 'Repetition', 'Repetition', 'Repetition', 'Loaded_Language', 'Doubt', 'Loaded_Language', 'Repetition', 'Exaggeration-Minimisation', 'Doubt', 'Loaded_Language', 'Loaded_Language', 'Loaded_Language', 'Flag_Waving', 'Loaded_Language', 'Loaded_Language', 'Loaded_Language', 'Doubt', 'Loaded_Language', 'Loaded_Language', 'Loaded_Language', 'Loaded_Language', 'Loaded_Language', 'Doubt', 'Loaded_Language', 'Loaded_Language', 'Doubt', 'Doubt', 'Loaded_Language', 'Name_Calling-Labeling', 'Loaded_Language', 'Loaded_Language', 'Repetition', 'Loaded_Language', 'Appeal_to_Authority', 'Loaded_Language', 'Loaded_Language', 'Name_Calling-Labeling', 'Causal_Oversimplification', 'Loaded_Language', 'Appeal_to_Fear-Prejudice', 'Name_Calling-Labeling', 'Doubt', 'Doubt', 'Exaggeration-Minimisation', 'Loaded_Language', 'Name_Calling-Labeling', 'Loaded_Language', 'Doubt', 'Appeal_to_Fear-Prejudice', 'Doubt', 'Doubt', 'Doubt', 'Exaggeration-Minimisation', 'Exaggeration-Minimisation', 'Causal_Oversimplification', 'False_Dilemma-No_Choice', 'Doubt', 'Doubt', 'Name_Calling-Labeling', 'Whataboutism', 'Doubt', 'Loaded_Language', 'Loaded_Language', 'Loaded_Language', 'Exaggeration-Minimisation', 'Loaded_Language', 'Doubt', 'Appeal_to_Fear-Prejudice', 'False_Dilemma-No_Choice', 'Repetition', 'Loaded_Language', 'Doubt', 'Loaded_Language', 'Exaggeration-Minimisation', 'Loaded_Language', 'Doubt', 'Exaggeration-Minimisation', 'Guilt_by_Association', 'Loaded_Language', 'Loaded_Language', 'Doubt', 'Loaded_Language', 'Doubt', 'Loaded_Language', 'Loaded_Language', 'Name_Calling-Labeling', 'Loaded_Language', 'Loaded_Language', 'Causal_Oversimplification', 'Flag_Waving', 'False_Dilemma-No_Choice', 'Flag_Waving', 'Name_Calling-Labeling', 'Doubt', 'False_Dilemma-No_Choice', 'Loaded_Language', 'Flag_Waving', 'False_Dilemma-No_Choice', 'Repetition', 'Repetition', 'Loaded_Language', 'Repetition', 'False_Dilemma-No_Choice', 'Flag_Waving', 'Loaded_Language', 'Loaded_Language', 'Appeal_to_Hypocrisy', 'Doubt', 'Doubt', 'Causal_Oversimplification', 'False_Dilemma-No_Choice', 'Name_Calling-Labeling', 'Guilt_by_Association', 'Guilt_by_Association', 'Appeal_to_Fear-Prejudice', 'Loaded_Language', 'Repetition', 'Repetition', 'Repetition', 'Appeal_to_Fear-Prejudice', 'Appeal_to_Fear-Prejudice', 'Repetition', 'Loaded_Language', 'Causal_Oversimplification', 'Loaded_Language', 'Appeal_to_Fear-Prejudice', 'Exaggeration-Minimisation', 'Doubt', 'Exaggeration-Minimisation', 'Conversation_Killer', 'Loaded_Language', 'Name_Calling-Labeling', 'Appeal_to_Fear-Prejudice', 'Exaggeration-Minimisation', 'Repetition', 'Loaded_Language', 'Exaggeration-Minimisation', 'Repetition', 'Doubt', 'Exaggeration-Minimisation', 'Name_Calling-Labeling', 'Name_Calling-Labeling', 'Appeal_to_Fear-Prejudice', 'Doubt', 'Loaded_Language', 'Name_Calling-Labeling', 'Exaggeration-Minimisation', 'Repetition', 'Exaggeration-Minimisation', 'Repetition', 'Appeal_to_Authority', 'Exaggeration-Minimisation', 'Appeal_to_Authority', 'Exaggeration-Minimisation', 'Appeal_to_Authority', 'Loaded_Language', 'Appeal_to_Fear-Prejudice', 'Name_Calling-Labeling', 'Name_Calling-Labeling', 'Appeal_to_Authority', 'Loaded_Language', 'Name_Calling-Labeling', 'Causal_Oversimplification', 'Name_Calling-Labeling', 'Loaded_Language', 'Loaded_Language', 'Loaded_Language', 'Name_Calling-Labeling', 'Repetition', 'Appeal_to_Authority', 'Loaded_Language', 'Exaggeration-Minimisation', 'Name_Calling-Labeling', 'Exaggeration-Minimisation', 'Exaggeration-Minimisation', 'Loaded_Language', 'Exaggeration-Minimisation', 'Repetition', 'Whataboutism', 'Doubt', 'Name_Calling-Labeling', 'Appeal_to_Fear-Prejudice', 'Appeal_to_Fear-Prejudice', 'Flag_Waving', 'Loaded_Language', 'Exaggeration-Minimisation', 'Loaded_Language', 'Name_Calling-Labeling', 'Loaded_Language', 'Exaggeration-Minimisation', 'Loaded_Language', 'Loaded_Language', 'Exaggeration-Minimisation', 'Loaded_Language', 'Name_Calling-Labeling', 'Name_Calling-Labeling', 'Guilt_by_Association', 'Loaded_Language', 'Name_Calling-Labeling', 'Loaded_Language', 'Name_Calling-Labeling', 'Doubt', 'Loaded_Language', 'Loaded_Language', 'Doubt', 'Name_Calling-Labeling', 'Exaggeration-Minimisation', 'Loaded_Language', 'Name_Calling-Labeling', 'Loaded_Language', 'Flag_Waving', 'Name_Calling-Labeling', 'Name_Calling-Labeling', 'Doubt', 'Loaded_Language', 'Loaded_Language', 'Loaded_Language', 'Name_Calling-Labeling', 'Loaded_Language', 'Exaggeration-Minimisation', 'Name_Calling-Labeling', 'Red_Herring', 'Loaded_Language', 'Loaded_Language', 'Appeal_to_Hypocrisy', 'Loaded_Language', 'Exaggeration-Minimisation', 'Loaded_Language', 'Exaggeration-Minimisation', 'Loaded_Language', 'Name_Calling-Labeling', 'Loaded_Language', 'Loaded_Language', 'Loaded_Language', 'Loaded_Language', 'Loaded_Language', 'Causal_Oversimplification', 'Loaded_Language', 'Loaded_Language', 'Exaggeration-Minimisation', 'Name_Calling-Labeling', 'Name_Calling-Labeling', 'Loaded_Language', 'Name_Calling-Labeling', 'Name_Calling-Labeling', 'Exaggeration-Minimisation', 'Loaded_Language', 'Exaggeration-Minimisation', 'Loaded_Language', 'Loaded_Language', 'Appeal_to_Hypocrisy', 'Loaded_Language', 'Loaded_Language', 'Loaded_Language', 'Exaggeration-Minimisation', 'Doubt', 'Repetition', 'Loaded_Language', 'Name_Calling-Labeling', 'Loaded_Language', 'Appeal_to_Fear-Prejudice', 'Flag_Waving', 'Exaggeration-Minimisation', 'False_Dilemma-No_Choice', 'Loaded_Language', 'Slogans', 'Loaded_Language', 'Repetition', 'Doubt', 'Repetition', 'False_Dilemma-No_Choice', 'Repetition', 'Repetition', 'Name_Calling-Labeling', 'Loaded_Language', 'Repetition', 'Slogans', 'Flag_Waving', 'Flag_Waving', 'False_Dilemma-No_Choice', 'Repetition', 'Flag_Waving', 'Flag_Waving', 'False_Dilemma-No_Choice', 'Repetition', 'Repetition', 'Exaggeration-Minimisation', 'Loaded_Language', 'Repetition', 'Loaded_Language', 'Loaded_Language', 'Loaded_Language', 'Repetition', 'Loaded_Language', 'Name_Calling-Labeling', 'Exaggeration-Minimisation', 'Doubt', 'Repetition', 'Loaded_Language', 'Loaded_Language', 'Doubt', 'Loaded_Language', 'Exaggeration-Minimisation', 'Loaded_Language', 'Causal_Oversimplification', 'Doubt', 'Loaded_Language', 'Name_Calling-Labeling', 'Loaded_Language', 'Name_Calling-Labeling', 'Guilt_by_Association', 'Exaggeration-Minimisation', 'Loaded_Language', 'Exaggeration-Minimisation', 'Loaded_Language', 'Appeal_to_Hypocrisy', 'Loaded_Language', 'Name_Calling-Labeling', 'Loaded_Language', 'Doubt', 'Name_Calling-Labeling', 'Exaggeration-Minimisation', 'Name_Calling-Labeling', 'Repetition', 'Loaded_Language', 'Loaded_Language', 'Name_Calling-Labeling', 'Name_Calling-Labeling', 'Conversation_Killer', 'Loaded_Language', 'Name_Calling-Labeling', 'Slogans', 'Doubt', 'Repetition', 'Loaded_Language', 'Repetition', 'Repetition', 'Doubt', 'Loaded_Language', 'Loaded_Language', 'Repetition', 'Name_Calling-Labeling', 'Repetition', 'Repetition', 'Repetition', 'Doubt', 'Appeal_to_Authority', 'Loaded_Language', 'Loaded_Language', 'Appeal_to_Fear-Prejudice', 'Loaded_Language', 'Appeal_to_Authority', 'Loaded_Language', 'Loaded_Language', 'Appeal_to_Authority', 'Loaded_Language', 'Loaded_Language', 'Repetition', 'Repetition', 'Loaded_Language', 'Loaded_Language', 'Exaggeration-Minimisation', 'Repetition', 'Repetition', 'Doubt', 'Repetition', 'Loaded_Language', 'Doubt', 'Straw_Man', 'Repetition', 'Whataboutism', 'Repetition', 'Repetition', 'Repetition', 'Repetition', 'Loaded_Language', 'Repetition', 'Loaded_Language', 'Whataboutism', 'Appeal_to_Fear-Prejudice', 'Loaded_Language', 'Repetition', 'Loaded_Language', 'Repetition', 'Whataboutism', 'Repetition', 'Loaded_Language', 'Repetition', 'Loaded_Language', 'Repetition', 'Repetition', 'Loaded_Language', 'Loaded_Language', 'Repetition', 'Exaggeration-Minimisation', 'Loaded_Language', 'Repetition', 'Guilt_by_Association', 'Causal_Oversimplification', 'Repetition', 'Exaggeration-Minimisation', 'Name_Calling-Labeling', 'Name_Calling-Labeling', 'Name_Calling-Labeling', 'Name_Calling-Labeling', 'Loaded_Language', 'Name_Calling-Labeling', 'Loaded_Language', 'Name_Calling-Labeling', 'Name_Calling-Labeling', 'Loaded_Language', 'Exaggeration-Minimisation', 'Loaded_Language', 'Loaded_Language', 'Name_Calling-Labeling', 'Loaded_Language', 'Name_Calling-Labeling', 'Loaded_Language', 'Loaded_Language', 'Loaded_Language', 'Flag_Waving', 'Slogans', 'Exaggeration-Minimisation', 'Doubt', 'Appeal_to_Fear-Prejudice', 'Loaded_Language', 'Exaggeration-Minimisation', 'Exaggeration-Minimisation', 'Loaded_Language', 'Loaded_Language', 'Name_Calling-Labeling', 'Loaded_Language', 'Slogans', 'Flag_Waving', 'Straw_Man', 'Loaded_Language', 'Slogans', 'Flag_Waving', 'Loaded_Language', 'Loaded_Language', 'Name_Calling-Labeling', 'Doubt', 'Loaded_Language', 'Flag_Waving', 'Loaded_Language', 'Name_Calling-Labeling', 'Doubt', 'Doubt', 'Loaded_Language', 'Doubt', 'Loaded_Language', 'Loaded_Language', 'Exaggeration-Minimisation', 'Slogans', 'Slogans', 'Loaded_Language', 'Name_Calling-Labeling', 'Slogans', 'Repetition', 'Slogans', 'Loaded_Language', 'Repetition', 'Loaded_Language', 'Name_Calling-Labeling', 'Flag_Waving', 'Name_Calling-Labeling', 'Loaded_Language', 'Name_Calling-Labeling', 'Repetition', 'Exaggeration-Minimisation', 'Name_Calling-Labeling', 'Repetition', 'Loaded_Language', 'Slogans', 'Repetition', 'Name_Calling-Labeling', 'Name_Calling-Labeling', 'Name_Calling-Labeling', 'Loaded_Language', 'Loaded_Language', 'Loaded_Language', 'Exaggeration-Minimisation', 'Loaded_Language', 'Slogans', 'Name_Calling-Labeling', 'Exaggeration-Minimisation', 'Flag_Waving', 'Loaded_Language', 'Loaded_Language', 'Slogans', 'Loaded_Language', 'Flag_Waving', 'Name_Calling-Labeling', 'Slogans', 'Loaded_Language', 'Loaded_Language', 'False_Dilemma-No_Choice', 'Name_Calling-Labeling', 'Doubt', 'Name_Calling-Labeling', 'Appeal_to_Fear-Prejudice', 'Slogans', 'Flag_Waving', 'Slogans', 'Name_Calling-Labeling', 'Loaded_Language', 'Causal_Oversimplification', 'Name_Calling-Labeling', 'Doubt', 'Name_Calling-Labeling', 'Doubt', 'Causal_Oversimplification', 'Name_Calling-Labeling', 'Loaded_Language', 'Causal_Oversimplification', 'Name_Calling-Labeling', 'Doubt', 'Loaded_Language', 'Flag_Waving', 'Name_Calling-Labeling', 'Loaded_Language', 'Doubt', 'Doubt', 'Repetition', 'Loaded_Language', 'Causal_Oversimplification', 'Name_Calling-Labeling', 'Name_Calling-Labeling', 'Loaded_Language', 'Causal_Oversimplification', 'Loaded_Language', 'Loaded_Language', 'Loaded_Language', 'Loaded_Language', 'Exaggeration-Minimisation', 'Name_Calling-Labeling', 'Slogans', 'Loaded_Language', 'Repetition', 'Appeal_to_Fear-Prejudice', 'Appeal_to_Fear-Prejudice', 'Loaded_Language', 'Loaded_Language', 'Appeal_to_Fear-Prejudice', 'Loaded_Language', 'Exaggeration-Minimisation', 'Repetition', 'Loaded_Language', 'Name_Calling-Labeling', 'Flag_Waving', 'Appeal_to_Fear-Prejudice', 'Loaded_Language', 'Repetition', 'Loaded_Language', 'Appeal_to_Hypocrisy', 'Loaded_Language', 'Name_Calling-Labeling', 'Exaggeration-Minimisation', 'Name_Calling-Labeling', 'Loaded_Language', 'Repetition', 'Name_Calling-Labeling', 'Exaggeration-Minimisation', 'Repetition', 'Loaded_Language', 'Repetition', 'Loaded_Language', 'Name_Calling-Labeling', 'Name_Calling-Labeling', 'Name_Calling-Labeling', 'Loaded_Language', 'False_Dilemma-No_Choice', 'False_Dilemma-No_Choice', 'Loaded_Language', 'Conversation_Killer', 'Loaded_Language', 'Repetition', 'Conversation_Killer', 'Loaded_Language', 'Loaded_Language', 'Loaded_Language', 'Flag_Waving', 'Loaded_Language', 'Loaded_Language', 'Loaded_Language', 'Doubt', 'Loaded_Language', 'Loaded_Language', 'Loaded_Language', 'Loaded_Language', 'Loaded_Language', 'Name_Calling-Labeling', 'Loaded_Language', 'Loaded_Language', 'Name_Calling-Labeling', 'Appeal_to_Fear-Prejudice', 'Loaded_Language', 'Loaded_Language', 'Loaded_Language', 'Loaded_Language', 'Loaded_Language', 'Loaded_Language', 'Repetition', 'Loaded_Language', 'Doubt', 'Name_Calling-Labeling', 'Doubt', 'Repetition', 'Doubt', 'Doubt', 'Loaded_Language', 'Loaded_Language', 'Exaggeration-Minimisation', 'Causal_Oversimplification', 'Loaded_Language', 'Appeal_to_Fear-Prejudice', 'Name_Calling-Labeling', 'Name_Calling-Labeling', 'Name_Calling-Labeling', 'Loaded_Language', 'Repetition', 'Repetition', 'Repetition', 'Name_Calling-Labeling', 'Name_Calling-Labeling', 'Slogans', 'Flag_Waving', 'False_Dilemma-No_Choice', 'Name_Calling-Labeling', 'Loaded_Language', 'Loaded_Language', 'Exaggeration-Minimisation', 'Loaded_Language', 'Exaggeration-Minimisation', 'Causal_Oversimplification', 'Exaggeration-Minimisation', 'Loaded_Language', 'Loaded_Language', 'Loaded_Language', 'Name_Calling-Labeling', 'False_Dilemma-No_Choice', 'Loaded_Language', 'Repetition', 'Name_Calling-Labeling', 'Name_Calling-Labeling', 'Flag_Waving', 'Loaded_Language', 'Loaded_Language', 'Loaded_Language', 'Loaded_Language', 'Flag_Waving', 'Exaggeration-Minimisation', 'Loaded_Language', 'Loaded_Language', 'Loaded_Language', 'Name_Calling-Labeling', 'Name_Calling-Labeling', 'Name_Calling-Labeling', 'Name_Calling-Labeling', 'Loaded_Language', 'Name_Calling-Labeling', 'Loaded_Language', 'Loaded_Language', 'Loaded_Language', 'Loaded_Language', 'Loaded_Language', 'Name_Calling-Labeling', 'Loaded_Language', 'Name_Calling-Labeling', 'Name_Calling-Labeling', 'Exaggeration-Minimisation', 'Repetition', 'Loaded_Language', 'Loaded_Language', 'Exaggeration-Minimisation', 'Name_Calling-Labeling', 'Repetition', 'Loaded_Language', 'Obfuscation-Vagueness-Confusion', 'Repetition', 'Name_Calling-Labeling', 'Loaded_Language', 'Loaded_Language', 'Straw_Man', 'Loaded_Language', 'Repetition', 'Loaded_Language', 'Loaded_Language', 'Slogans', 'Slogans', 'Repetition', 'Loaded_Language', 'Loaded_Language', 'Loaded_Language', 'Name_Calling-Labeling', 'Repetition', 'Repetition', 'Slogans', 'Repetition', 'Repetition', 'Repetition', 'Repetition', 'Exaggeration-Minimisation', 'Name_Calling-Labeling', 'Causal_Oversimplification', 'Loaded_Language', 'Causal_Oversimplification', 'Exaggeration-Minimisation', 'Name_Calling-Labeling', 'Appeal_to_Fear-Prejudice', 'Appeal_to_Fear-Prejudice', 'Name_Calling-Labeling', 'Straw_Man', 'Exaggeration-Minimisation', 'Conversation_Killer', 'Exaggeration-Minimisation', 'Name_Calling-Labeling', 'Loaded_Language', 'Causal_Oversimplification', 'Exaggeration-Minimisation', 'Name_Calling-Labeling', 'Exaggeration-Minimisation', 'Conversation_Killer', 'Exaggeration-Minimisation', 'Name_Calling-Labeling', 'Loaded_Language', 'Appeal_to_Authority', 'Loaded_Language', 'Name_Calling-Labeling', 'Loaded_Language', 'Loaded_Language', 'Exaggeration-Minimisation', 'Exaggeration-Minimisation', 'Doubt', 'Flag_Waving', 'Exaggeration-Minimisation', 'Name_Calling-Labeling', 'Conversation_Killer', 'Loaded_Language', 'Repetition', 'Repetition', 'Exaggeration-Minimisation', 'Flag_Waving', 'Name_Calling-Labeling', 'Loaded_Language', 'Exaggeration-Minimisation', 'Flag_Waving', 'Loaded_Language', 'Appeal_to_Hypocrisy', 'Name_Calling-Labeling', 'Causal_Oversimplification', 'Flag_Waving', 'False_Dilemma-No_Choice', 'Name_Calling-Labeling', 'Loaded_Language', 'Name_Calling-Labeling', 'Loaded_Language', 'Name_Calling-Labeling', 'Flag_Waving', 'Loaded_Language', 'Name_Calling-Labeling', 'Loaded_Language', 'Name_Calling-Labeling', 'Flag_Waving', 'Name_Calling-Labeling', 'Flag_Waving', 'Name_Calling-Labeling', 'Flag_Waving', 'Name_Calling-Labeling', 'False_Dilemma-No_Choice', 'Conversation_Killer', 'Loaded_Language', 'Loaded_Language', 'Flag_Waving', 'Name_Calling-Labeling', 'Loaded_Language', 'Name_Calling-Labeling', 'Flag_Waving', 'Name_Calling-Labeling', 'Loaded_Language', 'Loaded_Language', 'Name_Calling-Labeling', 'Exaggeration-Minimisation', 'Name_Calling-Labeling', 'Name_Calling-Labeling', 'Exaggeration-Minimisation', 'Flag_Waving', 'Loaded_Language', 'Exaggeration-Minimisation', 'Exaggeration-Minimisation', 'Flag_Waving', 'Exaggeration-Minimisation', 'Repetition', 'Exaggeration-Minimisation', 'Repetition', 'Name_Calling-Labeling', 'Exaggeration-Minimisation', 'Name_Calling-Labeling', 'Loaded_Language', 'Exaggeration-Minimisation', 'Flag_Waving', 'Flag_Waving', 'Loaded_Language', 'Obfuscation-Vagueness-Confusion', 'Repetition', 'Repetition', 'Whataboutism', 'Causal_Oversimplification', 'Causal_Oversimplification', 'Repetition', 'Repetition', 'Exaggeration-Minimisation', 'Exaggeration-Minimisation', 'Loaded_Language', 'Flag_Waving', 'Repetition', 'Loaded_Language', 'Repetition', 'False_Dilemma-No_Choice', 'Flag_Waving', 'Exaggeration-Minimisation', 'Flag_Waving', 'Repetition', 'Repetition', 'Repetition', 'Loaded_Language', 'Slogans', 'Flag_Waving', 'Exaggeration-Minimisation', 'Loaded_Language', 'Causal_Oversimplification', 'Loaded_Language', 'Loaded_Language', 'Loaded_Language', 'Name_Calling-Labeling', 'Doubt', 'Doubt', 'Flag_Waving', 'Name_Calling-Labeling', 'Repetition', 'Slogans', 'Slogans', 'Slogans', 'Appeal_to_Authority', 'Name_Calling-Labeling', 'Name_Calling-Labeling', 'Doubt', 'Slogans', 'Appeal_to_Fear-Prejudice', 'Name_Calling-Labeling', 'Loaded_Language', 'Loaded_Language', 'Loaded_Language', 'Repetition', 'False_Dilemma-No_Choice', 'Name_Calling-Labeling', 'Name_Calling-Labeling', 'Doubt', 'Name_Calling-Labeling', 'Loaded_Language', 'Doubt', 'Name_Calling-Labeling', 'Loaded_Language', 'Doubt', 'Name_Calling-Labeling', 'Repetition', 'Repetition', 'Name_Calling-Labeling', 'Name_Calling-Labeling', 'Name_Calling-Labeling', 'Loaded_Language', 'Loaded_Language', 'Name_Calling-Labeling', 'Name_Calling-Labeling', 'Loaded_Language', 'Name_Calling-Labeling', 'Name_Calling-Labeling', 'Loaded_Language', 'Doubt', 'Loaded_Language', 'Name_Calling-Labeling', 'Name_Calling-Labeling', 'Name_Calling-Labeling', 'Appeal_to_Fear-Prejudice', 'Name_Calling-Labeling', 'Name_Calling-Labeling', 'Name_Calling-Labeling', 'Repetition', 'Loaded_Language', 'Appeal_to_Fear-Prejudice', 'Repetition', 'Name_Calling-Labeling', 'Name_Calling-Labeling', 'Repetition', 'Loaded_Language', 'Loaded_Language', 'Name_Calling-Labeling', 'Name_Calling-Labeling', 'Name_Calling-Labeling', 'Name_Calling-Labeling', 'Name_Calling-Labeling', 'Name_Calling-Labeling', 'Name_Calling-Labeling', 'Repetition', 'Name_Calling-Labeling', 'Repetition', 'Doubt', 'Loaded_Language', 'Exaggeration-Minimisation', 'Loaded_Language', 'Name_Calling-Labeling', 'Conversation_Killer', 'Flag_Waving', 'Causal_Oversimplification', 'Flag_Waving', 'Loaded_Language', 'Flag_Waving', 'Appeal_to_Fear-Prejudice', 'Repetition', 'Doubt', 'Name_Calling-Labeling', 'Loaded_Language', 'False_Dilemma-No_Choice', 'Loaded_Language', 'Loaded_Language', 'Loaded_Language', 'Exaggeration-Minimisation', 'Exaggeration-Minimisation', 'Exaggeration-Minimisation', 'Loaded_Language', 'Doubt', 'Doubt', 'Loaded_Language', 'Loaded_Language', 'Doubt', 'Loaded_Language', 'Name_Calling-Labeling', 'Loaded_Language', 'Name_Calling-Labeling', 'Name_Calling-Labeling', 'Loaded_Language', 'Name_Calling-Labeling', 'Loaded_Language', 'Loaded_Language', 'Loaded_Language', 'Loaded_Language', 'Loaded_Language', 'Name_Calling-Labeling', 'Name_Calling-Labeling', 'Loaded_Language', 'Loaded_Language', 'Appeal_to_Fear-Prejudice', 'Loaded_Language', 'Loaded_Language', 'Name_Calling-Labeling', 'Flag_Waving', 'Slogans', 'Name_Calling-Labeling', 'Conversation_Killer', 'Obfuscation-Vagueness-Confusion', 'Repetition', 'Slogans', 'Loaded_Language', 'Loaded_Language', 'Name_Calling-Labeling', 'Conversation_Killer', 'Repetition', 'Name_Calling-Labeling', 'Loaded_Language', 'Repetition', 'Loaded_Language', 'Repetition', 'Repetition', 'Repetition', 'Repetition', 'Repetition', 'Repetition', 'Loaded_Language', 'Doubt', 'Loaded_Language', 'Loaded_Language', 'Repetition', 'Loaded_Language', 'Doubt', 'Doubt', 'Doubt', 'Doubt', 'Loaded_Language', 'Repetition', 'Repetition', 'Flag_Waving', 'Loaded_Language', 'Loaded_Language', 'Repetition', 'Repetition', 'Repetition', 'Loaded_Language', 'Repetition', 'Repetition', 'Flag_Waving', 'Repetition', 'Exaggeration-Minimisation', 'Repetition', 'Repetition', 'Loaded_Language', 'Repetition', 'Repetition', 'Name_Calling-Labeling', 'Loaded_Language', 'Repetition', 'Loaded_Language', 'Repetition', 'Repetition', 'Name_Calling-Labeling', 'Repetition', 'Repetition', 'Loaded_Language', 'Repetition', 'Name_Calling-Labeling', 'Exaggeration-Minimisation', 'Loaded_Language', 'Exaggeration-Minimisation', 'Name_Calling-Labeling', 'Exaggeration-Minimisation', 'Flag_Waving', 'Loaded_Language', 'Loaded_Language', 'Loaded_Language', 'Loaded_Language', 'Loaded_Language', 'Loaded_Language', 'Loaded_Language', 'Name_Calling-Labeling', 'Name_Calling-Labeling', 'Doubt', 'Name_Calling-Labeling', 'Loaded_Language', 'Doubt', 'Loaded_Language', 'Name_Calling-Labeling', 'Loaded_Language', 'Doubt', 'Appeal_to_Fear-Prejudice', 'Guilt_by_Association', 'Loaded_Language', 'Loaded_Language', 'Loaded_Language', 'Name_Calling-Labeling', 'Loaded_Language', 'Name_Calling-Labeling', 'Name_Calling-Labeling', 'Repetition', 'Repetition', 'Repetition', 'Repetition', 'Repetition', 'Repetition', 'Repetition', 'Repetition', 'Repetition', 'Repetition', 'Repetition', 'Repetition', 'Repetition', 'Repetition', 'Repetition', 'Repetition', 'Exaggeration-Minimisation', 'Slogans', 'Slogans', 'Loaded_Language', 'Loaded_Language', 'Loaded_Language', 'Loaded_Language', 'Name_Calling-Labeling', 'Loaded_Language', 'Repetition', 'Name_Calling-Labeling', 'Loaded_Language', 'Loaded_Language', 'Repetition', 'Loaded_Language', 'Loaded_Language', 'Slogans', 'Loaded_Language', 'Repetition', 'Loaded_Language', 'Loaded_Language', 'Loaded_Language', 'Appeal_to_Fear-Prejudice', 'Slogans', 'Slogans', 'Slogans', 'Doubt', 'Doubt', 'Loaded_Language', 'Exaggeration-Minimisation', 'Loaded_Language', 'Loaded_Language', 'Straw_Man', 'Name_Calling-Labeling', 'Flag_Waving', 'Doubt', 'Loaded_Language', 'Doubt', 'Doubt', 'Flag_Waving', 'Loaded_Language', 'Name_Calling-Labeling', 'Name_Calling-Labeling', 'Causal_Oversimplification', 'Name_Calling-Labeling', 'Name_Calling-Labeling', 'Flag_Waving', 'Loaded_Language', 'Name_Calling-Labeling', 'Appeal_to_Authority', 'Appeal_to_Authority', 'Name_Calling-Labeling', 'Loaded_Language', 'Flag_Waving', 'Name_Calling-Labeling', 'Loaded_Language', 'Name_Calling-Labeling', 'Loaded_Language', 'Name_Calling-Labeling', 'Exaggeration-Minimisation', 'Loaded_Language', 'Loaded_Language', 'Loaded_Language', 'Exaggeration-Minimisation', 'Loaded_Language', 'Doubt', 'Name_Calling-Labeling', 'Name_Calling-Labeling', 'Repetition', 'Loaded_Language', 'Flag_Waving', 'Loaded_Language', 'Loaded_Language', 'Loaded_Language', 'Loaded_Language', 'Name_Calling-Labeling', 'Flag_Waving', 'Flag_Waving', 'Flag_Waving', 'Flag_Waving', 'Loaded_Language', 'Name_Calling-Labeling', 'Loaded_Language', 'Name_Calling-Labeling', 'Loaded_Language', 'Loaded_Language', 'Exaggeration-Minimisation', 'Name_Calling-Labeling', 'Name_Calling-Labeling', 'Loaded_Language', 'Name_Calling-Labeling', 'Repetition', 'Loaded_Language', 'Name_Calling-Labeling', 'Name_Calling-Labeling', 'Loaded_Language', 'Exaggeration-Minimisation', 'Slogans', 'Name_Calling-Labeling', 'Flag_Waving', 'Loaded_Language', 'Name_Calling-Labeling', 'Loaded_Language', 'Exaggeration-Minimisation', 'Name_Calling-Labeling', 'Exaggeration-Minimisation', 'Loaded_Language', 'Flag_Waving', 'Name_Calling-Labeling', 'Flag_Waving', 'Loaded_Language', 'Doubt', 'Name_Calling-Labeling', 'Name_Calling-Labeling', 'Exaggeration-Minimisation', 'Loaded_Language', 'Flag_Waving', 'Loaded_Language', 'Appeal_to_Authority', 'Loaded_Language', 'Name_Calling-Labeling', 'Doubt', 'Appeal_to_Authority', 'Loaded_Language', 'Repetition', 'Appeal_to_Fear-Prejudice', 'Loaded_Language', 'Loaded_Language', 'Loaded_Language', 'Loaded_Language', 'Loaded_Language', 'Exaggeration-Minimisation', 'Exaggeration-Minimisation', 'Loaded_Language', 'Name_Calling-Labeling', 'Flag_Waving', 'Loaded_Language', 'Loaded_Language', 'Loaded_Language', 'Loaded_Language', 'Causal_Oversimplification', 'Exaggeration-Minimisation', 'Loaded_Language', 'Causal_Oversimplification', 'Loaded_Language', 'Loaded_Language', 'Name_Calling-Labeling', 'Exaggeration-Minimisation', 'Loaded_Language', 'Causal_Oversimplification', 'Slogans', 'Loaded_Language', 'Causal_Oversimplification', 'Causal_Oversimplification', 'Name_Calling-Labeling', 'Name_Calling-Labeling', 'Name_Calling-Labeling', 'Loaded_Language', 'Doubt', 'Repetition', 'Appeal_to_Fear-Prejudice', 'Doubt', 'Loaded_Language', 'Name_Calling-Labeling', 'Loaded_Language', 'Name_Calling-Labeling', 'Appeal_to_Fear-Prejudice', 'Loaded_Language', 'Conversation_Killer', 'Loaded_Language', 'Doubt', 'Loaded_Language', 'Loaded_Language', 'Loaded_Language', 'Loaded_Language', 'Loaded_Language', 'Loaded_Language', 'Loaded_Language', 'Exaggeration-Minimisation', 'Exaggeration-Minimisation', 'Exaggeration-Minimisation', 'Exaggeration-Minimisation', 'False_Dilemma-No_Choice', 'Loaded_Language', 'Causal_Oversimplification', 'Causal_Oversimplification', 'Loaded_Language', 'Name_Calling-Labeling', 'Loaded_Language', 'Exaggeration-Minimisation', 'Exaggeration-Minimisation', 'Loaded_Language', 'Repetition', 'Name_Calling-Labeling', 'Loaded_Language', 'Causal_Oversimplification', 'Loaded_Language', 'Exaggeration-Minimisation', 'Exaggeration-Minimisation', 'Name_Calling-Labeling', 'Causal_Oversimplification', 'Name_Calling-Labeling', 'Loaded_Language', 'Loaded_Language', 'Exaggeration-Minimisation', 'Loaded_Language', 'Loaded_Language', 'Loaded_Language', 'Causal_Oversimplification', 'Loaded_Language', 'Loaded_Language', 'Causal_Oversimplification', 'Name_Calling-Labeling', 'Name_Calling-Labeling', 'Loaded_Language', 'Exaggeration-Minimisation', 'Exaggeration-Minimisation', 'Name_Calling-Labeling', 'Loaded_Language', 'Name_Calling-Labeling', 'Name_Calling-Labeling', 'Name_Calling-Labeling', 'Name_Calling-Labeling', 'Name_Calling-Labeling', 'Loaded_Language', 'Name_Calling-Labeling', 'Loaded_Language', 'Exaggeration-Minimisation', 'Doubt', 'Name_Calling-Labeling', 'Name_Calling-Labeling', 'Doubt', 'Loaded_Language', 'Doubt', 'Name_Calling-Labeling', 'Name_Calling-Labeling', 'Loaded_Language', 'Loaded_Language', 'Doubt', 'Loaded_Language', 'Loaded_Language', 'Doubt', 'Loaded_Language', 'Loaded_Language', 'Exaggeration-Minimisation', 'Doubt', 'Doubt', 'Doubt', 'Loaded_Language', 'Loaded_Language', 'Loaded_Language', 'Name_Calling-Labeling', 'Flag_Waving', 'Loaded_Language', 'Flag_Waving', 'Whataboutism', 'Doubt', 'Appeal_to_Fear-Prejudice', 'Loaded_Language', 'Name_Calling-Labeling', 'Exaggeration-Minimisation', 'Flag_Waving', 'Doubt', 'Exaggeration-Minimisation', 'Name_Calling-Labeling', 'Loaded_Language', 'Loaded_Language', 'Appeal_to_Fear-Prejudice', 'Loaded_Language', 'Loaded_Language', 'Name_Calling-Labeling', 'Name_Calling-Labeling', 'Exaggeration-Minimisation', 'Exaggeration-Minimisation', 'Loaded_Language', 'Exaggeration-Minimisation', 'Name_Calling-Labeling', 'Name_Calling-Labeling', 'Loaded_Language', 'Appeal_to_Fear-Prejudice', 'Loaded_Language', 'Name_Calling-Labeling', 'Loaded_Language', 'Name_Calling-Labeling', 'Loaded_Language', 'Loaded_Language', 'Loaded_Language', 'Doubt', 'Name_Calling-Labeling', 'Exaggeration-Minimisation', 'Exaggeration-Minimisation', 'Loaded_Language', 'Exaggeration-Minimisation', 'Loaded_Language', 'Red_Herring', 'Exaggeration-Minimisation', 'Name_Calling-Labeling', 'Guilt_by_Association', 'Name_Calling-Labeling', 'Causal_Oversimplification', 'Loaded_Language', 'Slogans', 'Appeal_to_Fear-Prejudice', 'Loaded_Language', 'Appeal_to_Fear-Prejudice', 'Loaded_Language', 'Appeal_to_Fear-Prejudice', 'Slogans', 'Appeal_to_Fear-Prejudice', 'Loaded_Language', 'Name_Calling-Labeling', 'Loaded_Language', 'Conversation_Killer', 'Guilt_by_Association', 'Exaggeration-Minimisation', 'Causal_Oversimplification', 'Name_Calling-Labeling', 'Name_Calling-Labeling', 'Appeal_to_Fear-Prejudice', 'Loaded_Language', 'Name_Calling-Labeling', 'Name_Calling-Labeling', 'Appeal_to_Fear-Prejudice', 'Name_Calling-Labeling', 'Loaded_Language', 'Exaggeration-Minimisation', 'Name_Calling-Labeling', 'Name_Calling-Labeling', 'Guilt_by_Association', 'Loaded_Language', 'Name_Calling-Labeling', 'Exaggeration-Minimisation', 'Loaded_Language', 'Flag_Waving', 'Appeal_to_Fear-Prejudice', 'Name_Calling-Labeling', 'Exaggeration-Minimisation', 'Name_Calling-Labeling', 'Loaded_Language', 'Name_Calling-Labeling', 'Name_Calling-Labeling', 'Loaded_Language', 'Slogans', 'Name_Calling-Labeling', 'Loaded_Language', 'Loaded_Language', 'Appeal_to_Fear-Prejudice', 'Name_Calling-Labeling', 'Name_Calling-Labeling', 'Causal_Oversimplification', 'Causal_Oversimplification', 'Doubt', 'Loaded_Language', 'Name_Calling-Labeling', 'Causal_Oversimplification', 'Name_Calling-Labeling', 'Loaded_Language', 'Name_Calling-Labeling', 'Name_Calling-Labeling', 'Name_Calling-Labeling', 'Loaded_Language', 'Name_Calling-Labeling', 'Loaded_Language', 'Loaded_Language', 'Name_Calling-Labeling', 'Name_Calling-Labeling', 'Doubt', 'Name_Calling-Labeling', 'Doubt', 'Loaded_Language', 'Appeal_to_Fear-Prejudice', 'Loaded_Language', 'Loaded_Language', 'Conversation_Killer', 'Loaded_Language', 'Doubt', 'Loaded_Language', 'Causal_Oversimplification', 'Loaded_Language', 'Loaded_Language', 'Causal_Oversimplification', 'Loaded_Language', 'Loaded_Language', 'Exaggeration-Minimisation', 'Doubt', 'Doubt', 'Name_Calling-Labeling', 'Loaded_Language', 'Appeal_to_Fear-Prejudice', 'Name_Calling-Labeling', 'Doubt', 'Loaded_Language', 'Appeal_to_Fear-Prejudice', 'Loaded_Language', 'Flag_Waving', 'Name_Calling-Labeling', 'Loaded_Language', 'Appeal_to_Fear-Prejudice', 'Name_Calling-Labeling', 'Appeal_to_Fear-Prejudice', 'Exaggeration-Minimisation', 'Loaded_Language', 'Name_Calling-Labeling', 'Loaded_Language', 'Name_Calling-Labeling', 'Loaded_Language', 'Slogans', 'Loaded_Language', 'Name_Calling-Labeling', 'Loaded_Language', 'Loaded_Language', 'Name_Calling-Labeling', 'Causal_Oversimplification', 'Loaded_Language', 'Name_Calling-Labeling', 'Name_Calling-Labeling', 'Name_Calling-Labeling', 'Exaggeration-Minimisation', 'Doubt', 'Guilt_by_Association', 'Loaded_Language', 'Name_Calling-Labeling', 'Name_Calling-Labeling', 'Loaded_Language', 'Loaded_Language', 'Appeal_to_Hypocrisy', 'Doubt', 'Repetition', 'Exaggeration-Minimisation', 'Name_Calling-Labeling', 'Causal_Oversimplification', 'Name_Calling-Labeling', 'Name_Calling-Labeling', 'Loaded_Language', 'Exaggeration-Minimisation', 'Name_Calling-Labeling', 'Name_Calling-Labeling', 'Appeal_to_Hypocrisy', 'Loaded_Language', 'Exaggeration-Minimisation', 'Name_Calling-Labeling', 'Name_Calling-Labeling', 'Causal_Oversimplification', 'Name_Calling-Labeling', 'Appeal_to_Fear-Prejudice', 'Loaded_Language', 'Name_Calling-Labeling', 'Name_Calling-Labeling', 'Loaded_Language', 'Appeal_to_Hypocrisy', 'Loaded_Language', 'Loaded_Language', 'Loaded_Language', 'Loaded_Language', 'Doubt', 'Loaded_Language', 'Doubt', 'Doubt', 'Name_Calling-Labeling', 'Exaggeration-Minimisation', 'Doubt', 'Loaded_Language', 'Loaded_Language', 'Loaded_Language', 'Loaded_Language', 'Doubt', 'Name_Calling-Labeling', 'Appeal_to_Authority', 'Loaded_Language', 'Doubt', 'Loaded_Language', 'Loaded_Language', 'Loaded_Language', 'Doubt', 'Loaded_Language', 'Loaded_Language', 'Name_Calling-Labeling', 'Name_Calling-Labeling', 'Loaded_Language', 'Name_Calling-Labeling', 'Loaded_Language', 'Name_Calling-Labeling', 'Loaded_Language', 'Slogans', 'Loaded_Language', 'Causal_Oversimplification', 'Name_Calling-Labeling', 'Appeal_to_Popularity', 'Exaggeration-Minimisation', 'Loaded_Language', 'Loaded_Language', 'Loaded_Language', 'Exaggeration-Minimisation', 'Loaded_Language', 'Appeal_to_Fear-Prejudice', 'Name_Calling-Labeling', 'Loaded_Language', 'Exaggeration-Minimisation', 'Loaded_Language', 'False_Dilemma-No_Choice', 'Name_Calling-Labeling', 'Slogans', 'Repetition', 'Slogans', 'Repetition', 'Loaded_Language', 'Repetition', 'Repetition', 'Repetition', 'Name_Calling-Labeling', 'Loaded_Language', 'Loaded_Language', 'Loaded_Language', 'Exaggeration-Minimisation', 'Repetition', 'Causal_Oversimplification', 'Loaded_Language', 'Name_Calling-Labeling', 'Appeal_to_Fear-Prejudice', 'Repetition', 'Causal_Oversimplification', 'Doubt', 'Name_Calling-Labeling', 'Appeal_to_Fear-Prejudice', 'Loaded_Language', 'Loaded_Language', 'Causal_Oversimplification', 'Loaded_Language', 'Name_Calling-Labeling', 'Causal_Oversimplification', 'Name_Calling-Labeling', 'Name_Calling-Labeling', 'Exaggeration-Minimisation', 'Loaded_Language', 'Loaded_Language', 'Loaded_Language', 'Exaggeration-Minimisation', 'Loaded_Language', 'Exaggeration-Minimisation', 'Exaggeration-Minimisation', 'Loaded_Language', 'Loaded_Language', 'Loaded_Language', 'Causal_Oversimplification', 'Name_Calling-Labeling', 'Name_Calling-Labeling', 'Name_Calling-Labeling', 'Loaded_Language', 'Repetition', 'Loaded_Language', 'Name_Calling-Labeling', 'Repetition', 'Loaded_Language', 'Repetition', 'Loaded_Language', 'Appeal_to_Fear-Prejudice', 'Repetition', 'Repetition', 'Repetition', 'Loaded_Language', 'Appeal_to_Popularity', 'Loaded_Language', 'Loaded_Language', 'Loaded_Language', 'Slogans', 'Slogans', 'Name_Calling-Labeling', 'Exaggeration-Minimisation', 'Loaded_Language', 'Loaded_Language', 'Loaded_Language', 'Name_Calling-Labeling', 'Repetition', 'Repetition', 'Repetition', 'Loaded_Language', 'Loaded_Language', 'Repetition', 'Repetition', 'Loaded_Language', 'Loaded_Language', 'Loaded_Language', 'Repetition', 'Repetition', 'Repetition', 'Loaded_Language', 'Loaded_Language', 'Loaded_Language', 'Repetition', 'Loaded_Language', 'Loaded_Language', 'Appeal_to_Fear-Prejudice', 'Repetition', 'Loaded_Language', 'Loaded_Language', 'Slogans', 'Slogans', 'Repetition', 'Loaded_Language', 'Loaded_Language', 'Loaded_Language', 'Loaded_Language', 'Loaded_Language', 'Name_Calling-Labeling', 'Exaggeration-Minimisation', 'Name_Calling-Labeling', 'Name_Calling-Labeling', 'Red_Herring', 'Loaded_Language', 'Causal_Oversimplification', 'Doubt', 'Loaded_Language', 'Loaded_Language', 'Name_Calling-Labeling', 'Loaded_Language', 'Doubt', 'Loaded_Language', 'Doubt', 'Loaded_Language', 'Name_Calling-Labeling', 'Loaded_Language', 'Loaded_Language', 'Loaded_Language', 'Loaded_Language', 'Name_Calling-Labeling', 'Appeal_to_Fear-Prejudice', 'Loaded_Language', 'Doubt', 'Doubt', 'Loaded_Language', 'Doubt', 'Loaded_Language', 'Exaggeration-Minimisation', 'Doubt', 'Doubt', 'Loaded_Language', 'Appeal_to_Authority', 'Doubt', 'Loaded_Language', 'Doubt', 'Loaded_Language', 'Doubt', 'Name_Calling-Labeling', 'Loaded_Language', 'Doubt', 'Loaded_Language', 'Doubt', 'Loaded_Language', 'Exaggeration-Minimisation', 'Flag_Waving', 'Flag_Waving', 'Exaggeration-Minimisation', 'Exaggeration-Minimisation', 'Name_Calling-Labeling', 'Loaded_Language', 'Appeal_to_Fear-Prejudice', 'Name_Calling-Labeling', 'Loaded_Language', 'Doubt', 'Exaggeration-Minimisation', 'Appeal_to_Fear-Prejudice', 'Exaggeration-Minimisation', 'Exaggeration-Minimisation', 'Loaded_Language', 'Flag_Waving', 'Name_Calling-Labeling', 'Name_Calling-Labeling', 'Appeal_to_Authority', 'Loaded_Language', 'Name_Calling-Labeling', 'Loaded_Language', 'Loaded_Language', 'Doubt', 'Doubt', 'Loaded_Language', 'Name_Calling-Labeling', 'Loaded_Language', 'Repetition', 'Loaded_Language', 'Name_Calling-Labeling', 'Exaggeration-Minimisation', 'Loaded_Language', 'Exaggeration-Minimisation', 'Doubt', 'Loaded_Language', 'Name_Calling-Labeling', 'Name_Calling-Labeling', 'Exaggeration-Minimisation', 'Exaggeration-Minimisation', 'Loaded_Language', 'Conversation_Killer', 'Repetition', 'Loaded_Language', 'Doubt', 'Exaggeration-Minimisation', 'Exaggeration-Minimisation', 'Causal_Oversimplification', 'Name_Calling-Labeling', 'Loaded_Language', 'Loaded_Language', 'Doubt', 'Doubt', 'Loaded_Language', 'Appeal_to_Fear-Prejudice', 'Name_Calling-Labeling', 'Name_Calling-Labeling', 'Name_Calling-Labeling', 'Repetition', 'Name_Calling-Labeling', 'Repetition', 'Name_Calling-Labeling', 'Name_Calling-Labeling', 'Name_Calling-Labeling', 'Name_Calling-Labeling', 'Loaded_Language', 'Name_Calling-Labeling', 'Loaded_Language', 'Loaded_Language', 'Name_Calling-Labeling', 'Loaded_Language', 'Name_Calling-Labeling', 'Loaded_Language', 'Loaded_Language', 'Loaded_Language', 'Causal_Oversimplification', 'Loaded_Language', 'Causal_Oversimplification', 'Name_Calling-Labeling', 'Doubt', 'Repetition', 'Name_Calling-Labeling', 'Doubt', 'Name_Calling-Labeling', 'Doubt', 'Flag_Waving', 'Doubt', 'Loaded_Language', 'Doubt', 'Name_Calling-Labeling', 'Loaded_Language', 'Doubt', 'Doubt', 'Doubt', 'Loaded_Language', 'Flag_Waving', 'Causal_Oversimplification', 'Name_Calling-Labeling', 'Name_Calling-Labeling', 'Doubt', 'Loaded_Language', 'Causal_Oversimplification', 'Exaggeration-Minimisation', 'Loaded_Language', 'Doubt', 'Appeal_to_Hypocrisy', 'Doubt', 'Loaded_Language', 'Name_Calling-Labeling', 'Loaded_Language', 'Name_Calling-Labeling', 'Name_Calling-Labeling', 'Exaggeration-Minimisation', 'Loaded_Language', 'Loaded_Language', 'False_Dilemma-No_Choice', 'Name_Calling-Labeling', 'Loaded_Language', 'Loaded_Language', 'Loaded_Language', 'Loaded_Language', 'Name_Calling-Labeling', 'Causal_Oversimplification', 'Name_Calling-Labeling', 'Loaded_Language', 'Loaded_Language', 'Name_Calling-Labeling', 'Loaded_Language', 'Loaded_Language', 'Loaded_Language', 'Repetition', 'Slogans', 'Loaded_Language', 'Loaded_Language', 'Appeal_to_Fear-Prejudice', 'Loaded_Language', 'Loaded_Language', 'Loaded_Language', 'Loaded_Language', 'Loaded_Language', 'Repetition', 'Loaded_Language', 'Loaded_Language', 'Loaded_Language', 'Loaded_Language', 'Loaded_Language', 'Loaded_Language', 'Loaded_Language', 'Loaded_Language', 'Loaded_Language', 'Loaded_Language', 'Loaded_Language', 'Loaded_Language', 'Loaded_Language', 'Loaded_Language', 'Loaded_Language', 'Loaded_Language', 'Loaded_Language', 'Loaded_Language', 'Loaded_Language', 'Loaded_Language', 'Loaded_Language', 'Loaded_Language', 'Loaded_Language', 'Exaggeration-Minimisation', 'Loaded_Language', 'Slogans', 'Repetition', 'Loaded_Language', 'Loaded_Language', 'Loaded_Language', 'Loaded_Language', 'Name_Calling-Labeling', 'Repetition', 'Repetition', 'Loaded_Language', 'Name_Calling-Labeling', 'Name_Calling-Labeling', 'Loaded_Language', 'Loaded_Language', 'Doubt', 'Name_Calling-Labeling', 'Doubt', 'Name_Calling-Labeling', 'Exaggeration-Minimisation', 'Causal_Oversimplification', 'Causal_Oversimplification', 'Loaded_Language', 'Loaded_Language', 'Flag_Waving', 'Loaded_Language', 'Flag_Waving', 'Loaded_Language', 'Name_Calling-Labeling', 'Loaded_Language', 'Name_Calling-Labeling', 'Loaded_Language', 'Guilt_by_Association', 'Name_Calling-Labeling', 'Appeal_to_Fear-Prejudice', 'Repetition', 'Repetition', 'Loaded_Language', 'Flag_Waving', 'Repetition', 'Repetition', 'Loaded_Language', 'Loaded_Language', 'Repetition', 'Name_Calling-Labeling', 'Doubt', 'Loaded_Language', 'Name_Calling-Labeling', 'Loaded_Language', 'Loaded_Language', 'Loaded_Language', 'Loaded_Language', 'Name_Calling-Labeling', 'Name_Calling-Labeling', 'Doubt', 'Appeal_to_Authority', 'Exaggeration-Minimisation', 'Loaded_Language', 'Loaded_Language', 'Loaded_Language', 'False_Dilemma-No_Choice', 'Doubt', 'Name_Calling-Labeling', 'Name_Calling-Labeling', 'Name_Calling-Labeling', 'Loaded_Language', 'Loaded_Language', 'Exaggeration-Minimisation', 'Loaded_Language', 'Loaded_Language', 'Name_Calling-Labeling', 'Doubt', 'Loaded_Language', 'Exaggeration-Minimisation', 'Appeal_to_Fear-Prejudice', 'Causal_Oversimplification', 'Loaded_Language', 'Slogans', 'Repetition', 'Loaded_Language', 'Name_Calling-Labeling', 'Loaded_Language', 'Doubt', 'Name_Calling-Labeling', 'Name_Calling-Labeling', 'Loaded_Language', 'Appeal_to_Fear-Prejudice', 'Causal_Oversimplification', 'Exaggeration-Minimisation', 'Appeal_to_Authority', 'Loaded_Language', 'Straw_Man', 'Doubt', 'Loaded_Language', 'Exaggeration-Minimisation', 'Doubt', 'Exaggeration-Minimisation', 'Loaded_Language', 'Name_Calling-Labeling', 'Loaded_Language', 'Loaded_Language', 'Doubt', 'Name_Calling-Labeling', 'Loaded_Language', 'Appeal_to_Authority', 'Conversation_Killer', 'Exaggeration-Minimisation', 'Appeal_to_Authority', 'Appeal_to_Authority', 'Loaded_Language', 'Appeal_to_Authority', 'Appeal_to_Authority', 'Exaggeration-Minimisation', 'Appeal_to_Authority', 'Name_Calling-Labeling', 'Doubt', 'Causal_Oversimplification', 'Name_Calling-Labeling', 'Loaded_Language', 'Name_Calling-Labeling', 'Loaded_Language', 'Loaded_Language', 'Loaded_Language', 'Name_Calling-Labeling', 'Loaded_Language', 'Doubt', 'Name_Calling-Labeling', 'Loaded_Language', 'Loaded_Language', 'Name_Calling-Labeling', 'Doubt', 'Exaggeration-Minimisation', 'Loaded_Language', 'Exaggeration-Minimisation', 'Loaded_Language', 'Name_Calling-Labeling', 'Name_Calling-Labeling', 'Loaded_Language', 'Causal_Oversimplification', 'Name_Calling-Labeling', 'Name_Calling-Labeling', 'Loaded_Language', 'Name_Calling-Labeling', 'Loaded_Language', 'Name_Calling-Labeling', 'Loaded_Language', 'Doubt', 'Name_Calling-Labeling', 'Doubt', 'Loaded_Language', 'Name_Calling-Labeling', 'Loaded_Language', 'Loaded_Language', 'Name_Calling-Labeling', 'Name_Calling-Labeling', 'Loaded_Language', 'Appeal_to_Fear-Prejudice', 'Name_Calling-Labeling', 'Loaded_Language', 'Name_Calling-Labeling', 'Loaded_Language', 'Name_Calling-Labeling', 'Name_Calling-Labeling', 'Name_Calling-Labeling', 'Name_Calling-Labeling', 'Name_Calling-Labeling', 'Loaded_Language', 'Repetition', 'Loaded_Language', 'Name_Calling-Labeling', 'Name_Calling-Labeling', 'Appeal_to_Fear-Prejudice', 'Exaggeration-Minimisation', 'Loaded_Language', 'Exaggeration-Minimisation', 'Name_Calling-Labeling', 'Loaded_Language', 'Loaded_Language', 'Name_Calling-Labeling', 'Name_Calling-Labeling', 'Loaded_Language', 'Loaded_Language', 'Loaded_Language', 'Loaded_Language', 'Name_Calling-Labeling', 'Exaggeration-Minimisation', 'Loaded_Language', 'Exaggeration-Minimisation', 'Loaded_Language', 'Repetition', 'Appeal_to_Authority', 'Loaded_Language', 'Loaded_Language', 'Loaded_Language', 'Slogans', 'Loaded_Language', 'Loaded_Language', 'Name_Calling-Labeling', 'Loaded_Language', 'Loaded_Language', 'Loaded_Language', 'Name_Calling-Labeling', 'Obfuscation-Vagueness-Confusion', 'Causal_Oversimplification', 'Name_Calling-Labeling', 'Name_Calling-Labeling', 'Causal_Oversimplification', 'Loaded_Language', 'Doubt', 'Name_Calling-Labeling', 'Doubt', 'Causal_Oversimplification', 'Loaded_Language', 'Loaded_Language', 'Name_Calling-Labeling', 'Doubt', 'Loaded_Language', 'Loaded_Language', 'Loaded_Language', 'Loaded_Language', 'Doubt', 'Loaded_Language', 'Loaded_Language', 'Doubt', 'Doubt', 'Exaggeration-Minimisation', 'Name_Calling-Labeling', 'Name_Calling-Labeling', 'Name_Calling-Labeling', 'Appeal_to_Authority', 'Loaded_Language', 'Loaded_Language', 'Loaded_Language', 'Loaded_Language', 'Loaded_Language', 'Causal_Oversimplification', 'Name_Calling-Labeling', 'Name_Calling-Labeling', 'False_Dilemma-No_Choice', 'Appeal_to_Authority', 'Doubt', 'Exaggeration-Minimisation', 'Causal_Oversimplification', 'Loaded_Language', 'Causal_Oversimplification', 'Exaggeration-Minimisation', 'Name_Calling-Labeling', 'Appeal_to_Popularity', 'Loaded_Language', 'Loaded_Language', 'Exaggeration-Minimisation', 'Name_Calling-Labeling', 'Loaded_Language', 'Loaded_Language', 'Name_Calling-Labeling', 'Loaded_Language', 'Name_Calling-Labeling', 'Loaded_Language', 'Loaded_Language', 'Doubt', 'Loaded_Language', 'Loaded_Language', 'Loaded_Language', 'Causal_Oversimplification', 'Loaded_Language', 'Exaggeration-Minimisation', 'Loaded_Language', 'Loaded_Language', 'Repetition', 'Loaded_Language', 'Name_Calling-Labeling', 'Name_Calling-Labeling', 'Name_Calling-Labeling', 'Name_Calling-Labeling', 'Repetition', 'Doubt', 'Doubt', 'Loaded_Language', 'Doubt', 'Name_Calling-Labeling', 'Loaded_Language', 'Repetition', 'Doubt', 'Doubt', 'Name_Calling-Labeling', 'Doubt', 'Loaded_Language', 'Doubt', 'Doubt', 'Loaded_Language', 'Doubt', 'Loaded_Language', 'Name_Calling-Labeling', 'Loaded_Language', 'Loaded_Language', 'Loaded_Language', 'Name_Calling-Labeling', 'Loaded_Language', 'Repetition', 'Loaded_Language', 'Repetition', 'Loaded_Language', 'Appeal_to_Fear-Prejudice', 'Name_Calling-Labeling', 'Name_Calling-Labeling', 'Name_Calling-Labeling', 'Name_Calling-Labeling', 'Loaded_Language', 'Loaded_Language', 'Loaded_Language', 'Appeal_to_Fear-Prejudice', 'Loaded_Language', 'Red_Herring', 'Name_Calling-Labeling', 'Loaded_Language', 'Loaded_Language', 'Repetition', 'Loaded_Language', 'Name_Calling-Labeling', 'Loaded_Language', 'Loaded_Language', 'Loaded_Language', 'Name_Calling-Labeling', 'Repetition', 'Repetition', 'Exaggeration-Minimisation', 'Loaded_Language', 'Name_Calling-Labeling', 'Loaded_Language', 'Name_Calling-Labeling', 'Name_Calling-Labeling', 'Loaded_Language', 'Name_Calling-Labeling', 'Loaded_Language', 'Appeal_to_Fear-Prejudice', 'Flag_Waving', 'Doubt', 'Name_Calling-Labeling', 'Name_Calling-Labeling', 'Repetition', 'Name_Calling-Labeling', 'Slogans', 'Slogans', 'Loaded_Language', 'Exaggeration-Minimisation', 'Flag_Waving', 'Loaded_Language', 'Name_Calling-Labeling', 'Red_Herring', 'Repetition', 'Name_Calling-Labeling', 'Causal_Oversimplification', 'Slogans', 'Loaded_Language', 'Loaded_Language', 'Appeal_to_Authority', 'Name_Calling-Labeling', 'Slogans', 'Loaded_Language', 'Name_Calling-Labeling', 'Name_Calling-Labeling', 'Appeal_to_Authority', 'Loaded_Language', 'Loaded_Language', 'Loaded_Language', 'Appeal_to_Authority', 'Loaded_Language', 'Name_Calling-Labeling', 'Name_Calling-Labeling', 'Repetition', 'Name_Calling-Labeling', 'Repetition', 'Name_Calling-Labeling', 'Loaded_Language', 'Appeal_to_Authority', 'Name_Calling-Labeling', 'Loaded_Language', 'Name_Calling-Labeling', 'Flag_Waving', 'Name_Calling-Labeling', 'Name_Calling-Labeling', 'Name_Calling-Labeling', 'False_Dilemma-No_Choice', 'Loaded_Language', 'Loaded_Language', 'Exaggeration-Minimisation', 'Loaded_Language', 'Loaded_Language', 'Name_Calling-Labeling', 'Loaded_Language', 'Name_Calling-Labeling', 'Loaded_Language', 'Loaded_Language', 'Name_Calling-Labeling', 'Name_Calling-Labeling', 'Repetition', 'Repetition', 'Repetition', 'Repetition', 'Repetition', 'Repetition', 'Repetition', 'Repetition', 'Repetition', 'Name_Calling-Labeling', 'Causal_Oversimplification', 'Name_Calling-Labeling', 'Loaded_Language', 'Exaggeration-Minimisation', 'Loaded_Language', 'Loaded_Language', 'Repetition', 'Repetition', 'Exaggeration-Minimisation', 'Name_Calling-Labeling', 'Name_Calling-Labeling', 'Exaggeration-Minimisation', 'Exaggeration-Minimisation', 'Loaded_Language', 'Name_Calling-Labeling', 'Loaded_Language', 'Exaggeration-Minimisation', 'Loaded_Language', 'Name_Calling-Labeling', 'Name_Calling-Labeling', 'Loaded_Language', 'Name_Calling-Labeling', 'Exaggeration-Minimisation', 'Exaggeration-Minimisation', 'Loaded_Language', 'Doubt', 'Loaded_Language', 'Appeal_to_Authority', 'Loaded_Language', 'Doubt', 'Name_Calling-Labeling', 'Loaded_Language', 'Repetition', 'Doubt', 'Name_Calling-Labeling', 'Name_Calling-Labeling', 'Name_Calling-Labeling', 'Doubt', 'Loaded_Language', 'Loaded_Language', 'Name_Calling-Labeling', 'Exaggeration-Minimisation', 'Appeal_to_Authority', 'Exaggeration-Minimisation', 'Exaggeration-Minimisation', 'Name_Calling-Labeling', 'Loaded_Language', 'Repetition', 'Causal_Oversimplification', 'Loaded_Language', 'Name_Calling-Labeling', 'Name_Calling-Labeling', 'Repetition', 'Loaded_Language', 'Loaded_Language', 'Name_Calling-Labeling', 'Repetition', 'Name_Calling-Labeling', 'Name_Calling-Labeling', 'Exaggeration-Minimisation', 'Loaded_Language', 'Name_Calling-Labeling', 'Slogans', 'Name_Calling-Labeling', 'Loaded_Language', 'Name_Calling-Labeling', 'Flag_Waving', 'Slogans', 'Slogans', 'Name_Calling-Labeling', 'Doubt', 'Loaded_Language', 'Name_Calling-Labeling', 'Loaded_Language', 'Name_Calling-Labeling', 'Loaded_Language', 'Exaggeration-Minimisation', 'Loaded_Language', 'Loaded_Language', 'Loaded_Language', 'Loaded_Language', 'Doubt', 'Loaded_Language', 'Exaggeration-Minimisation', 'Name_Calling-Labeling', 'Loaded_Language', 'Loaded_Language', 'Name_Calling-Labeling', 'Name_Calling-Labeling', 'Name_Calling-Labeling', 'Name_Calling-Labeling', 'Exaggeration-Minimisation', 'Slogans', 'Loaded_Language', 'Name_Calling-Labeling', 'Name_Calling-Labeling', 'Loaded_Language', 'Name_Calling-Labeling', 'Name_Calling-Labeling', 'Loaded_Language', 'Name_Calling-Labeling', 'Loaded_Language', 'Name_Calling-Labeling', 'Repetition', 'Name_Calling-Labeling', 'Loaded_Language', 'Name_Calling-Labeling', 'Loaded_Language', 'Guilt_by_Association', 'Name_Calling-Labeling', 'Loaded_Language', 'Exaggeration-Minimisation', 'Loaded_Language', 'Causal_Oversimplification', 'Name_Calling-Labeling', 'Name_Calling-Labeling', 'Causal_Oversimplification', 'Loaded_Language', 'Name_Calling-Labeling', 'Loaded_Language', 'Loaded_Language', 'Name_Calling-Labeling', 'Causal_Oversimplification', 'Name_Calling-Labeling', 'Loaded_Language', 'Name_Calling-Labeling', 'Name_Calling-Labeling', 'Flag_Waving', 'Appeal_to_Authority', 'Name_Calling-Labeling', 'Appeal_to_Authority', 'Loaded_Language', 'Loaded_Language', 'Exaggeration-Minimisation', 'Loaded_Language', 'Loaded_Language', 'Name_Calling-Labeling', 'Loaded_Language', 'Flag_Waving', 'Appeal_to_Hypocrisy', 'Loaded_Language', 'Red_Herring', 'Loaded_Language', 'Loaded_Language', 'Name_Calling-Labeling', 'Doubt', 'Name_Calling-Labeling', 'Appeal_to_Fear-Prejudice', 'Name_Calling-Labeling', 'Loaded_Language', 'Name_Calling-Labeling', 'Name_Calling-Labeling', 'Loaded_Language', 'Name_Calling-Labeling', 'Loaded_Language', 'Causal_Oversimplification', 'Exaggeration-Minimisation', 'Name_Calling-Labeling', 'Name_Calling-Labeling', 'Loaded_Language', 'Name_Calling-Labeling', 'Causal_Oversimplification', 'Name_Calling-Labeling', 'Name_Calling-Labeling', 'Causal_Oversimplification', 'Exaggeration-Minimisation', 'Loaded_Language', 'Name_Calling-Labeling', 'Loaded_Language', 'Exaggeration-Minimisation', 'Doubt', 'Guilt_by_Association', 'Name_Calling-Labeling', 'Name_Calling-Labeling', 'Name_Calling-Labeling', 'Repetition', 'Loaded_Language', 'Name_Calling-Labeling', 'Loaded_Language', 'Loaded_Language', 'Loaded_Language', 'Loaded_Language', 'Name_Calling-Labeling', 'Loaded_Language', 'Flag_Waving', 'Name_Calling-Labeling', 'Exaggeration-Minimisation', 'Loaded_Language', 'Name_Calling-Labeling', 'Loaded_Language', 'Name_Calling-Labeling', 'Loaded_Language', 'Loaded_Language', 'Loaded_Language', 'Guilt_by_Association', 'Flag_Waving', 'Appeal_to_Fear-Prejudice', 'Name_Calling-Labeling', 'Loaded_Language', 'Guilt_by_Association', 'Flag_Waving', 'Repetition', 'Exaggeration-Minimisation', 'Loaded_Language', 'Repetition', 'Exaggeration-Minimisation', 'Loaded_Language', 'Doubt', 'Loaded_Language', 'Repetition', 'Loaded_Language', 'Loaded_Language', 'Repetition', 'Name_Calling-Labeling', 'Loaded_Language', 'Repetition', 'Name_Calling-Labeling', 'Repetition', 'Repetition', 'Loaded_Language', 'Loaded_Language', 'Repetition', 'Name_Calling-Labeling', 'Loaded_Language', 'Name_Calling-Labeling', 'Repetition', 'Repetition', 'Repetition', 'Loaded_Language', 'Loaded_Language', 'Appeal_to_Authority', 'Slogans', 'Slogans', 'Loaded_Language', 'Loaded_Language', 'Slogans', 'Loaded_Language', 'Name_Calling-Labeling', 'Loaded_Language', 'Loaded_Language', 'Loaded_Language', 'Loaded_Language', 'Loaded_Language', 'Name_Calling-Labeling', 'Doubt', 'Appeal_to_Authority', 'Loaded_Language', 'Slogans', 'Causal_Oversimplification', 'Name_Calling-Labeling', 'Name_Calling-Labeling', 'Loaded_Language', 'Loaded_Language', 'Doubt', 'Causal_Oversimplification', 'Loaded_Language', 'False_Dilemma-No_Choice', 'Causal_Oversimplification', 'Name_Calling-Labeling', 'Loaded_Language', 'Loaded_Language', 'Flag_Waving', 'Slogans', 'Exaggeration-Minimisation', 'Doubt', 'Appeal_to_Authority', 'Loaded_Language', 'Loaded_Language', 'Name_Calling-Labeling', 'Appeal_to_Hypocrisy', 'Exaggeration-Minimisation', 'Exaggeration-Minimisation', 'Loaded_Language', 'Loaded_Language', 'Loaded_Language', 'Loaded_Language', 'Loaded_Language', 'Repetition', 'Loaded_Language', 'Appeal_to_Hypocrisy', 'Appeal_to_Hypocrisy', 'Name_Calling-Labeling', 'Loaded_Language', 'Name_Calling-Labeling', 'Name_Calling-Labeling', 'Loaded_Language', 'Name_Calling-Labeling', 'Name_Calling-Labeling', 'Name_Calling-Labeling', 'Exaggeration-Minimisation', 'Flag_Waving', 'Loaded_Language', 'Doubt', 'Loaded_Language', 'Loaded_Language', 'Name_Calling-Labeling', 'Loaded_Language', 'Loaded_Language', 'Name_Calling-Labeling', 'Flag_Waving', 'Appeal_to_Fear-Prejudice', 'Name_Calling-Labeling', 'Repetition', 'Loaded_Language', 'Loaded_Language', 'Loaded_Language', 'Name_Calling-Labeling', 'Name_Calling-Labeling', 'Name_Calling-Labeling', 'Loaded_Language', 'Loaded_Language', 'Guilt_by_Association', 'Name_Calling-Labeling', 'Name_Calling-Labeling', 'Name_Calling-Labeling', 'Guilt_by_Association', 'Guilt_by_Association', 'Name_Calling-Labeling', 'Causal_Oversimplification', 'Guilt_by_Association', 'Doubt', 'Causal_Oversimplification', 'Appeal_to_Fear-Prejudice', 'Name_Calling-Labeling', 'Loaded_Language', 'Doubt', 'Loaded_Language', 'Exaggeration-Minimisation', 'Name_Calling-Labeling', 'Name_Calling-Labeling', 'Exaggeration-Minimisation', 'Doubt', 'Exaggeration-Minimisation', 'Causal_Oversimplification', 'Loaded_Language', 'Name_Calling-Labeling', 'Name_Calling-Labeling', 'Name_Calling-Labeling', 'Name_Calling-Labeling', 'Loaded_Language', 'Name_Calling-Labeling', 'Loaded_Language', 'Loaded_Language', 'Name_Calling-Labeling', 'Name_Calling-Labeling', 'Loaded_Language', 'Doubt', 'Exaggeration-Minimisation', 'Name_Calling-Labeling', 'Exaggeration-Minimisation', 'Loaded_Language', 'Appeal_to_Authority', 'Appeal_to_Authority', 'Doubt', 'Loaded_Language', 'Doubt', 'Appeal_to_Authority', 'Doubt', 'Loaded_Language', 'Exaggeration-Minimisation', 'False_Dilemma-No_Choice', 'Loaded_Language', 'Name_Calling-Labeling', 'Doubt', 'Doubt', 'Loaded_Language', 'Name_Calling-Labeling', 'Loaded_Language', 'Exaggeration-Minimisation', 'Appeal_to_Fear-Prejudice', 'Loaded_Language', 'Exaggeration-Minimisation', 'Name_Calling-Labeling', 'Name_Calling-Labeling', 'Loaded_Language', 'Flag_Waving', 'Exaggeration-Minimisation', 'Exaggeration-Minimisation', 'Exaggeration-Minimisation', 'Loaded_Language', 'Name_Calling-Labeling', 'Exaggeration-Minimisation', 'Name_Calling-Labeling', 'Loaded_Language', 'Name_Calling-Labeling', 'Exaggeration-Minimisation', 'Name_Calling-Labeling', 'Loaded_Language', 'Name_Calling-Labeling', 'Name_Calling-Labeling', 'Loaded_Language', 'Loaded_Language', 'Loaded_Language', 'Red_Herring', 'Loaded_Language', 'Name_Calling-Labeling', 'Loaded_Language', 'Loaded_Language', 'Loaded_Language', 'Loaded_Language', 'Loaded_Language', 'Name_Calling-Labeling', 'Doubt', 'Loaded_Language', 'Loaded_Language', 'Loaded_Language', 'Loaded_Language', 'Name_Calling-Labeling', 'Loaded_Language', 'Loaded_Language', 'Name_Calling-Labeling', 'Exaggeration-Minimisation', 'Loaded_Language', 'Repetition', 'Repetition', 'Repetition', 'Repetition', 'Repetition', 'Repetition', 'Repetition', 'Repetition', 'Red_Herring', 'Red_Herring', 'Repetition', 'Loaded_Language', 'Loaded_Language', 'Loaded_Language', 'Slogans', 'Slogans', 'Loaded_Language', 'Name_Calling-Labeling', 'Name_Calling-Labeling', 'Loaded_Language', 'Name_Calling-Labeling', 'Repetition', 'Flag_Waving', 'Name_Calling-Labeling', 'Loaded_Language', 'Flag_Waving', 'Name_Calling-Labeling', 'Name_Calling-Labeling', 'Name_Calling-Labeling', 'Loaded_Language', 'Loaded_Language', 'Name_Calling-Labeling', 'Loaded_Language', 'Doubt', 'Causal_Oversimplification', 'Loaded_Language', 'Loaded_Language', 'Name_Calling-Labeling', 'Name_Calling-Labeling', 'Loaded_Language', 'Name_Calling-Labeling', 'Name_Calling-Labeling', 'Loaded_Language', 'Doubt', 'Loaded_Language', 'Name_Calling-Labeling', 'Doubt', 'Loaded_Language', 'Causal_Oversimplification', 'Loaded_Language', 'Loaded_Language', 'Appeal_to_Authority', 'Loaded_Language', 'Loaded_Language', 'Name_Calling-Labeling', 'Loaded_Language', 'Appeal_to_Fear-Prejudice', 'Doubt', 'Name_Calling-Labeling', 'Appeal_to_Fear-Prejudice', 'Appeal_to_Fear-Prejudice', 'Appeal_to_Fear-Prejudice', 'Repetition', 'Name_Calling-Labeling', 'Repetition', 'Repetition', 'Exaggeration-Minimisation', 'Appeal_to_Fear-Prejudice', 'Doubt', 'Loaded_Language', 'Doubt', 'Exaggeration-Minimisation', 'Loaded_Language', 'Name_Calling-Labeling', 'Flag_Waving', 'False_Dilemma-No_Choice', 'Flag_Waving', 'Loaded_Language', 'Name_Calling-Labeling', 'Doubt', 'Causal_Oversimplification', 'Loaded_Language', 'Loaded_Language', 'Flag_Waving', 'Flag_Waving', 'Causal_Oversimplification', 'Doubt', 'Name_Calling-Labeling', 'Name_Calling-Labeling', 'Loaded_Language', 'Appeal_to_Hypocrisy', 'Name_Calling-Labeling', 'Exaggeration-Minimisation', 'Loaded_Language', 'Loaded_Language', 'Loaded_Language', 'Appeal_to_Hypocrisy', 'Loaded_Language', 'Loaded_Language', 'Doubt', 'Loaded_Language', 'Appeal_to_Hypocrisy', 'Repetition', 'Exaggeration-Minimisation', 'Name_Calling-Labeling', 'Loaded_Language', 'Name_Calling-Labeling', 'Slogans', 'Loaded_Language', 'Loaded_Language', 'Name_Calling-Labeling', 'Name_Calling-Labeling', 'Loaded_Language', 'Red_Herring', 'Name_Calling-Labeling', 'Doubt', 'Causal_Oversimplification', 'Loaded_Language', 'Exaggeration-Minimisation', 'Appeal_to_Fear-Prejudice', 'Loaded_Language', 'Loaded_Language', 'Exaggeration-Minimisation', 'Name_Calling-Labeling', 'Causal_Oversimplification', 'Name_Calling-Labeling', 'Exaggeration-Minimisation', 'Loaded_Language', 'Loaded_Language', 'Name_Calling-Labeling', 'Exaggeration-Minimisation', 'Slogans', 'Loaded_Language', 'Loaded_Language', 'Repetition', 'Loaded_Language', 'Doubt', 'Doubt', 'Name_Calling-Labeling', 'Doubt', 'Name_Calling-Labeling', 'Doubt', 'Slogans', 'Appeal_to_Authority', 'Name_Calling-Labeling', 'Causal_Oversimplification', 'Repetition', 'Exaggeration-Minimisation', 'Flag_Waving', 'Loaded_Language', 'Flag_Waving', 'Repetition', 'Loaded_Language', 'Slogans', 'Name_Calling-Labeling', 'Loaded_Language', 'Doubt', 'Loaded_Language', 'Exaggeration-Minimisation', 'Name_Calling-Labeling', 'Loaded_Language', 'Name_Calling-Labeling', 'Exaggeration-Minimisation', 'Loaded_Language', 'Loaded_Language', 'Obfuscation-Vagueness-Confusion', 'Name_Calling-Labeling', 'Flag_Waving', 'Name_Calling-Labeling', 'Causal_Oversimplification', 'Repetition', 'Appeal_to_Hypocrisy', 'Loaded_Language', 'Loaded_Language', 'Doubt', 'Loaded_Language', 'Name_Calling-Labeling', 'Name_Calling-Labeling', 'Name_Calling-Labeling', 'Name_Calling-Labeling', 'Name_Calling-Labeling', 'Loaded_Language', 'Name_Calling-Labeling', 'Repetition', 'Appeal_to_Fear-Prejudice', 'Loaded_Language', 'Slogans', 'Slogans', 'Name_Calling-Labeling', 'Repetition', 'Name_Calling-Labeling', 'Loaded_Language', 'Loaded_Language', 'Causal_Oversimplification', 'Name_Calling-Labeling', 'Loaded_Language', 'Loaded_Language', 'Loaded_Language', 'Name_Calling-Labeling', 'Loaded_Language', 'Repetition', 'Loaded_Language', 'Name_Calling-Labeling', 'Loaded_Language', 'Doubt', 'Loaded_Language', 'Name_Calling-Labeling', 'Loaded_Language', 'Name_Calling-Labeling', 'Loaded_Language', 'Flag_Waving', 'Slogans', 'Name_Calling-Labeling', 'Name_Calling-Labeling', 'Name_Calling-Labeling', 'Loaded_Language', 'Name_Calling-Labeling', 'Loaded_Language', 'Loaded_Language', 'Doubt', 'Name_Calling-Labeling', 'Exaggeration-Minimisation', 'Loaded_Language', 'Loaded_Language', 'Name_Calling-Labeling', 'Name_Calling-Labeling', 'Loaded_Language', 'Name_Calling-Labeling', 'Loaded_Language', 'Name_Calling-Labeling', 'Loaded_Language', 'Loaded_Language', 'Loaded_Language', 'Name_Calling-Labeling', 'Name_Calling-Labeling', 'Loaded_Language', 'Name_Calling-Labeling', 'Name_Calling-Labeling', 'Loaded_Language', 'Repetition', 'Name_Calling-Labeling', 'Loaded_Language', 'Loaded_Language', 'Loaded_Language', 'Name_Calling-Labeling', 'Loaded_Language', 'Name_Calling-Labeling', 'Repetition', 'Name_Calling-Labeling', 'Loaded_Language', 'Slogans', 'Name_Calling-Labeling', 'Loaded_Language', 'Name_Calling-Labeling', 'Repetition', 'Loaded_Language', 'Name_Calling-Labeling', 'Name_Calling-Labeling', 'Loaded_Language', 'Doubt', 'Name_Calling-Labeling', 'Whataboutism', 'Name_Calling-Labeling', 'Name_Calling-Labeling', 'Name_Calling-Labeling', 'Name_Calling-Labeling', 'Name_Calling-Labeling', 'Name_Calling-Labeling', 'Loaded_Language', 'Loaded_Language', 'Loaded_Language', 'Name_Calling-Labeling', 'Loaded_Language', 'Doubt', 'Name_Calling-Labeling', 'Name_Calling-Labeling', 'Name_Calling-Labeling', 'Loaded_Language', 'Causal_Oversimplification', 'Name_Calling-Labeling', 'Name_Calling-Labeling', 'Loaded_Language', 'Appeal_to_Fear-Prejudice', 'Exaggeration-Minimisation', 'Name_Calling-Labeling', 'Loaded_Language', 'Name_Calling-Labeling', 'Causal_Oversimplification', 'Name_Calling-Labeling', 'Name_Calling-Labeling', 'Exaggeration-Minimisation', 'Exaggeration-Minimisation', 'Loaded_Language', 'Loaded_Language', 'Exaggeration-Minimisation', 'Appeal_to_Fear-Prejudice', 'Loaded_Language', 'Exaggeration-Minimisation', 'Exaggeration-Minimisation', 'Loaded_Language', 'Loaded_Language', 'Loaded_Language', 'Loaded_Language', 'Doubt', 'Loaded_Language', 'Doubt', 'Loaded_Language', 'Doubt', 'Name_Calling-Labeling', 'Doubt', 'Doubt', 'Doubt', 'Doubt', 'Flag_Waving', 'Name_Calling-Labeling', 'Causal_Oversimplification', 'Flag_Waving', 'Flag_Waving', 'Name_Calling-Labeling', 'Loaded_Language', 'Loaded_Language', 'Name_Calling-Labeling', 'Flag_Waving', 'Loaded_Language', 'Doubt', 'Doubt', 'Loaded_Language', 'Loaded_Language', 'Loaded_Language', 'Name_Calling-Labeling', 'Guilt_by_Association', 'Loaded_Language', 'Name_Calling-Labeling', 'Appeal_to_Authority', 'Doubt', 'Loaded_Language', 'Appeal_to_Fear-Prejudice', 'Name_Calling-Labeling', 'Name_Calling-Labeling', 'Loaded_Language', 'Name_Calling-Labeling', 'Loaded_Language', 'Loaded_Language', 'Loaded_Language', 'Loaded_Language', 'Loaded_Language', 'Loaded_Language', 'Exaggeration-Minimisation', 'Name_Calling-Labeling', 'Loaded_Language', 'Loaded_Language', 'Exaggeration-Minimisation', 'Loaded_Language', 'Causal_Oversimplification', 'Exaggeration-Minimisation', 'Exaggeration-Minimisation', 'Name_Calling-Labeling', 'Loaded_Language', 'Loaded_Language', 'Flag_Waving', 'Loaded_Language', 'Loaded_Language', 'Loaded_Language', 'Slogans', 'Name_Calling-Labeling', 'Loaded_Language', 'Appeal_to_Authority', 'Loaded_Language', 'Loaded_Language', 'Repetition', 'Loaded_Language', 'Loaded_Language', 'Name_Calling-Labeling', 'Loaded_Language', 'Doubt', 'Loaded_Language', 'Loaded_Language', 'Doubt', 'Doubt', 'Repetition', 'Doubt', 'Loaded_Language', 'Loaded_Language', 'Exaggeration-Minimisation', 'Loaded_Language', 'Causal_Oversimplification', 'Loaded_Language', 'Flag_Waving', 'Loaded_Language', 'Appeal_to_Fear-Prejudice', 'Exaggeration-Minimisation', 'Loaded_Language', 'Loaded_Language', 'Exaggeration-Minimisation', 'Name_Calling-Labeling', 'Doubt', 'Exaggeration-Minimisation', 'Repetition', 'Flag_Waving', 'Name_Calling-Labeling', 'Loaded_Language', 'Flag_Waving', 'Loaded_Language', 'Appeal_to_Hypocrisy', 'Exaggeration-Minimisation', 'Doubt', 'Loaded_Language', 'Loaded_Language', 'Name_Calling-Labeling', 'Loaded_Language', 'Loaded_Language', 'Loaded_Language', 'Loaded_Language', 'Name_Calling-Labeling', 'Exaggeration-Minimisation', 'Doubt', 'Doubt', 'Causal_Oversimplification', 'Loaded_Language', 'Loaded_Language', 'Appeal_to_Authority', 'Causal_Oversimplification', 'Doubt', 'Exaggeration-Minimisation', 'Causal_Oversimplification', 'Doubt', 'Causal_Oversimplification', 'Loaded_Language', 'Loaded_Language', 'Loaded_Language', 'Loaded_Language', 'Exaggeration-Minimisation', 'Exaggeration-Minimisation', 'Loaded_Language', 'Loaded_Language', 'Loaded_Language', 'Loaded_Language', 'Flag_Waving', 'Name_Calling-Labeling', 'Loaded_Language', 'Name_Calling-Labeling', 'Loaded_Language', 'Loaded_Language', 'Repetition', 'False_Dilemma-No_Choice', 'Exaggeration-Minimisation', 'Loaded_Language', 'Repetition', 'Name_Calling-Labeling', 'Loaded_Language', 'Loaded_Language', 'Loaded_Language', 'Loaded_Language', 'Name_Calling-Labeling', 'Loaded_Language', 'Loaded_Language', 'Name_Calling-Labeling', 'Loaded_Language', 'Exaggeration-Minimisation', 'Loaded_Language', 'False_Dilemma-No_Choice', 'Flag_Waving', 'Slogans', 'Loaded_Language', 'Loaded_Language', 'Doubt', 'Doubt', 'Repetition', 'Flag_Waving', 'Loaded_Language', 'Loaded_Language', 'Appeal_to_Fear-Prejudice', 'Name_Calling-Labeling', 'Loaded_Language', 'Repetition', 'Appeal_to_Fear-Prejudice', 'Appeal_to_Fear-Prejudice', 'Name_Calling-Labeling', 'Loaded_Language', 'Loaded_Language', 'Name_Calling-Labeling', 'Loaded_Language', 'Doubt', 'Doubt', 'Repetition', 'Repetition', 'Loaded_Language', 'Appeal_to_Authority', 'Loaded_Language', 'Appeal_to_Fear-Prejudice', 'Loaded_Language', 'Flag_Waving', 'Loaded_Language', 'Repetition', 'Loaded_Language', 'Appeal_to_Fear-Prejudice', 'Exaggeration-Minimisation', 'Loaded_Language', 'Slogans', 'Slogans', 'Appeal_to_Fear-Prejudice', 'False_Dilemma-No_Choice', 'False_Dilemma-No_Choice', 'False_Dilemma-No_Choice', 'False_Dilemma-No_Choice', 'False_Dilemma-No_Choice', 'Loaded_Language', 'Appeal_to_Fear-Prejudice', 'Exaggeration-Minimisation', 'Appeal_to_Fear-Prejudice', 'Exaggeration-Minimisation', 'Name_Calling-Labeling', 'Name_Calling-Labeling', 'Name_Calling-Labeling', 'Loaded_Language', 'Loaded_Language', 'Name_Calling-Labeling', 'Name_Calling-Labeling', 'Loaded_Language', 'Name_Calling-Labeling', 'Exaggeration-Minimisation', 'Loaded_Language', 'Loaded_Language', 'Loaded_Language', 'Slogans', 'Name_Calling-Labeling', 'Loaded_Language', 'Loaded_Language', 'Loaded_Language', 'Appeal_to_Fear-Prejudice', 'Loaded_Language', 'Loaded_Language', 'Loaded_Language', 'Loaded_Language', 'Appeal_to_Fear-Prejudice', 'Appeal_to_Authority', 'Name_Calling-Labeling', 'Flag_Waving', 'Exaggeration-Minimisation', 'Loaded_Language', 'Flag_Waving', 'Appeal_to_Fear-Prejudice', 'Flag_Waving', 'Exaggeration-Minimisation', 'Loaded_Language', 'False_Dilemma-No_Choice', 'Flag_Waving', 'Appeal_to_Fear-Prejudice', 'Loaded_Language', 'Flag_Waving', 'Flag_Waving', 'Loaded_Language', 'Loaded_Language', 'Loaded_Language', 'Flag_Waving', 'Appeal_to_Fear-Prejudice', 'Exaggeration-Minimisation', 'Loaded_Language', 'False_Dilemma-No_Choice', 'Loaded_Language', 'Name_Calling-Labeling', 'Flag_Waving', 'Appeal_to_Fear-Prejudice', 'Loaded_Language', 'Loaded_Language', 'Loaded_Language', 'Loaded_Language', 'Loaded_Language', 'Repetition', 'Flag_Waving', 'Flag_Waving', 'Appeal_to_Fear-Prejudice', 'Loaded_Language', 'Loaded_Language', 'Repetition', 'Repetition', 'Slogans', 'Repetition', 'Repetition', 'Name_Calling-Labeling', 'Repetition', 'Loaded_Language', 'Causal_Oversimplification', 'Flag_Waving', 'Repetition', 'Name_Calling-Labeling', 'Slogans', 'Loaded_Language', 'False_Dilemma-No_Choice', 'Repetition', 'Repetition', 'Loaded_Language', 'Repetition', 'Loaded_Language', 'Loaded_Language', 'Loaded_Language', 'Loaded_Language', 'Loaded_Language', 'Name_Calling-Labeling', 'Flag_Waving', 'Flag_Waving', 'Loaded_Language', 'Repetition', 'Loaded_Language', 'Flag_Waving', 'Loaded_Language', 'Loaded_Language', 'Repetition', 'Causal_Oversimplification', 'Loaded_Language', 'Loaded_Language', 'Flag_Waving', 'Loaded_Language', 'Exaggeration-Minimisation', 'Loaded_Language', 'Name_Calling-Labeling', 'Repetition', 'Loaded_Language', 'Flag_Waving', 'Slogans', 'Flag_Waving', 'Name_Calling-Labeling', 'Repetition', 'Loaded_Language', 'Flag_Waving', 'Slogans', 'Slogans', 'Loaded_Language', 'False_Dilemma-No_Choice', 'Repetition', 'Repetition', 'Name_Calling-Labeling', 'Conversation_Killer', 'Name_Calling-Labeling', 'Conversation_Killer', 'Name_Calling-Labeling', 'Name_Calling-Labeling', 'Name_Calling-Labeling', 'Loaded_Language', 'Slogans', 'Loaded_Language', 'Slogans', 'Loaded_Language', 'Loaded_Language', 'Loaded_Language', 'Loaded_Language', 'Loaded_Language', 'Repetition', 'Name_Calling-Labeling', 'Name_Calling-Labeling', 'Exaggeration-Minimisation', 'Loaded_Language', 'Name_Calling-Labeling', 'Loaded_Language', 'Loaded_Language', 'Name_Calling-Labeling', 'False_Dilemma-No_Choice', 'Doubt', 'Doubt', 'Flag_Waving', 'Flag_Waving', 'Flag_Waving', 'Flag_Waving', 'Loaded_Language', 'Loaded_Language', 'Flag_Waving', 'Flag_Waving', 'Name_Calling-Labeling', 'Flag_Waving', 'Repetition', 'Loaded_Language', 'Slogans', 'Repetition', 'Flag_Waving', 'Loaded_Language', 'Doubt', 'Loaded_Language', 'Loaded_Language', 'Loaded_Language', 'Loaded_Language', 'Repetition', 'Repetition', 'Straw_Man', 'Repetition', 'Causal_Oversimplification', 'Slogans', 'Conversation_Killer', 'Flag_Waving', 'Appeal_to_Fear-Prejudice', 'Repetition', 'Repetition', 'Repetition', 'Repetition', 'Exaggeration-Minimisation', 'Appeal_to_Authority', 'Exaggeration-Minimisation', 'Exaggeration-Minimisation', 'Doubt', 'Loaded_Language', 'Exaggeration-Minimisation', 'Loaded_Language', 'Loaded_Language', 'Repetition', 'Doubt', 'Appeal_to_Fear-Prejudice', 'Loaded_Language', 'Loaded_Language', 'Doubt', 'Exaggeration-Minimisation', 'Loaded_Language', 'Appeal_to_Fear-Prejudice', 'Loaded_Language', 'Exaggeration-Minimisation', 'Loaded_Language', 'Repetition', 'Exaggeration-Minimisation', 'Repetition', 'Loaded_Language', 'Loaded_Language', 'Loaded_Language', 'Causal_Oversimplification', 'Loaded_Language', 'Name_Calling-Labeling', 'Loaded_Language', 'Conversation_Killer', 'Loaded_Language', 'Loaded_Language', 'Loaded_Language', 'Loaded_Language', 'Conversation_Killer', 'Loaded_Language', 'Exaggeration-Minimisation', 'Repetition', 'Loaded_Language', 'Flag_Waving', 'Name_Calling-Labeling', 'Loaded_Language', 'Loaded_Language', 'Loaded_Language', 'Exaggeration-Minimisation', 'Loaded_Language', 'Exaggeration-Minimisation', 'Name_Calling-Labeling', 'Causal_Oversimplification', 'Loaded_Language', 'Appeal_to_Fear-Prejudice', 'Repetition', 'Loaded_Language', 'Loaded_Language', 'Loaded_Language', 'Conversation_Killer', 'Loaded_Language', 'Doubt', 'Appeal_to_Authority', 'Flag_Waving', 'Doubt', 'Loaded_Language', 'Loaded_Language', 'Repetition', 'Exaggeration-Minimisation', 'Loaded_Language', 'Repetition', 'Appeal_to_Fear-Prejudice', 'Loaded_Language', 'Causal_Oversimplification', 'Loaded_Language', 'Causal_Oversimplification', 'Causal_Oversimplification', 'Conversation_Killer', 'Guilt_by_Association', 'Causal_Oversimplification', 'Guilt_by_Association', 'Loaded_Language', 'Loaded_Language', 'Loaded_Language', 'Loaded_Language', 'Exaggeration-Minimisation', 'Loaded_Language', 'Exaggeration-Minimisation', 'Guilt_by_Association', 'Loaded_Language', 'Appeal_to_Popularity', 'False_Dilemma-No_Choice', 'Exaggeration-Minimisation', 'Loaded_Language', 'Repetition', 'Repetition', 'Loaded_Language', 'Appeal_to_Fear-Prejudice', 'Loaded_Language', 'Loaded_Language', 'Name_Calling-Labeling', 'Loaded_Language', 'Appeal_to_Fear-Prejudice', 'Loaded_Language', 'Loaded_Language', 'Exaggeration-Minimisation', 'Exaggeration-Minimisation', 'Loaded_Language', 'Flag_Waving', 'Doubt', 'Loaded_Language', 'Flag_Waving', 'Exaggeration-Minimisation', 'Appeal_to_Hypocrisy', 'Repetition', 'Exaggeration-Minimisation', 'Loaded_Language', 'Loaded_Language', 'Loaded_Language', 'Doubt', 'Name_Calling-Labeling', 'Exaggeration-Minimisation', 'Loaded_Language', 'Loaded_Language', 'Loaded_Language', 'Appeal_to_Fear-Prejudice', 'Loaded_Language', 'Doubt', 'Loaded_Language', 'Name_Calling-Labeling', 'Name_Calling-Labeling', 'Loaded_Language', 'Name_Calling-Labeling', 'Repetition', 'Name_Calling-Labeling', 'Doubt', 'Loaded_Language', 'Exaggeration-Minimisation', 'Name_Calling-Labeling', 'Doubt', 'Appeal_to_Fear-Prejudice', 'Exaggeration-Minimisation', 'Causal_Oversimplification', 'Causal_Oversimplification', 'Doubt', 'Doubt', 'Name_Calling-Labeling', 'Name_Calling-Labeling', 'Exaggeration-Minimisation', 'Causal_Oversimplification', 'Loaded_Language', 'Name_Calling-Labeling', 'Name_Calling-Labeling', 'Exaggeration-Minimisation', 'Doubt', 'Loaded_Language', 'Appeal_to_Fear-Prejudice', 'Appeal_to_Fear-Prejudice', 'Loaded_Language', 'Loaded_Language', 'Loaded_Language', 'Conversation_Killer', 'Loaded_Language', 'Loaded_Language', 'Loaded_Language', 'Doubt', 'Appeal_to_Authority', 'Loaded_Language', 'Loaded_Language', 'Slogans', 'Loaded_Language', 'Repetition', 'Slogans', 'Repetition', 'Repetition', 'Slogans', 'Slogans', 'Doubt', 'Loaded_Language', 'Loaded_Language', 'Loaded_Language', 'Loaded_Language', 'Repetition', 'Loaded_Language', 'Loaded_Language', 'Repetition', 'Loaded_Language', 'Loaded_Language', 'Loaded_Language', 'Doubt', 'Loaded_Language', 'Repetition', 'Repetition', 'Doubt', 'Conversation_Killer', 'Flag_Waving', 'Conversation_Killer', 'Flag_Waving', 'Conversation_Killer', 'Flag_Waving', 'Loaded_Language', 'Loaded_Language', 'Doubt', 'Loaded_Language', 'Repetition', 'Loaded_Language', 'Loaded_Language', 'Loaded_Language', 'Loaded_Language', 'Appeal_to_Fear-Prejudice', 'Name_Calling-Labeling', 'Loaded_Language', 'Loaded_Language', 'Loaded_Language', 'Loaded_Language', 'Loaded_Language', 'Loaded_Language', 'Loaded_Language', 'Loaded_Language', 'Loaded_Language', 'Flag_Waving', 'Flag_Waving', 'Loaded_Language', 'Appeal_to_Fear-Prejudice', 'Loaded_Language', 'Loaded_Language', 'Loaded_Language', 'Loaded_Language', 'Loaded_Language', 'Loaded_Language', 'Doubt', 'Name_Calling-Labeling', 'Name_Calling-Labeling', 'Loaded_Language', 'Exaggeration-Minimisation', 'Repetition', 'Name_Calling-Labeling', 'Name_Calling-Labeling', 'Loaded_Language', 'Loaded_Language', 'Doubt', 'Doubt', 'Appeal_to_Authority', 'Doubt', 'Doubt', 'Doubt', 'Doubt', 'Repetition', 'Loaded_Language', 'Name_Calling-Labeling', 'Loaded_Language', 'Exaggeration-Minimisation', 'Name_Calling-Labeling', 'Repetition', 'Exaggeration-Minimisation', 'Loaded_Language', 'Loaded_Language', 'Loaded_Language', 'Loaded_Language', 'Repetition', 'Conversation_Killer', 'Appeal_to_Fear-Prejudice', 'Loaded_Language', 'Name_Calling-Labeling', 'Name_Calling-Labeling', 'Repetition', 'Doubt', 'Name_Calling-Labeling', 'Name_Calling-Labeling', 'Repetition', 'Doubt', 'Name_Calling-Labeling', 'Name_Calling-Labeling', 'Doubt', 'Appeal_to_Fear-Prejudice', 'Doubt', 'Loaded_Language', 'Exaggeration-Minimisation', 'Repetition', 'Loaded_Language', 'Loaded_Language', 'Repetition', 'Repetition', 'Repetition', 'Doubt', 'Name_Calling-Labeling', 'Loaded_Language', 'Loaded_Language', 'Name_Calling-Labeling', 'Loaded_Language', 'Loaded_Language', 'Name_Calling-Labeling', 'Loaded_Language', 'Slogans', 'Exaggeration-Minimisation', 'Loaded_Language', 'Conversation_Killer', 'Name_Calling-Labeling', 'Exaggeration-Minimisation', 'Loaded_Language', 'Loaded_Language', 'Loaded_Language', 'Flag_Waving', 'Flag_Waving', 'Loaded_Language', 'Loaded_Language', 'Doubt', 'Loaded_Language', 'Loaded_Language', 'Loaded_Language', 'Conversation_Killer', 'Exaggeration-Minimisation', 'Loaded_Language', 'Flag_Waving', 'Doubt', 'Doubt', 'Flag_Waving', 'Loaded_Language', 'Repetition', 'Flag_Waving', 'Name_Calling-Labeling', 'Loaded_Language', 'Doubt', 'Conversation_Killer', 'Appeal_to_Hypocrisy', 'Loaded_Language', 'Loaded_Language', 'Doubt', 'Name_Calling-Labeling', 'Flag_Waving', 'Doubt', 'Loaded_Language', 'Flag_Waving', 'Repetition', 'Loaded_Language', 'Loaded_Language', 'Loaded_Language', 'Name_Calling-Labeling', 'Repetition', 'Loaded_Language', 'Repetition', 'Loaded_Language', 'Doubt', 'Exaggeration-Minimisation', 'Loaded_Language', 'Repetition', 'Repetition', 'Repetition', 'Repetition', 'Repetition', 'Red_Herring', 'Loaded_Language', 'Name_Calling-Labeling', 'Loaded_Language', 'Repetition', 'Repetition', 'Flag_Waving', 'Loaded_Language', 'Repetition', 'Loaded_Language', 'Repetition', 'Repetition', 'Name_Calling-Labeling', 'Repetition', 'Repetition', 'Repetition', 'Repetition', 'Loaded_Language', 'Loaded_Language', 'Loaded_Language', 'Loaded_Language', 'Repetition', 'Loaded_Language', 'Causal_Oversimplification', 'Name_Calling-Labeling', 'Loaded_Language', 'Repetition', 'Loaded_Language', 'Loaded_Language', 'Flag_Waving', 'Doubt', 'Appeal_to_Authority', 'Doubt', 'Loaded_Language', 'Loaded_Language', 'Red_Herring', 'Flag_Waving', 'Flag_Waving', 'Name_Calling-Labeling', 'Repetition', 'Repetition', 'Loaded_Language', 'Exaggeration-Minimisation', 'Exaggeration-Minimisation', 'Conversation_Killer', 'Conversation_Killer', 'Loaded_Language', 'Doubt', 'Appeal_to_Fear-Prejudice', 'Repetition', 'Doubt', 'Loaded_Language', 'Flag_Waving', 'Loaded_Language', 'Exaggeration-Minimisation', 'Loaded_Language', 'Name_Calling-Labeling', 'Flag_Waving', 'Exaggeration-Minimisation', 'Loaded_Language', 'Doubt', 'Name_Calling-Labeling', 'Loaded_Language', 'Appeal_to_Authority', 'Loaded_Language', 'Whataboutism', 'Loaded_Language', 'Loaded_Language', 'Repetition', 'Loaded_Language', 'Name_Calling-Labeling', 'Repetition', 'Name_Calling-Labeling', 'Name_Calling-Labeling', 'Name_Calling-Labeling', 'Loaded_Language', 'Loaded_Language', 'Flag_Waving', 'Doubt', 'Repetition', 'Repetition', 'Exaggeration-Minimisation', 'Name_Calling-Labeling', 'Appeal_to_Authority', 'Loaded_Language', 'Name_Calling-Labeling', 'Name_Calling-Labeling', 'Flag_Waving', 'Loaded_Language', 'Name_Calling-Labeling', 'Loaded_Language', 'Loaded_Language', 'Loaded_Language', 'Name_Calling-Labeling', 'Name_Calling-Labeling', 'Loaded_Language', 'Name_Calling-Labeling', 'Name_Calling-Labeling', 'False_Dilemma-No_Choice', 'Name_Calling-Labeling', 'Loaded_Language', 'Loaded_Language', 'Name_Calling-Labeling', 'Loaded_Language', 'Loaded_Language', 'Exaggeration-Minimisation', 'Flag_Waving', 'Name_Calling-Labeling', 'Loaded_Language', 'Loaded_Language', 'Doubt', 'Name_Calling-Labeling', 'Exaggeration-Minimisation', 'Doubt', 'Doubt', 'Doubt', 'Loaded_Language', 'Name_Calling-Labeling', 'Name_Calling-Labeling', 'Loaded_Language', 'Doubt', 'Doubt', 'Name_Calling-Labeling', 'Loaded_Language', 'Doubt', 'Doubt', 'Repetition', 'Name_Calling-Labeling', 'Name_Calling-Labeling', 'Name_Calling-Labeling', 'Doubt', 'Doubt', 'Exaggeration-Minimisation', 'Appeal_to_Authority', 'Doubt', 'Doubt', 'Name_Calling-Labeling', 'Name_Calling-Labeling', 'Doubt', 'Loaded_Language', 'Name_Calling-Labeling', 'Doubt', 'Name_Calling-Labeling', 'Name_Calling-Labeling', 'Loaded_Language', 'Doubt', 'Doubt', 'Name_Calling-Labeling', 'Loaded_Language', 'Loaded_Language', 'Name_Calling-Labeling', 'Doubt', 'Name_Calling-Labeling', 'Doubt', 'Name_Calling-Labeling', 'Doubt', 'Loaded_Language', 'Name_Calling-Labeling', 'Doubt', 'Doubt', 'Name_Calling-Labeling', 'Loaded_Language', 'Name_Calling-Labeling', 'Name_Calling-Labeling', 'Doubt', 'Name_Calling-Labeling', 'Doubt', 'Name_Calling-Labeling', 'Doubt', 'Name_Calling-Labeling', 'Name_Calling-Labeling', 'Name_Calling-Labeling', 'Exaggeration-Minimisation', 'Doubt', 'Name_Calling-Labeling', 'Name_Calling-Labeling', 'Name_Calling-Labeling', 'Doubt', 'Name_Calling-Labeling', 'Doubt', 'Name_Calling-Labeling', 'Loaded_Language', 'Name_Calling-Labeling', 'Doubt', 'Name_Calling-Labeling', 'Doubt', 'Loaded_Language', 'Causal_Oversimplification', 'Name_Calling-Labeling', 'Loaded_Language', 'Name_Calling-Labeling', 'Name_Calling-Labeling', 'Name_Calling-Labeling', 'Name_Calling-Labeling', 'Causal_Oversimplification', 'Repetition', 'Name_Calling-Labeling', 'Doubt', 'Doubt', 'Doubt', 'Loaded_Language', 'Loaded_Language', 'Name_Calling-Labeling', 'Doubt', 'Name_Calling-Labeling', 'Doubt', 'Name_Calling-Labeling', 'Exaggeration-Minimisation', 'Loaded_Language', 'Doubt', 'Name_Calling-Labeling', 'Doubt', 'Doubt', 'Loaded_Language', 'Loaded_Language', 'Doubt', 'Name_Calling-Labeling', 'Name_Calling-Labeling', 'Name_Calling-Labeling', 'Doubt', 'Exaggeration-Minimisation', 'Exaggeration-Minimisation', 'Loaded_Language', 'Name_Calling-Labeling', 'Name_Calling-Labeling', 'Doubt', 'Name_Calling-Labeling', 'Repetition', 'Exaggeration-Minimisation', 'Name_Calling-Labeling', 'Doubt', 'Name_Calling-Labeling', 'Name_Calling-Labeling', 'Doubt', 'Doubt', 'Name_Calling-Labeling', 'Loaded_Language', 'Name_Calling-Labeling', 'Name_Calling-Labeling', 'Doubt', 'Loaded_Language', 'Exaggeration-Minimisation', 'Loaded_Language', 'Causal_Oversimplification', 'Loaded_Language', 'Doubt', 'Name_Calling-Labeling', 'Causal_Oversimplification', 'Doubt', 'Guilt_by_Association', 'Name_Calling-Labeling', 'Loaded_Language', 'Appeal_to_Hypocrisy', 'Loaded_Language', 'Doubt', 'Name_Calling-Labeling', 'Name_Calling-Labeling', 'Name_Calling-Labeling', 'Doubt', 'Exaggeration-Minimisation', 'Doubt', 'Repetition', 'Doubt', 'Loaded_Language', 'Name_Calling-Labeling', 'Appeal_to_Fear-Prejudice', 'Loaded_Language', 'Exaggeration-Minimisation', 'Slogans', 'Exaggeration-Minimisation', 'Name_Calling-Labeling', 'Exaggeration-Minimisation', 'Name_Calling-Labeling', 'Exaggeration-Minimisation', 'False_Dilemma-No_Choice', 'Loaded_Language', 'False_Dilemma-No_Choice', 'Loaded_Language', 'Name_Calling-Labeling', 'Loaded_Language', 'Conversation_Killer', 'Red_Herring', 'Conversation_Killer', 'Obfuscation-Vagueness-Confusion', 'Obfuscation-Vagueness-Confusion', 'Loaded_Language', 'Loaded_Language', 'Exaggeration-Minimisation', 'Loaded_Language', 'Repetition', 'Loaded_Language', 'Slogans', 'Flag_Waving', 'Repetition', 'Loaded_Language', 'Doubt', 'Loaded_Language', 'Loaded_Language', 'Loaded_Language', 'Exaggeration-Minimisation', 'Loaded_Language', 'Loaded_Language', 'Exaggeration-Minimisation', 'Name_Calling-Labeling', 'Loaded_Language', 'Repetition', 'Red_Herring', 'Whataboutism', 'Repetition', 'Conversation_Killer', 'Name_Calling-Labeling', 'False_Dilemma-No_Choice', 'Loaded_Language', 'Exaggeration-Minimisation', 'Flag_Waving', 'Flag_Waving', 'Flag_Waving', 'Flag_Waving', 'Repetition', 'Loaded_Language', 'Flag_Waving', 'Obfuscation-Vagueness-Confusion', 'Flag_Waving', 'Loaded_Language', 'Repetition', 'Flag_Waving', 'Flag_Waving', 'Flag_Waving', 'Repetition', 'Appeal_to_Fear-Prejudice', 'Loaded_Language', 'Loaded_Language', 'Exaggeration-Minimisation', 'Loaded_Language', 'False_Dilemma-No_Choice', 'Appeal_to_Fear-Prejudice', 'Loaded_Language', 'Exaggeration-Minimisation', 'Exaggeration-Minimisation', 'Name_Calling-Labeling', 'Repetition', 'Appeal_to_Fear-Prejudice', 'Exaggeration-Minimisation', 'Name_Calling-Labeling', 'Loaded_Language', 'Loaded_Language', 'Exaggeration-Minimisation', 'Repetition', 'Loaded_Language', 'Exaggeration-Minimisation', 'Loaded_Language', 'Name_Calling-Labeling', 'Loaded_Language', 'Doubt', 'Loaded_Language', 'Loaded_Language', 'Loaded_Language', 'Name_Calling-Labeling', 'Loaded_Language', 'Causal_Oversimplification', 'Doubt', 'Loaded_Language', 'Doubt', 'Doubt', 'Repetition', 'Exaggeration-Minimisation', 'Loaded_Language', 'Doubt', 'Exaggeration-Minimisation', 'Name_Calling-Labeling', 'Exaggeration-Minimisation', 'Loaded_Language', 'Loaded_Language', 'Name_Calling-Labeling', 'Doubt', 'Doubt', 'Loaded_Language', 'Causal_Oversimplification', 'Red_Herring', 'Name_Calling-Labeling', 'Loaded_Language', 'Loaded_Language', 'Exaggeration-Minimisation', 'Doubt', 'Exaggeration-Minimisation', 'Doubt', 'Name_Calling-Labeling', 'Loaded_Language', 'Loaded_Language', 'Name_Calling-Labeling', 'Name_Calling-Labeling', 'Doubt', 'Exaggeration-Minimisation', 'Loaded_Language', 'Appeal_to_Fear-Prejudice', 'Loaded_Language', 'Flag_Waving', 'Flag_Waving', 'Doubt', 'Name_Calling-Labeling', 'Red_Herring', 'Doubt', 'Exaggeration-Minimisation', 'Loaded_Language', 'Loaded_Language', 'Doubt', 'Flag_Waving', 'Flag_Waving', 'Doubt', 'Exaggeration-Minimisation', 'Appeal_to_Hypocrisy', 'Appeal_to_Hypocrisy', 'Loaded_Language', 'Exaggeration-Minimisation', 'Loaded_Language', 'Doubt', 'Causal_Oversimplification', 'Loaded_Language', 'Name_Calling-Labeling', 'Name_Calling-Labeling', 'Name_Calling-Labeling', 'Doubt', 'Exaggeration-Minimisation', 'Loaded_Language', 'Loaded_Language', 'Loaded_Language', 'Exaggeration-Minimisation', 'Doubt', 'Name_Calling-Labeling', 'Doubt', 'Doubt', 'Name_Calling-Labeling', 'Loaded_Language', 'Loaded_Language', 'Loaded_Language', 'False_Dilemma-No_Choice', 'Loaded_Language', 'Loaded_Language', 'Loaded_Language', 'Loaded_Language', 'Slogans', 'Flag_Waving', 'Slogans', 'Name_Calling-Labeling', 'Repetition', 'Name_Calling-Labeling', 'Repetition', 'Appeal_to_Popularity', 'Exaggeration-Minimisation', 'Flag_Waving', 'Name_Calling-Labeling', 'Repetition', 'Loaded_Language', 'Name_Calling-Labeling', 'Repetition', 'Name_Calling-Labeling', 'Repetition', 'Name_Calling-Labeling', 'Flag_Waving', 'Causal_Oversimplification', 'Slogans', 'Repetition', 'Loaded_Language', 'Loaded_Language', 'Loaded_Language', 'Name_Calling-Labeling', 'Loaded_Language', 'Appeal_to_Popularity', 'Causal_Oversimplification', 'Loaded_Language', 'Loaded_Language', 'Repetition', 'Loaded_Language', 'Appeal_to_Fear-Prejudice', 'False_Dilemma-No_Choice', 'Repetition', 'Loaded_Language', 'Loaded_Language', 'Loaded_Language', 'Loaded_Language', 'Exaggeration-Minimisation', 'Loaded_Language', 'Loaded_Language', 'Doubt', 'Doubt', 'False_Dilemma-No_Choice', 'Appeal_to_Fear-Prejudice', 'Exaggeration-Minimisation', 'Loaded_Language', 'Loaded_Language', 'Name_Calling-Labeling', 'Repetition', 'Name_Calling-Labeling', 'Repetition', 'Repetition', 'Loaded_Language', 'Name_Calling-Labeling', 'Exaggeration-Minimisation', 'Loaded_Language', 'Loaded_Language', 'Loaded_Language', 'Exaggeration-Minimisation', 'Name_Calling-Labeling', 'Conversation_Killer', 'Conversation_Killer', 'False_Dilemma-No_Choice', 'Loaded_Language', 'Exaggeration-Minimisation', 'Loaded_Language', 'Exaggeration-Minimisation', 'Name_Calling-Labeling', 'Slogans', 'Conversation_Killer', 'Exaggeration-Minimisation', 'Exaggeration-Minimisation', 'Repetition', 'Repetition', 'Repetition', 'Loaded_Language', 'Loaded_Language', 'Exaggeration-Minimisation', 'Name_Calling-Labeling', 'Loaded_Language', 'Loaded_Language', 'Name_Calling-Labeling', 'Loaded_Language', 'Loaded_Language', 'Loaded_Language', 'Causal_Oversimplification', 'Appeal_to_Popularity', 'Doubt', 'Loaded_Language', 'Loaded_Language', 'Loaded_Language', 'Doubt', 'Doubt', 'Loaded_Language', 'Loaded_Language', 'Conversation_Killer', 'Repetition', 'Loaded_Language', 'Loaded_Language', 'Loaded_Language', 'Loaded_Language', 'Exaggeration-Minimisation', 'Name_Calling-Labeling', 'Exaggeration-Minimisation', 'Appeal_to_Fear-Prejudice', 'Loaded_Language', 'Exaggeration-Minimisation', 'Loaded_Language', 'False_Dilemma-No_Choice', 'False_Dilemma-No_Choice', 'Appeal_to_Fear-Prejudice', 'Loaded_Language', 'False_Dilemma-No_Choice', 'Loaded_Language', 'Exaggeration-Minimisation', 'Appeal_to_Fear-Prejudice', 'Name_Calling-Labeling', 'Name_Calling-Labeling', 'Name_Calling-Labeling', 'Loaded_Language', 'Loaded_Language', 'Loaded_Language', 'Loaded_Language', 'Repetition', 'Loaded_Language', 'Loaded_Language', 'False_Dilemma-No_Choice', 'Appeal_to_Fear-Prejudice', 'Loaded_Language', 'Loaded_Language', 'Loaded_Language', 'False_Dilemma-No_Choice', 'Appeal_to_Fear-Prejudice', 'Appeal_to_Fear-Prejudice', 'Exaggeration-Minimisation', 'Loaded_Language', 'Appeal_to_Fear-Prejudice', 'Loaded_Language', 'Repetition', 'Loaded_Language', 'Appeal_to_Fear-Prejudice', 'Loaded_Language', 'Loaded_Language', 'Appeal_to_Fear-Prejudice', 'Loaded_Language', 'Loaded_Language', 'False_Dilemma-No_Choice', 'Loaded_Language', 'Name_Calling-Labeling', 'Loaded_Language', 'Exaggeration-Minimisation', 'Loaded_Language', 'Repetition', 'Loaded_Language', 'Loaded_Language', 'False_Dilemma-No_Choice', 'Appeal_to_Fear-Prejudice', 'Appeal_to_Fear-Prejudice', 'Name_Calling-Labeling', 'Exaggeration-Minimisation', 'Appeal_to_Fear-Prejudice', 'Name_Calling-Labeling', 'Loaded_Language', 'Appeal_to_Fear-Prejudice', 'Appeal_to_Fear-Prejudice', 'Name_Calling-Labeling', 'Appeal_to_Fear-Prejudice', 'Appeal_to_Fear-Prejudice', 'Loaded_Language', 'Name_Calling-Labeling', 'Appeal_to_Fear-Prejudice', 'Name_Calling-Labeling', 'Loaded_Language', 'Doubt', 'Appeal_to_Fear-Prejudice', 'Name_Calling-Labeling', 'Appeal_to_Hypocrisy', 'Causal_Oversimplification', 'Name_Calling-Labeling', 'Loaded_Language', 'Causal_Oversimplification', 'Name_Calling-Labeling', 'Loaded_Language', 'Red_Herring', 'Loaded_Language', 'Loaded_Language', 'Appeal_to_Popularity', 'Name_Calling-Labeling', 'Name_Calling-Labeling', 'Appeal_to_Fear-Prejudice', 'Doubt', 'Appeal_to_Fear-Prejudice', 'Loaded_Language', 'Appeal_to_Fear-Prejudice', 'Appeal_to_Fear-Prejudice', 'Appeal_to_Fear-Prejudice', 'Loaded_Language', 'Loaded_Language', 'Exaggeration-Minimisation', 'Whataboutism', 'Loaded_Language', 'Doubt', 'Causal_Oversimplification', 'Loaded_Language', 'Loaded_Language', 'Loaded_Language', 'Name_Calling-Labeling', 'Name_Calling-Labeling', 'Doubt', 'Name_Calling-Labeling', 'Name_Calling-Labeling', 'Repetition', 'Appeal_to_Fear-Prejudice', 'Loaded_Language', 'Flag_Waving', 'Loaded_Language', 'Doubt', 'Repetition', 'Appeal_to_Fear-Prejudice', 'Loaded_Language', 'Repetition', 'Loaded_Language', 'Appeal_to_Fear-Prejudice', 'Appeal_to_Fear-Prejudice', 'Exaggeration-Minimisation', 'Exaggeration-Minimisation', 'Loaded_Language', 'Repetition', 'Loaded_Language', 'Loaded_Language', 'Name_Calling-Labeling', 'Loaded_Language', 'Appeal_to_Popularity', 'Loaded_Language', 'Name_Calling-Labeling', 'Exaggeration-Minimisation', 'Name_Calling-Labeling', 'Loaded_Language', 'Loaded_Language', 'Name_Calling-Labeling', 'Loaded_Language', 'Loaded_Language', 'Appeal_to_Fear-Prejudice', 'Doubt', 'Doubt', 'Loaded_Language', 'Doubt', 'Doubt', 'Appeal_to_Authority', 'Appeal_to_Fear-Prejudice', 'False_Dilemma-No_Choice', 'False_Dilemma-No_Choice', 'Loaded_Language', 'Appeal_to_Authority', 'Exaggeration-Minimisation', 'Loaded_Language', 'Appeal_to_Fear-Prejudice', 'Loaded_Language', 'Appeal_to_Fear-Prejudice', 'False_Dilemma-No_Choice', 'Exaggeration-Minimisation', 'Name_Calling-Labeling', 'False_Dilemma-No_Choice', 'Doubt', 'Name_Calling-Labeling', 'Appeal_to_Popularity', 'Loaded_Language', 'Exaggeration-Minimisation', 'Name_Calling-Labeling', 'Doubt', 'Appeal_to_Fear-Prejudice', 'False_Dilemma-No_Choice', 'Name_Calling-Labeling', 'Appeal_to_Fear-Prejudice', 'Flag_Waving', 'Appeal_to_Fear-Prejudice', 'Name_Calling-Labeling', 'Loaded_Language', 'Exaggeration-Minimisation', 'Repetition', 'Loaded_Language', 'Repetition', 'Exaggeration-Minimisation', 'False_Dilemma-No_Choice', 'Name_Calling-Labeling', 'Name_Calling-Labeling', 'Flag_Waving', 'Straw_Man', 'Flag_Waving', 'Loaded_Language', 'False_Dilemma-No_Choice', 'Doubt', 'Loaded_Language', 'Appeal_to_Popularity', 'Appeal_to_Popularity', 'Appeal_to_Fear-Prejudice', 'Appeal_to_Fear-Prejudice', 'Appeal_to_Authority', 'Loaded_Language', 'Appeal_to_Popularity', 'Appeal_to_Popularity', 'Slogans', 'Conversation_Killer', 'Name_Calling-Labeling', 'Loaded_Language', 'Name_Calling-Labeling', 'Exaggeration-Minimisation', 'Appeal_to_Fear-Prejudice', 'Loaded_Language', 'Name_Calling-Labeling', 'Flag_Waving', 'Name_Calling-Labeling', 'Loaded_Language', 'Appeal_to_Authority', 'Doubt', 'Name_Calling-Labeling', 'Doubt', 'Flag_Waving', 'Loaded_Language', 'Exaggeration-Minimisation', 'Loaded_Language', 'Straw_Man', 'Name_Calling-Labeling', 'Loaded_Language', 'Name_Calling-Labeling', 'Exaggeration-Minimisation', 'Appeal_to_Fear-Prejudice', 'Exaggeration-Minimisation', 'Doubt', 'Flag_Waving', 'Doubt', 'Appeal_to_Popularity', 'Loaded_Language', 'Exaggeration-Minimisation', 'Loaded_Language', 'Loaded_Language', 'Name_Calling-Labeling', 'Exaggeration-Minimisation', 'Appeal_to_Authority', 'Guilt_by_Association', 'Loaded_Language', 'Name_Calling-Labeling', 'Name_Calling-Labeling', 'Name_Calling-Labeling', 'Name_Calling-Labeling', 'Loaded_Language', 'Loaded_Language', 'Loaded_Language', 'Appeal_to_Fear-Prejudice', 'False_Dilemma-No_Choice', 'Loaded_Language', 'Name_Calling-Labeling', 'Causal_Oversimplification', 'Name_Calling-Labeling', 'Name_Calling-Labeling', 'Name_Calling-Labeling', 'Loaded_Language', 'Appeal_to_Fear-Prejudice', 'False_Dilemma-No_Choice', 'Exaggeration-Minimisation', 'Loaded_Language', 'Doubt', 'Name_Calling-Labeling', 'Exaggeration-Minimisation', 'Name_Calling-Labeling', 'Loaded_Language', 'Appeal_to_Popularity', 'Appeal_to_Popularity', 'Exaggeration-Minimisation', 'Appeal_to_Popularity', 'Name_Calling-Labeling', 'Appeal_to_Popularity', 'Name_Calling-Labeling', 'Doubt', 'Name_Calling-Labeling', 'Doubt', 'Name_Calling-Labeling', 'Exaggeration-Minimisation', 'Loaded_Language', 'Exaggeration-Minimisation', 'Repetition', 'Appeal_to_Fear-Prejudice', 'Name_Calling-Labeling', 'Appeal_to_Fear-Prejudice', 'Repetition', 'Loaded_Language', 'Loaded_Language', 'Name_Calling-Labeling', 'Loaded_Language', 'False_Dilemma-No_Choice', 'Loaded_Language', 'Doubt', 'Loaded_Language', 'Name_Calling-Labeling', 'Loaded_Language', 'Loaded_Language', 'Loaded_Language', 'Appeal_to_Fear-Prejudice', 'False_Dilemma-No_Choice', 'False_Dilemma-No_Choice', 'Appeal_to_Popularity', 'Appeal_to_Popularity', 'Appeal_to_Popularity', 'Appeal_to_Popularity', 'Appeal_to_Popularity', 'Loaded_Language', 'Doubt', 'Name_Calling-Labeling', 'Exaggeration-Minimisation', 'Doubt', 'Loaded_Language', 'Slogans', 'Doubt', 'Doubt', 'Doubt', 'Doubt', 'Exaggeration-Minimisation', 'Name_Calling-Labeling', 'Exaggeration-Minimisation', 'Loaded_Language', 'Repetition', 'Appeal_to_Fear-Prejudice', 'Loaded_Language', 'Repetition', 'Appeal_to_Fear-Prejudice', 'Name_Calling-Labeling', 'Appeal_to_Fear-Prejudice', 'Loaded_Language', 'Name_Calling-Labeling', 'Name_Calling-Labeling', 'Exaggeration-Minimisation', 'Appeal_to_Fear-Prejudice', 'Loaded_Language', 'Repetition', 'Loaded_Language', 'Appeal_to_Fear-Prejudice', 'Appeal_to_Authority', 'Name_Calling-Labeling', 'Appeal_to_Fear-Prejudice', 'Appeal_to_Fear-Prejudice', 'Doubt', 'Loaded_Language', 'Doubt', 'Loaded_Language', 'Appeal_to_Fear-Prejudice', 'Doubt', 'Name_Calling-Labeling', 'Name_Calling-Labeling', 'Doubt', 'Appeal_to_Authority', 'Appeal_to_Popularity', 'Name_Calling-Labeling', 'Name_Calling-Labeling', 'Appeal_to_Fear-Prejudice', 'Name_Calling-Labeling', 'Appeal_to_Fear-Prejudice', 'Name_Calling-Labeling', 'Appeal_to_Fear-Prejudice', 'Name_Calling-Labeling', 'Name_Calling-Labeling', 'Slogans', 'Name_Calling-Labeling', 'Name_Calling-Labeling', 'Slogans', 'Loaded_Language', 'Name_Calling-Labeling', 'Name_Calling-Labeling', 'Loaded_Language', 'Appeal_to_Fear-Prejudice', 'Appeal_to_Fear-Prejudice', 'Appeal_to_Fear-Prejudice', 'Name_Calling-Labeling', 'Doubt', 'Appeal_to_Fear-Prejudice', 'Doubt', 'Appeal_to_Fear-Prejudice', 'Name_Calling-Labeling', 'Flag_Waving', 'Appeal_to_Fear-Prejudice', 'Exaggeration-Minimisation', 'Flag_Waving', 'Appeal_to_Fear-Prejudice', 'Exaggeration-Minimisation', 'Doubt', 'Flag_Waving', 'Appeal_to_Fear-Prejudice', 'Doubt', 'Name_Calling-Labeling', 'Appeal_to_Authority', 'Appeal_to_Authority', 'Flag_Waving', 'Appeal_to_Fear-Prejudice', 'Appeal_to_Authority', 'Doubt', 'Loaded_Language', 'False_Dilemma-No_Choice', 'False_Dilemma-No_Choice', 'Name_Calling-Labeling', 'Name_Calling-Labeling', 'Repetition', 'Name_Calling-Labeling', 'Loaded_Language', 'Name_Calling-Labeling', 'Name_Calling-Labeling', 'Guilt_by_Association', 'Name_Calling-Labeling', 'Doubt', 'Repetition', 'Name_Calling-Labeling', 'Exaggeration-Minimisation', 'Doubt', 'Flag_Waving', 'Straw_Man', 'Guilt_by_Association', 'Name_Calling-Labeling', 'Appeal_to_Fear-Prejudice', 'Appeal_to_Hypocrisy', 'Name_Calling-Labeling', 'Guilt_by_Association', 'Name_Calling-Labeling', 'Repetition', 'Appeal_to_Fear-Prejudice', 'Appeal_to_Hypocrisy', 'Appeal_to_Fear-Prejudice', 'Loaded_Language', 'Exaggeration-Minimisation', 'Repetition', 'Slogans', 'Loaded_Language', 'Doubt', 'Loaded_Language', 'Exaggeration-Minimisation', 'Slogans', 'Repetition', 'Loaded_Language', 'Doubt', 'Loaded_Language', 'Loaded_Language', 'Appeal_to_Authority', 'Doubt', 'Name_Calling-Labeling', 'Name_Calling-Labeling', 'Doubt', 'Doubt', 'Doubt', 'Name_Calling-Labeling', 'Loaded_Language', 'Flag_Waving', 'Repetition', 'Slogans', 'Loaded_Language', 'Repetition', 'Appeal_to_Fear-Prejudice', 'Flag_Waving', 'Repetition', 'Appeal_to_Fear-Prejudice', 'Exaggeration-Minimisation', 'Name_Calling-Labeling', 'Name_Calling-Labeling', 'Loaded_Language', 'Flag_Waving', 'False_Dilemma-No_Choice', 'Appeal_to_Fear-Prejudice', 'Loaded_Language', 'Doubt', 'Name_Calling-Labeling', 'Name_Calling-Labeling', 'Loaded_Language', 'False_Dilemma-No_Choice', 'Loaded_Language', 'Loaded_Language', 'Doubt', 'Loaded_Language', 'Appeal_to_Fear-Prejudice', 'False_Dilemma-No_Choice', 'Flag_Waving', 'Flag_Waving', 'Name_Calling-Labeling', 'Repetition', 'Loaded_Language', 'Slogans', 'Exaggeration-Minimisation', 'Repetition', 'False_Dilemma-No_Choice', 'Repetition', 'Name_Calling-Labeling', 'Appeal_to_Fear-Prejudice', 'Appeal_to_Fear-Prejudice', 'Loaded_Language', 'Appeal_to_Fear-Prejudice', 'Name_Calling-Labeling', 'Name_Calling-Labeling', 'Name_Calling-Labeling', 'Loaded_Language', 'Name_Calling-Labeling', 'Doubt', 'Name_Calling-Labeling', 'Appeal_to_Fear-Prejudice', 'Appeal_to_Fear-Prejudice', 'False_Dilemma-No_Choice', 'Loaded_Language', 'Loaded_Language', 'Name_Calling-Labeling', 'Repetition', 'Name_Calling-Labeling', 'Loaded_Language', 'Name_Calling-Labeling', 'Loaded_Language', 'Doubt', 'Doubt', 'Loaded_Language', 'Loaded_Language', 'Name_Calling-Labeling', 'Loaded_Language', 'False_Dilemma-No_Choice', 'Loaded_Language', 'Loaded_Language', 'Loaded_Language', 'Loaded_Language', 'Repetition', 'Loaded_Language', 'Loaded_Language', 'Loaded_Language', 'Loaded_Language', 'Appeal_to_Fear-Prejudice', 'Name_Calling-Labeling', 'Loaded_Language', 'Appeal_to_Fear-Prejudice', 'Name_Calling-Labeling', 'Loaded_Language', 'Repetition', 'Loaded_Language', 'Repetition', 'Straw_Man', 'Name_Calling-Labeling', 'Repetition', 'Loaded_Language', 'Loaded_Language', 'Appeal_to_Fear-Prejudice', 'Loaded_Language', 'Loaded_Language', 'Loaded_Language', 'Appeal_to_Fear-Prejudice', 'Loaded_Language', 'Causal_Oversimplification', 'Name_Calling-Labeling', 'Conversation_Killer', 'Doubt', 'Appeal_to_Fear-Prejudice', 'Appeal_to_Popularity', 'False_Dilemma-No_Choice', 'Flag_Waving', 'Doubt', 'Loaded_Language', 'Name_Calling-Labeling', 'Repetition', 'Repetition', 'Exaggeration-Minimisation', 'Loaded_Language', 'Name_Calling-Labeling', 'Loaded_Language', 'Repetition', 'Loaded_Language', 'Repetition', 'Loaded_Language', 'Loaded_Language', 'Loaded_Language', 'Repetition', 'Loaded_Language', 'Appeal_to_Popularity', 'Appeal_to_Fear-Prejudice', 'Name_Calling-Labeling', 'Loaded_Language', 'Appeal_to_Fear-Prejudice', 'Appeal_to_Fear-Prejudice', 'Name_Calling-Labeling', 'Loaded_Language', 'Appeal_to_Authority', 'Loaded_Language', 'Loaded_Language', 'Appeal_to_Fear-Prejudice', 'Loaded_Language', 'Repetition', 'Repetition', 'Repetition', 'Slogans', 'Conversation_Killer', 'Appeal_to_Fear-Prejudice', 'Flag_Waving', 'Conversation_Killer', 'Flag_Waving', 'Flag_Waving', 'Loaded_Language', 'Loaded_Language', 'Conversation_Killer', 'Flag_Waving', 'Name_Calling-Labeling', 'Flag_Waving', 'Straw_Man', 'Loaded_Language', 'False_Dilemma-No_Choice', 'Loaded_Language', 'Appeal_to_Popularity', 'Causal_Oversimplification', 'Name_Calling-Labeling', 'Loaded_Language', 'Flag_Waving', 'Flag_Waving', 'False_Dilemma-No_Choice', 'Loaded_Language', 'Doubt', 'Loaded_Language', 'Repetition', 'Loaded_Language', 'Repetition', 'Doubt', 'Loaded_Language', 'Repetition', 'Loaded_Language', 'Repetition', 'Repetition', 'Doubt', 'Appeal_to_Fear-Prejudice', 'Repetition', 'Loaded_Language', 'Loaded_Language', 'Loaded_Language', 'Loaded_Language', 'Loaded_Language', 'Loaded_Language', 'Loaded_Language', 'Exaggeration-Minimisation', 'Appeal_to_Popularity', 'False_Dilemma-No_Choice', 'Appeal_to_Fear-Prejudice', 'Appeal_to_Fear-Prejudice', 'Doubt', 'Loaded_Language', 'Loaded_Language', 'Appeal_to_Fear-Prejudice', 'Loaded_Language', 'Loaded_Language', 'Obfuscation-Vagueness-Confusion', 'Obfuscation-Vagueness-Confusion', 'Loaded_Language', 'Loaded_Language', 'Name_Calling-Labeling', 'Loaded_Language', 'Exaggeration-Minimisation', 'Loaded_Language', 'Conversation_Killer', 'Conversation_Killer', 'Conversation_Killer', 'Appeal_to_Fear-Prejudice', 'Repetition', 'Loaded_Language', 'Repetition', 'Name_Calling-Labeling', 'Repetition', 'Name_Calling-Labeling', 'Red_Herring', 'Loaded_Language', 'Name_Calling-Labeling', 'Loaded_Language', 'Name_Calling-Labeling', 'Loaded_Language', 'Straw_Man', 'Loaded_Language', 'Loaded_Language', 'Repetition', 'Loaded_Language', 'Repetition', 'Name_Calling-Labeling', 'Repetition', 'Name_Calling-Labeling', 'Loaded_Language', 'Loaded_Language', 'Loaded_Language', 'Repetition', 'Name_Calling-Labeling', 'Loaded_Language', 'Loaded_Language', 'Flag_Waving', 'Loaded_Language', 'Loaded_Language', 'Repetition', 'Loaded_Language', 'Repetition', 'Name_Calling-Labeling', 'Repetition', 'Name_Calling-Labeling', 'Loaded_Language', 'Exaggeration-Minimisation', 'Appeal_to_Fear-Prejudice', 'Loaded_Language', 'Appeal_to_Fear-Prejudice', 'Appeal_to_Fear-Prejudice', 'Loaded_Language', 'Name_Calling-Labeling', 'Loaded_Language', 'Name_Calling-Labeling', 'Appeal_to_Fear-Prejudice', 'Repetition', 'Loaded_Language', 'Loaded_Language', 'Red_Herring', 'Appeal_to_Fear-Prejudice', 'Exaggeration-Minimisation', 'Appeal_to_Fear-Prejudice', 'Appeal_to_Popularity', 'Appeal_to_Fear-Prejudice', 'Loaded_Language', 'Appeal_to_Fear-Prejudice', 'Loaded_Language', 'Repetition', 'Loaded_Language', 'Appeal_to_Fear-Prejudice', 'Loaded_Language', 'Repetition', 'Loaded_Language', 'Loaded_Language', 'Appeal_to_Fear-Prejudice', 'Loaded_Language', 'Repetition', 'False_Dilemma-No_Choice', 'Loaded_Language', 'Doubt', 'Loaded_Language', 'Name_Calling-Labeling', 'Repetition', 'Repetition', 'Name_Calling-Labeling', 'Appeal_to_Authority', 'Appeal_to_Popularity', 'Loaded_Language', 'Exaggeration-Minimisation', 'False_Dilemma-No_Choice', 'Loaded_Language', 'Exaggeration-Minimisation', 'Loaded_Language', 'Loaded_Language', 'Doubt', 'Loaded_Language', 'Name_Calling-Labeling', 'Exaggeration-Minimisation', 'Loaded_Language', 'Appeal_to_Fear-Prejudice', 'Loaded_Language', 'Loaded_Language', 'Loaded_Language', 'Appeal_to_Fear-Prejudice', 'Loaded_Language', 'Loaded_Language', 'Appeal_to_Fear-Prejudice', 'Loaded_Language', 'Loaded_Language', 'Repetition', 'Repetition', 'Doubt', 'Loaded_Language', 'Repetition', 'Loaded_Language', 'Loaded_Language', 'Loaded_Language', 'Flag_Waving', 'Flag_Waving', 'Exaggeration-Minimisation', 'Appeal_to_Authority', 'Doubt', 'Loaded_Language', 'Exaggeration-Minimisation', 'Doubt', 'Loaded_Language', 'Loaded_Language', 'Appeal_to_Fear-Prejudice', 'Repetition', 'Appeal_to_Popularity', 'Appeal_to_Popularity', 'Name_Calling-Labeling', 'Loaded_Language', 'Loaded_Language', 'Name_Calling-Labeling', 'Loaded_Language', 'Repetition', 'Repetition', 'False_Dilemma-No_Choice', 'Repetition', 'Loaded_Language', 'Loaded_Language', 'Loaded_Language', 'Repetition', 'Repetition', 'Loaded_Language', 'Conversation_Killer', 'Loaded_Language', 'Loaded_Language', 'Loaded_Language', 'Loaded_Language', 'Repetition', 'Loaded_Language', 'Appeal_to_Authority', 'Name_Calling-Labeling', 'Slogans', 'Conversation_Killer', 'Loaded_Language', 'Repetition', 'Name_Calling-Labeling', 'Loaded_Language', 'Conversation_Killer', 'Loaded_Language', 'False_Dilemma-No_Choice', 'Appeal_to_Fear-Prejudice', 'Loaded_Language', 'Loaded_Language', 'Repetition', 'Loaded_Language', 'Loaded_Language', 'Repetition', 'Loaded_Language', 'Loaded_Language', 'Loaded_Language', 'Exaggeration-Minimisation', 'Repetition', 'Loaded_Language', 'Repetition', 'Loaded_Language', 'Repetition', 'Appeal_to_Authority', 'Appeal_to_Fear-Prejudice', 'Loaded_Language', 'Repetition', 'Loaded_Language', 'Loaded_Language', 'Obfuscation-Vagueness-Confusion', 'Appeal_to_Authority', 'Appeal_to_Fear-Prejudice', 'Slogans', 'Repetition', 'Doubt', 'Loaded_Language', 'Loaded_Language', 'Obfuscation-Vagueness-Confusion', 'Slogans', 'Loaded_Language', 'Loaded_Language', 'Loaded_Language', 'Name_Calling-Labeling', 'Repetition', 'Obfuscation-Vagueness-Confusion', 'Repetition', 'Obfuscation-Vagueness-Confusion', 'Loaded_Language', 'Slogans', 'Conversation_Killer', 'Loaded_Language', 'Red_Herring', 'Red_Herring', 'Name_Calling-Labeling', 'Loaded_Language', 'Repetition', 'Loaded_Language', 'Repetition', 'Exaggeration-Minimisation', 'Repetition', 'Loaded_Language', 'Repetition', 'Loaded_Language', 'Loaded_Language', 'Loaded_Language', 'Obfuscation-Vagueness-Confusion', 'Repetition', 'Loaded_Language', 'Loaded_Language', 'Appeal_to_Fear-Prejudice', 'Loaded_Language', 'Appeal_to_Fear-Prejudice', 'Loaded_Language', 'Loaded_Language', 'Loaded_Language', 'Loaded_Language', 'Loaded_Language', 'Name_Calling-Labeling', 'Loaded_Language', 'Loaded_Language', 'Doubt', 'Loaded_Language', 'False_Dilemma-No_Choice', 'False_Dilemma-No_Choice', 'Loaded_Language', 'Loaded_Language', 'Appeal_to_Fear-Prejudice', 'Loaded_Language', 'Slogans', 'Repetition', 'Repetition', 'Loaded_Language', 'Loaded_Language', 'Loaded_Language', 'Conversation_Killer', 'Repetition', 'Repetition', 'Repetition', 'Name_Calling-Labeling', 'Loaded_Language', 'Appeal_to_Fear-Prejudice', 'Loaded_Language', 'Name_Calling-Labeling', 'Loaded_Language', 'Exaggeration-Minimisation', 'Name_Calling-Labeling', 'Repetition', 'Repetition', 'Flag_Waving', 'Loaded_Language', 'Repetition', 'Repetition', 'Conversation_Killer', 'Appeal_to_Fear-Prejudice', 'Doubt', 'Name_Calling-Labeling', 'Loaded_Language', 'Appeal_to_Fear-Prejudice', 'Appeal_to_Fear-Prejudice', 'Appeal_to_Fear-Prejudice', 'Loaded_Language', 'Appeal_to_Fear-Prejudice', 'Doubt', 'Causal_Oversimplification', 'Flag_Waving', 'Loaded_Language', 'False_Dilemma-No_Choice', 'Loaded_Language', 'Repetition', 'Repetition', 'Causal_Oversimplification', 'Exaggeration-Minimisation', 'Loaded_Language', 'Loaded_Language', 'Loaded_Language', 'Loaded_Language', 'Loaded_Language', 'Loaded_Language', 'Exaggeration-Minimisation', 'Loaded_Language', 'Loaded_Language', 'Exaggeration-Minimisation', 'Repetition', 'Repetition', 'Loaded_Language', 'Loaded_Language', 'Flag_Waving', 'Loaded_Language', 'Loaded_Language', 'Loaded_Language', 'Loaded_Language', 'Red_Herring', 'Red_Herring', 'Name_Calling-Labeling', 'Doubt', 'False_Dilemma-No_Choice', 'Appeal_to_Fear-Prejudice', 'Loaded_Language', 'Loaded_Language', 'Flag_Waving', 'Flag_Waving', 'Repetition', 'Doubt', 'Exaggeration-Minimisation', 'Name_Calling-Labeling', 'Loaded_Language', 'Loaded_Language', 'Name_Calling-Labeling', 'Loaded_Language', 'Red_Herring', 'Name_Calling-Labeling', 'Name_Calling-Labeling', 'Loaded_Language', 'Name_Calling-Labeling', 'Loaded_Language', 'Loaded_Language', 'Name_Calling-Labeling', 'Doubt', 'Flag_Waving', 'Exaggeration-Minimisation', 'Loaded_Language', 'Conversation_Killer', 'Name_Calling-Labeling', 'Loaded_Language', 'Doubt', 'Loaded_Language', 'Exaggeration-Minimisation', 'Flag_Waving', 'Name_Calling-Labeling', 'Doubt', 'Flag_Waving', 'Repetition', 'Loaded_Language', 'Name_Calling-Labeling', 'Name_Calling-Labeling', 'Loaded_Language', 'Exaggeration-Minimisation', 'Conversation_Killer', 'Loaded_Language', 'Appeal_to_Popularity', 'Doubt', 'Name_Calling-Labeling', 'Loaded_Language', 'Doubt', 'Repetition', 'Appeal_to_Fear-Prejudice', 'Loaded_Language', 'Flag_Waving', 'Flag_Waving', 'False_Dilemma-No_Choice', 'Name_Calling-Labeling', 'Loaded_Language', 'Name_Calling-Labeling', 'Repetition', 'Name_Calling-Labeling', 'Name_Calling-Labeling', 'Red_Herring', 'Loaded_Language', 'Slogans', 'Name_Calling-Labeling', 'Exaggeration-Minimisation', 'Loaded_Language', 'Repetition', 'Loaded_Language', 'Name_Calling-Labeling', 'Obfuscation-Vagueness-Confusion', 'Loaded_Language', 'Name_Calling-Labeling', 'Appeal_to_Fear-Prejudice', 'Doubt', 'Doubt', 'Name_Calling-Labeling', 'Repetition', 'Loaded_Language', 'Name_Calling-Labeling', 'Loaded_Language', 'Exaggeration-Minimisation', 'Loaded_Language', 'Name_Calling-Labeling', 'Loaded_Language', 'Exaggeration-Minimisation', 'Appeal_to_Authority', 'Name_Calling-Labeling', 'Loaded_Language', 'Loaded_Language', 'Doubt', 'Loaded_Language', 'Loaded_Language', 'Appeal_to_Authority', 'Doubt', 'Loaded_Language', 'Loaded_Language', 'Doubt', 'Loaded_Language', 'Loaded_Language', 'Doubt', 'Exaggeration-Minimisation', 'Flag_Waving', 'Slogans', 'Loaded_Language', 'Loaded_Language', 'Conversation_Killer', 'Conversation_Killer', 'Name_Calling-Labeling', 'Name_Calling-Labeling', 'Appeal_to_Hypocrisy', 'Red_Herring', 'Straw_Man', 'Loaded_Language', 'Loaded_Language', 'Loaded_Language', 'Loaded_Language', 'Red_Herring', 'Red_Herring', 'Loaded_Language', 'Exaggeration-Minimisation', 'Appeal_to_Popularity', 'Repetition', 'Repetition', 'Exaggeration-Minimisation', 'Name_Calling-Labeling', 'Flag_Waving', 'Flag_Waving', 'Doubt', 'Loaded_Language', 'Loaded_Language', 'Exaggeration-Minimisation', 'Repetition', 'Flag_Waving', 'Slogans', 'Repetition', 'Slogans', 'Loaded_Language', 'Exaggeration-Minimisation', 'Exaggeration-Minimisation', 'Name_Calling-Labeling', 'Appeal_to_Popularity', 'Repetition', 'Repetition', 'Doubt', 'Loaded_Language', 'False_Dilemma-No_Choice', 'Loaded_Language', 'Flag_Waving', 'Doubt', 'Flag_Waving', 'Repetition', 'Name_Calling-Labeling', 'Loaded_Language', 'Loaded_Language', 'Doubt', 'False_Dilemma-No_Choice', 'Appeal_to_Fear-Prejudice', 'Flag_Waving', 'Appeal_to_Fear-Prejudice', 'Flag_Waving', 'Flag_Waving', 'Doubt', 'Exaggeration-Minimisation', 'Flag_Waving', 'Loaded_Language', 'Straw_Man', 'Flag_Waving', 'Exaggeration-Minimisation', 'Flag_Waving', 'Loaded_Language', 'Loaded_Language', 'Loaded_Language', 'Flag_Waving', 'Name_Calling-Labeling', 'Loaded_Language', 'Exaggeration-Minimisation', 'Name_Calling-Labeling', 'Doubt', 'Name_Calling-Labeling', 'Doubt', 'Name_Calling-Labeling', 'Repetition', 'Doubt', 'Doubt', 'Loaded_Language', 'Doubt', 'Loaded_Language', 'Name_Calling-Labeling', 'Doubt', 'Name_Calling-Labeling', 'Exaggeration-Minimisation', 'Name_Calling-Labeling', 'Repetition', 'Loaded_Language', 'Name_Calling-Labeling', 'Loaded_Language', 'Doubt', 'Loaded_Language', 'Loaded_Language', 'Loaded_Language', 'Doubt', 'Name_Calling-Labeling', 'Doubt', 'Doubt', 'Loaded_Language', 'Loaded_Language', 'Flag_Waving', 'Doubt', 'Loaded_Language', 'Loaded_Language', 'Loaded_Language', 'Doubt', 'Loaded_Language', 'Flag_Waving', 'Doubt', 'Doubt', 'Doubt', 'Name_Calling-Labeling', 'Loaded_Language', 'Name_Calling-Labeling', 'Doubt', 'Obfuscation-Vagueness-Confusion', 'Obfuscation-Vagueness-Confusion', 'False_Dilemma-No_Choice', 'Appeal_to_Fear-Prejudice', 'Loaded_Language', 'Loaded_Language', 'Appeal_to_Authority', 'Name_Calling-Labeling', 'Appeal_to_Fear-Prejudice', 'Repetition', 'Appeal_to_Fear-Prejudice', 'Repetition', 'Doubt', 'Name_Calling-Labeling', 'Loaded_Language', 'Loaded_Language', 'Loaded_Language', 'Loaded_Language', 'Name_Calling-Labeling', 'Name_Calling-Labeling', 'Name_Calling-Labeling', 'Loaded_Language', 'Loaded_Language', 'Doubt', 'Repetition', 'Doubt', 'Loaded_Language', 'Loaded_Language', 'Loaded_Language', 'Loaded_Language', 'Loaded_Language', 'Name_Calling-Labeling', 'Loaded_Language', 'Name_Calling-Labeling', 'Loaded_Language', 'Name_Calling-Labeling', 'Repetition', 'Loaded_Language', 'Exaggeration-Minimisation', 'Name_Calling-Labeling', 'Loaded_Language', 'Name_Calling-Labeling', 'Name_Calling-Labeling', 'Loaded_Language', 'Loaded_Language', 'Name_Calling-Labeling', 'Loaded_Language', 'Flag_Waving', 'Loaded_Language', 'Appeal_to_Fear-Prejudice', 'Exaggeration-Minimisation', 'Flag_Waving', 'Loaded_Language', 'Name_Calling-Labeling', 'Name_Calling-Labeling', 'Doubt', 'Loaded_Language', 'Name_Calling-Labeling', 'Doubt', 'Name_Calling-Labeling', 'Name_Calling-Labeling', 'Loaded_Language', 'Name_Calling-Labeling', 'Doubt', 'Doubt', 'Loaded_Language', 'Doubt', 'Loaded_Language', 'Name_Calling-Labeling', 'Loaded_Language', 'Name_Calling-Labeling', 'Doubt', 'Name_Calling-Labeling', 'Loaded_Language', 'Loaded_Language', 'Loaded_Language', 'Doubt', 'Doubt', 'Doubt', 'Loaded_Language', 'Doubt', 'Loaded_Language', 'Name_Calling-Labeling', 'Doubt', 'Causal_Oversimplification', 'Loaded_Language', 'Causal_Oversimplification', 'Doubt', 'Doubt', 'Doubt', 'Doubt', 'Name_Calling-Labeling', 'Doubt', 'Doubt', 'Flag_Waving', 'Flag_Waving', 'Loaded_Language', 'Flag_Waving', 'Flag_Waving', 'Flag_Waving', 'Flag_Waving', 'Flag_Waving', 'Repetition', 'Flag_Waving', 'Repetition', 'Flag_Waving', 'Slogans', 'Doubt', 'Doubt', 'Loaded_Language', 'Loaded_Language', 'Name_Calling-Labeling', 'Slogans', 'Loaded_Language', 'Loaded_Language', 'Repetition', 'Doubt', 'Loaded_Language', 'Loaded_Language', 'Slogans', 'Name_Calling-Labeling', 'Loaded_Language', 'Doubt', 'Loaded_Language', 'Doubt', 'Doubt', 'False_Dilemma-No_Choice', 'Doubt', 'Doubt', 'Name_Calling-Labeling', 'Doubt', 'Doubt', 'Loaded_Language', 'Name_Calling-Labeling', 'Loaded_Language', 'Loaded_Language', 'Loaded_Language', 'False_Dilemma-No_Choice', 'Name_Calling-Labeling', 'Name_Calling-Labeling', 'Appeal_to_Authority', 'False_Dilemma-No_Choice', 'Flag_Waving', 'Name_Calling-Labeling', 'Name_Calling-Labeling', 'Name_Calling-Labeling', 'Doubt', 'Causal_Oversimplification', 'Name_Calling-Labeling', 'Doubt', 'Exaggeration-Minimisation', 'Doubt', 'Flag_Waving', 'False_Dilemma-No_Choice', 'Appeal_to_Fear-Prejudice', 'Doubt', 'Loaded_Language', 'Appeal_to_Popularity', 'Doubt', 'Causal_Oversimplification', 'Loaded_Language', 'Doubt', 'Loaded_Language', 'Doubt', 'Causal_Oversimplification', 'Name_Calling-Labeling', 'Name_Calling-Labeling', 'Doubt', 'Name_Calling-Labeling', 'Appeal_to_Popularity', 'Name_Calling-Labeling', 'Repetition', 'False_Dilemma-No_Choice', 'Doubt', 'Doubt', 'Loaded_Language', 'False_Dilemma-No_Choice', 'Loaded_Language', 'Name_Calling-Labeling', 'Loaded_Language', 'Loaded_Language', 'Flag_Waving', 'Name_Calling-Labeling', 'Name_Calling-Labeling', 'Loaded_Language', 'Exaggeration-Minimisation', 'Loaded_Language', 'Name_Calling-Labeling', 'Loaded_Language', 'Loaded_Language', 'Red_Herring', 'Exaggeration-Minimisation', 'Doubt', 'Exaggeration-Minimisation', 'Loaded_Language', 'Loaded_Language', 'Loaded_Language', 'Loaded_Language', 'Name_Calling-Labeling', 'Name_Calling-Labeling', 'Doubt', 'Repetition', 'Name_Calling-Labeling', 'Flag_Waving', 'Repetition', 'Appeal_to_Hypocrisy', 'Appeal_to_Fear-Prejudice', 'Repetition', 'Loaded_Language', 'Exaggeration-Minimisation', 'Causal_Oversimplification', 'Name_Calling-Labeling', 'Flag_Waving', 'Exaggeration-Minimisation', 'Doubt', 'Name_Calling-Labeling', 'Name_Calling-Labeling', 'Name_Calling-Labeling', 'Loaded_Language', 'Name_Calling-Labeling', 'Exaggeration-Minimisation', 'Loaded_Language', 'Loaded_Language', 'Doubt', 'Name_Calling-Labeling', 'Doubt', 'False_Dilemma-No_Choice', 'Exaggeration-Minimisation', 'Loaded_Language', 'Repetition', 'Doubt', 'Name_Calling-Labeling', 'Name_Calling-Labeling', 'Exaggeration-Minimisation', 'Loaded_Language', 'Name_Calling-Labeling', 'Name_Calling-Labeling', 'Name_Calling-Labeling', 'Loaded_Language', 'Name_Calling-Labeling', 'Loaded_Language', 'Repetition', 'Loaded_Language', 'Name_Calling-Labeling', 'Loaded_Language', 'False_Dilemma-No_Choice', 'Name_Calling-Labeling', 'Repetition', 'Name_Calling-Labeling', 'Name_Calling-Labeling', 'Loaded_Language', 'Repetition', 'Name_Calling-Labeling', 'Straw_Man', 'Exaggeration-Minimisation', 'Repetition', 'Name_Calling-Labeling', 'Loaded_Language', 'Flag_Waving', 'Name_Calling-Labeling', 'Name_Calling-Labeling', 'Name_Calling-Labeling', 'False_Dilemma-No_Choice', 'Doubt', 'Flag_Waving', 'Flag_Waving', 'Slogans', 'Doubt', 'Doubt', 'Doubt', 'Exaggeration-Minimisation', 'Loaded_Language', 'Flag_Waving', 'Exaggeration-Minimisation', 'Doubt', 'Name_Calling-Labeling', 'Name_Calling-Labeling', 'Loaded_Language', 'Name_Calling-Labeling', 'Loaded_Language', 'Name_Calling-Labeling', 'Repetition', 'Loaded_Language', 'Loaded_Language', 'Name_Calling-Labeling', 'Loaded_Language', 'Doubt', 'Doubt', 'Name_Calling-Labeling', 'Exaggeration-Minimisation', 'Flag_Waving', 'Doubt', 'Doubt', 'Loaded_Language', 'Flag_Waving', 'Loaded_Language', 'Name_Calling-Labeling', 'Loaded_Language', 'Name_Calling-Labeling', 'Name_Calling-Labeling', 'Doubt', 'Exaggeration-Minimisation', 'Doubt', 'Exaggeration-Minimisation', 'Name_Calling-Labeling', 'Loaded_Language', 'Loaded_Language', 'Doubt', 'Loaded_Language', 'Loaded_Language', 'Slogans', 'Exaggeration-Minimisation', 'Name_Calling-Labeling', 'Loaded_Language', 'Name_Calling-Labeling', 'Loaded_Language', 'Name_Calling-Labeling', 'Name_Calling-Labeling', 'Repetition', 'Name_Calling-Labeling', 'Loaded_Language', 'Flag_Waving', 'Name_Calling-Labeling', 'Doubt', 'Conversation_Killer', 'Name_Calling-Labeling', 'Name_Calling-Labeling', 'Loaded_Language', 'Doubt', 'Loaded_Language', 'Name_Calling-Labeling', 'Flag_Waving', 'Doubt', 'Doubt', 'Appeal_to_Popularity', 'Loaded_Language', 'Doubt', 'Loaded_Language', 'False_Dilemma-No_Choice', 'Loaded_Language', 'Loaded_Language', 'Doubt', 'Flag_Waving', 'Doubt', 'Exaggeration-Minimisation', 'Doubt', 'Loaded_Language', 'Loaded_Language', 'Loaded_Language', 'Loaded_Language', 'Loaded_Language']\n"
     ]
    }
   ],
   "source": [
    "print(classes)"
   ]
  },
  {
   "cell_type": "code",
   "execution_count": 123,
   "metadata": {},
   "outputs": [
    {
     "data": {
      "text/plain": [
       "({'Loaded_Language': 3016,\n",
       "  'Name_Calling-Labeling': 1538,\n",
       "  'Repetition': 922,\n",
       "  'Doubt': 748,\n",
       "  'Exaggeration-Minimisation': 655,\n",
       "  'Appeal_to_Fear-Prejudice': 471,\n",
       "  'Flag_Waving': 411,\n",
       "  'Causal_Oversimplification': 247,\n",
       "  'Slogans': 197,\n",
       "  'False_Dilemma-No_Choice': 190,\n",
       "  'Appeal_to_Authority': 179,\n",
       "  'Conversation_Killer': 119,\n",
       "  'Guilt_by_Association': 67,\n",
       "  'Red_Herring': 64,\n",
       "  'Appeal_to_Hypocrisy': 53,\n",
       "  'Appeal_to_Popularity': 50,\n",
       "  'Obfuscation-Vagueness-Confusion': 30,\n",
       "  'Straw_Man': 25,\n",
       "  'Whataboutism': 20},\n",
       " 19)"
      ]
     },
     "execution_count": 123,
     "metadata": {},
     "output_type": "execute_result"
    }
   ],
   "source": [
    "cls = dict(zip(np.unique(classes, return_counts=True)[0], np.unique(classes, return_counts=True)[1]))\n",
    "cls = dict(sorted(cls.items(), key=lambda item: -item[1]))\n",
    "cls, len(cls)"
   ]
  },
  {
   "cell_type": "code",
   "execution_count": 122,
   "metadata": {},
   "outputs": [
    {
     "data": {
      "image/png": "[encoded data removed]",
      "text/plain": [
       "<Figure size 640x480 with 1 Axes>"
      ]
     },
     "metadata": {},
     "output_type": "display_data"
    }
   ],
   "source": [
    "sns.barplot(cls, orient='y', color='cornflowerblue')\n",
    "plt.xlabel('Число экземпляров классов')\n",
    "plt.savefig('images/semeval-classes.png', dpi=200)\n",
    "plt.show()"
   ]
  },
  {
   "cell_type": "markdown",
   "metadata": {},
   "source": [
    "---"
   ]
  },
  {
   "cell_type": "code",
   "execution_count": 37,
   "metadata": {},
   "outputs": [],
   "source": [
    "# df_train = pd.read_csv('semeval-train-spans.csv')\n",
    "df_test = pd.read_csv('old_semeval-test-spans.csv')"
   ]
  },
  {
   "cell_type": "code",
   "execution_count": 38,
   "metadata": {},
   "outputs": [
    {
     "data": {
      "text/html": [
       "<div>\n",
       "<style scoped>\n",
       "    .dataframe tbody tr th:only-of-type {\n",
       "        vertical-align: middle;\n",
       "    }\n",
       "\n",
       "    .dataframe tbody tr th {\n",
       "        vertical-align: top;\n",
       "    }\n",
       "\n",
       "    .dataframe thead th {\n",
       "        text-align: right;\n",
       "    }\n",
       "</style>\n",
       "<table border=\"1\" class=\"dataframe\">\n",
       "  <thead>\n",
       "    <tr style=\"text-align: right;\">\n",
       "      <th></th>\n",
       "      <th>path</th>\n",
       "      <th>span</th>\n",
       "      <th>label</th>\n",
       "    </tr>\n",
       "  </thead>\n",
       "  <tbody>\n",
       "    <tr>\n",
       "      <th>0</th>\n",
       "      <td>SemEval 2023 Dataset/data/en/dev-articles-subt...</td>\n",
       "      <td>I guess her only chance is if Labour decides t...</td>\n",
       "      <td>False_Dilemma-No_Choice</td>\n",
       "    </tr>\n",
       "    <tr>\n",
       "      <th>1</th>\n",
       "      <td>SemEval 2023 Dataset/data/en/dev-articles-subt...</td>\n",
       "      <td>to dishonour democracy</td>\n",
       "      <td>Loaded_Language</td>\n",
       "    </tr>\n",
       "    <tr>\n",
       "      <th>2</th>\n",
       "      <td>SemEval 2023 Dataset/data/en/dev-articles-subt...</td>\n",
       "      <td>I don't see any way the Conservatives would vo...</td>\n",
       "      <td>False_Dilemma-No_Choice</td>\n",
       "    </tr>\n",
       "    <tr>\n",
       "      <th>3</th>\n",
       "      <td>SemEval 2023 Dataset/data/en/dev-articles-subt...</td>\n",
       "      <td>bitterly against it</td>\n",
       "      <td>Loaded_Language</td>\n",
       "    </tr>\n",
       "    <tr>\n",
       "      <th>4</th>\n",
       "      <td>SemEval 2023 Dataset/data/en/dev-articles-subt...</td>\n",
       "      <td>remoaner MPs</td>\n",
       "      <td>Name_Calling-Labeling</td>\n",
       "    </tr>\n",
       "    <tr>\n",
       "      <th>5</th>\n",
       "      <td>SemEval 2023 Dataset/data/en/dev-articles-subt...</td>\n",
       "      <td>dead in the water</td>\n",
       "      <td>Loaded_Language</td>\n",
       "    </tr>\n",
       "    <tr>\n",
       "      <th>6</th>\n",
       "      <td>SemEval 2023 Dataset/data/en/dev-articles-subt...</td>\n",
       "      <td>that works, that's fine</td>\n",
       "      <td>Conversation_Killer</td>\n",
       "    </tr>\n",
       "    <tr>\n",
       "      <th>7</th>\n",
       "      <td>SemEval 2023 Dataset/data/en/dev-articles-subt...</td>\n",
       "      <td>that's a piece of technology which is manufact...</td>\n",
       "      <td>Red_Herring</td>\n",
       "    </tr>\n",
       "    <tr>\n",
       "      <th>8</th>\n",
       "      <td>SemEval 2023 Dataset/data/en/dev-articles-subt...</td>\n",
       "      <td>this is the world that really exists today</td>\n",
       "      <td>Conversation_Killer</td>\n",
       "    </tr>\n",
       "    <tr>\n",
       "      <th>9</th>\n",
       "      <td>SemEval 2023 Dataset/data/en/dev-articles-subt...</td>\n",
       "      <td>The EU makes a profit on its trade with the UK...</td>\n",
       "      <td>Obfuscation-Vagueness-Confusion</td>\n",
       "    </tr>\n",
       "    <tr>\n",
       "      <th>10</th>\n",
       "      <td>SemEval 2023 Dataset/data/en/dev-articles-subt...</td>\n",
       "      <td>If someone in a city in Germany wants to do a ...</td>\n",
       "      <td>Obfuscation-Vagueness-Confusion</td>\n",
       "    </tr>\n",
       "    <tr>\n",
       "      <th>11</th>\n",
       "      <td>SemEval 2023 Dataset/data/en/dev-articles-subt...</td>\n",
       "      <td>Slammed</td>\n",
       "      <td>Loaded_Language</td>\n",
       "    </tr>\n",
       "    <tr>\n",
       "      <th>12</th>\n",
       "      <td>SemEval 2023 Dataset/data/en/dev-articles-subt...</td>\n",
       "      <td>looming</td>\n",
       "      <td>Loaded_Language</td>\n",
       "    </tr>\n",
       "    <tr>\n",
       "      <th>13</th>\n",
       "      <td>SemEval 2023 Dataset/data/en/dev-articles-subt...</td>\n",
       "      <td>mounting criticism</td>\n",
       "      <td>Exaggeration-Minimisation</td>\n",
       "    </tr>\n",
       "    <tr>\n",
       "      <th>14</th>\n",
       "      <td>SemEval 2023 Dataset/data/en/dev-articles-subt...</td>\n",
       "      <td>left a bad taste in the mouths</td>\n",
       "      <td>Loaded_Language</td>\n",
       "    </tr>\n",
       "    <tr>\n",
       "      <th>15</th>\n",
       "      <td>SemEval 2023 Dataset/data/en/dev-articles-subt...</td>\n",
       "      <td>message of support\"</td>\n",
       "      <td>Repetition</td>\n",
       "    </tr>\n",
       "    <tr>\n",
       "      <th>16</th>\n",
       "      <td>SemEval 2023 Dataset/data/en/dev-articles-subt...</td>\n",
       "      <td>huge</td>\n",
       "      <td>Loaded_Language</td>\n",
       "    </tr>\n",
       "    <tr>\n",
       "      <th>17</th>\n",
       "      <td>SemEval 2023 Dataset/data/en/dev-articles-subt...</td>\n",
       "      <td>they will always be welcome</td>\n",
       "      <td>Slogans</td>\n",
       "    </tr>\n",
       "    <tr>\n",
       "      <th>18</th>\n",
       "      <td>SemEval 2023 Dataset/data/en/dev-articles-subt...</td>\n",
       "      <td>you are Londoners</td>\n",
       "      <td>Flag_Waving</td>\n",
       "    </tr>\n",
       "    <tr>\n",
       "      <th>19</th>\n",
       "      <td>SemEval 2023 Dataset/data/en/dev-articles-subt...</td>\n",
       "      <td>message of support</td>\n",
       "      <td>Repetition</td>\n",
       "    </tr>\n",
       "    <tr>\n",
       "      <th>20</th>\n",
       "      <td>SemEval 2023 Dataset/data/en/dev-articles-subt...</td>\n",
       "      <td>rushed</td>\n",
       "      <td>Loaded_Language</td>\n",
       "    </tr>\n",
       "  </tbody>\n",
       "</table>\n",
       "</div>"
      ],
      "text/plain": [
       "                                                 path  \\\n",
       "0   SemEval 2023 Dataset/data/en/dev-articles-subt...   \n",
       "1   SemEval 2023 Dataset/data/en/dev-articles-subt...   \n",
       "2   SemEval 2023 Dataset/data/en/dev-articles-subt...   \n",
       "3   SemEval 2023 Dataset/data/en/dev-articles-subt...   \n",
       "4   SemEval 2023 Dataset/data/en/dev-articles-subt...   \n",
       "5   SemEval 2023 Dataset/data/en/dev-articles-subt...   \n",
       "6   SemEval 2023 Dataset/data/en/dev-articles-subt...   \n",
       "7   SemEval 2023 Dataset/data/en/dev-articles-subt...   \n",
       "8   SemEval 2023 Dataset/data/en/dev-articles-subt...   \n",
       "9   SemEval 2023 Dataset/data/en/dev-articles-subt...   \n",
       "10  SemEval 2023 Dataset/data/en/dev-articles-subt...   \n",
       "11  SemEval 2023 Dataset/data/en/dev-articles-subt...   \n",
       "12  SemEval 2023 Dataset/data/en/dev-articles-subt...   \n",
       "13  SemEval 2023 Dataset/data/en/dev-articles-subt...   \n",
       "14  SemEval 2023 Dataset/data/en/dev-articles-subt...   \n",
       "15  SemEval 2023 Dataset/data/en/dev-articles-subt...   \n",
       "16  SemEval 2023 Dataset/data/en/dev-articles-subt...   \n",
       "17  SemEval 2023 Dataset/data/en/dev-articles-subt...   \n",
       "18  SemEval 2023 Dataset/data/en/dev-articles-subt...   \n",
       "19  SemEval 2023 Dataset/data/en/dev-articles-subt...   \n",
       "20  SemEval 2023 Dataset/data/en/dev-articles-subt...   \n",
       "\n",
       "                                                 span  \\\n",
       "0   I guess her only chance is if Labour decides t...   \n",
       "1                              to dishonour democracy   \n",
       "2   I don't see any way the Conservatives would vo...   \n",
       "3                                 bitterly against it   \n",
       "4                                        remoaner MPs   \n",
       "5                                   dead in the water   \n",
       "6                             that works, that's fine   \n",
       "7   that's a piece of technology which is manufact...   \n",
       "8          this is the world that really exists today   \n",
       "9   The EU makes a profit on its trade with the UK...   \n",
       "10  If someone in a city in Germany wants to do a ...   \n",
       "11                                            Slammed   \n",
       "12                                            looming   \n",
       "13                                 mounting criticism   \n",
       "14                     left a bad taste in the mouths   \n",
       "15                               message of support\"    \n",
       "16                                               huge   \n",
       "17                        they will always be welcome   \n",
       "18                                  you are Londoners   \n",
       "19                                 message of support   \n",
       "20                                             rushed   \n",
       "\n",
       "                              label  \n",
       "0           False_Dilemma-No_Choice  \n",
       "1                   Loaded_Language  \n",
       "2           False_Dilemma-No_Choice  \n",
       "3                   Loaded_Language  \n",
       "4             Name_Calling-Labeling  \n",
       "5                   Loaded_Language  \n",
       "6               Conversation_Killer  \n",
       "7                       Red_Herring  \n",
       "8               Conversation_Killer  \n",
       "9   Obfuscation-Vagueness-Confusion  \n",
       "10  Obfuscation-Vagueness-Confusion  \n",
       "11                  Loaded_Language  \n",
       "12                  Loaded_Language  \n",
       "13        Exaggeration-Minimisation  \n",
       "14                  Loaded_Language  \n",
       "15                       Repetition  \n",
       "16                  Loaded_Language  \n",
       "17                          Slogans  \n",
       "18                      Flag_Waving  \n",
       "19                       Repetition  \n",
       "20                  Loaded_Language  "
      ]
     },
     "execution_count": 38,
     "metadata": {},
     "output_type": "execute_result"
    }
   ],
   "source": [
    "df_test.head(21)"
   ]
  },
  {
   "cell_type": "code",
   "execution_count": 41,
   "metadata": {},
   "outputs": [],
   "source": [
    "import numpy as np\n",
    "\n",
    "p, count = np.unique(df_test['path'], return_counts=True)\n",
    "# stats.describe(count)"
   ]
  },
  {
   "cell_type": "code",
   "execution_count": 28,
   "metadata": {},
   "outputs": [
    {
     "data": {
      "image/png": "[encoded data removed]",
      "text/plain": [
       "<Figure size 640x480 with 1 Axes>"
      ]
     },
     "metadata": {},
     "output_type": "display_data"
    }
   ],
   "source": [
    "sns.histplot(count, bins=12, color='cornflowerblue')\n",
    "plt.show()"
   ]
  },
  {
   "cell_type": "markdown",
   "metadata": {},
   "source": [
    "---"
   ]
  },
  {
   "cell_type": "code",
   "execution_count": 24,
   "metadata": {},
   "outputs": [
    {
     "name": "stderr",
     "output_type": "stream",
     "text": [
      "bert-base-uncased processing texts (train): 100%|██████████| 431/431 [01:14<00:00,  5.76it/s]\n"
     ]
    }
   ],
   "source": [
    "import pandas as pd\n",
    "from transformers import BertTokenizer, BertModel\n",
    "import torch\n",
    "import os\n",
    "from tqdm import tqdm\n",
    "\n",
    "mode = 'train'\n",
    "\n",
    "# Read the CSV file\n",
    "data = pd.read_csv('semeval-' + mode + '-spans.csv')\n",
    "\n",
    "# Check if GPU is available and set the device accordingly\n",
    "device = torch.device(\"cuda\" if torch.cuda.is_available() else \"cpu\")\n",
    "\n",
    "for model_name in ['bert-base-uncased']:#, 'bert-base-cased', 'bert-large-uncased', 'bert-large-cased',\n",
    "        #    'bert-base-multilingual-cased', 'bert-large-uncased-whole-word-masking',\n",
    "        #    'bert-large-cased-whole-word-masking']:\n",
    "    # Initialize the BERT tokenizer and model\n",
    "    tokenizer = BertTokenizer.from_pretrained(model_name)\n",
    "    model = BertModel.from_pretrained(model_name).to(device)\n",
    "\n",
    "    # Function to process text and generate embeddings\n",
    "    def process_text_and_save_embeddings(text_path, model_name, mode):\n",
    "        # Load text from file using the path\n",
    "        with open(text_path, 'r', encoding='utf-8') as file:\n",
    "            text = file.read()\n",
    "\n",
    "        # Tokenize text without adding special tokens\n",
    "        tokens = tokenizer.tokenize(text)\n",
    "\n",
    "        # Split tokens into chunks with specified length and overlap\n",
    "        chunk_length = 300\n",
    "        overlap = 100\n",
    "        token_chunks = [tokens[i:i+chunk_length] for i in range(0, len(tokens), chunk_length - overlap)]\n",
    "        # print(list(range(0, len(tokens), chunk_length - overlap)), len(tokens))\n",
    "\n",
    "        # Process each chunk and get embeddings\n",
    "        embeddings = []\n",
    "        _sum = 0\n",
    "        for i, chunk in enumerate(token_chunks):\n",
    "            # Add special tokens and create attention mask\n",
    "            inputs = tokenizer.encode_plus(' '.join(chunk), add_special_tokens=True, return_tensors='pt', max_length=512, padding='max_length')\n",
    "            input_ids = inputs['input_ids'].to(device)\n",
    "            attention_mask = inputs['attention_mask'].to(device)\n",
    "\n",
    "            zero_index = input_ids.cpu().numpy().tolist()[0].index(0) if 0 in input_ids.cpu().numpy().tolist()[0] else len(input_ids)\n",
    "            # print(zero_index)\n",
    "            _sum += zero_index\n",
    "            # print('input_ids', len(inputs['input_ids'].cpu().numpy().tolist()[0]))\n",
    "\n",
    "            # Get embeddings\n",
    "            with torch.no_grad():\n",
    "                outputs = model(input_ids=input_ids, attention_mask=attention_mask)\n",
    "                last_hidden_states = outputs.last_hidden_state\n",
    "            # print('raw', last_hidden_states.shape)\n",
    "\n",
    "            # Remove special tokens and concatenate remaining embeddings\n",
    "            last_hidden_states = last_hidden_states[:, :zero_index, :]\n",
    "            if i < len(token_chunks) - 1:\n",
    "                last_hidden_states = last_hidden_states[:, 1:-overlap-1, :]\n",
    "            # print('slc', last_hidden_states.shape)\n",
    "            embeddings.append(last_hidden_states)\n",
    "\n",
    "        # Concatenate embeddings from all chunks into one tensor\n",
    "        concatenated_embeddings = torch.cat(embeddings, dim=1).to(device)\n",
    "        # print(concatenated_embeddings.shape)\n",
    "        # print(_sum - (len(token_chunks) - 1) * 100)\n",
    "        # print()\n",
    "\n",
    "        # Save the tensor to a file in the 'embeddings' folder\n",
    "        embeddings_folder = model_name + '_' + mode + '_embeddings/'\n",
    "        os.makedirs(embeddings_folder, exist_ok=True)  # Create 'embeddings' folder if it doesn't exist\n",
    "        embeddings_filename = os.path.basename(text_path).replace('.txt', '_embeddings.pt')\n",
    "        embeddings_path = os.path.join(embeddings_folder, embeddings_filename)\n",
    "        torch.save(concatenated_embeddings, embeddings_path)\n",
    "\n",
    "        return embeddings_path\n",
    "\n",
    "    # Process unique paths and save embeddings\n",
    "    embeddings_info = []\n",
    "    for text_path in tqdm(data['path'].unique(), total=len(data['path'].unique()), desc=model_name + ' processing texts' + ' (' + mode + ')'):\n",
    "        embeddings_path = process_text_and_save_embeddings(text_path, model_name, mode)\n",
    "        embeddings_info.append({'path_to_text': text_path, 'path_to_embeddings': embeddings_path})\n",
    "\n",
    "    # Create DataFrame with paths to text and embeddings\n",
    "    embeddings_df = pd.DataFrame(embeddings_info)\n",
    "\n",
    "    # Save DataFrame to CSV file\n",
    "    embeddings_df.to_csv(model_name + '_' + mode + '_embeddings.csv', index=False)"
   ]
  },
  {
   "cell_type": "code",
   "execution_count": 25,
   "metadata": {},
   "outputs": [
    {
     "data": {
      "text/plain": [
       "torch.Size([1, 628, 768])"
      ]
     },
     "execution_count": 25,
     "metadata": {},
     "output_type": "execute_result"
    }
   ],
   "source": [
    "emb = torch.load('bert-base-uncased_train_embeddings/article694811415_embeddings.pt')\n",
    "emb.shape"
   ]
  },
  {
   "cell_type": "code",
   "execution_count": 1,
   "metadata": {},
   "outputs": [
    {
     "name": "stderr",
     "output_type": "stream",
     "text": [
      "d:\\OneDrive\\Documents\\ДИССЕРТАЦИЯ\\Span Identification Project\\.venv\\Lib\\site-packages\\tqdm\\auto.py:21: TqdmWarning: IProgress not found. Please update jupyter and ipywidgets. See https://ipywidgets.readthedocs.io/en/stable/user_install.html\n",
      "  from .autonotebook import tqdm as notebook_tqdm\n",
      "Processing spans: 100%|██████████| 14528/14528 [1:39:23<00:00,  2.44it/s]   \n"
     ]
    }
   ],
   "source": [
    "import pandas as pd\n",
    "from transformers import BertTokenizer, BertModel, RobertaTokenizer, RobertaModel\n",
    "import torch\n",
    "import os\n",
    "from tqdm import tqdm\n",
    "\n",
    "# Check if GPU is available and set the device accordingly\n",
    "device = torch.device(\"cuda\" if torch.cuda.is_available() else \"cpu\")\n",
    "\n",
    "mode = 'train'\n",
    "\n",
    "# Read the CSV file\n",
    "data = pd.read_csv(f'semeval-{mode}-spans.csv')\n",
    "\n",
    "# Initialize the BERT tokenizer and model and move to GPU\n",
    "model_name = 'bert-base-uncased'\n",
    "tokenizer = BertTokenizer.from_pretrained(model_name)\n",
    "model = BertModel.from_pretrained(model_name).to(device)\n",
    "\n",
    "# Function to process text and generate embeddings based on text spans\n",
    "def process_text_and_save_embeddings(text_path, text_span, index, model_name, mode):\n",
    "    # Load text from file using the path\n",
    "    with open(text_path, 'r', encoding='utf-8') as file:\n",
    "        text = file.read()\n",
    "\n",
    "    # Tokenize text and span\n",
    "    tokens = tokenizer.tokenize(text)\n",
    "    span_tokens = tokenizer.tokenize(text_span)\n",
    "\n",
    "    # Convert tokens to token IDs\n",
    "    token_ids = tokenizer.convert_tokens_to_ids(tokens)\n",
    "    span_token_ids = tokenizer.convert_tokens_to_ids(span_tokens)\n",
    "\n",
    "    # Find the start and end token indexes of the span in the text tokens\n",
    "    span_start, span_end = 0, 0\n",
    "    for i in range(len(token_ids) - len(span_token_ids) + 1):\n",
    "        if token_ids[i:i + len(span_token_ids)] == span_token_ids:\n",
    "            span_start, span_end = i, i + len(span_token_ids) - 1\n",
    "            break\n",
    "\n",
    "    # Split tokens into chunks with specified length and overlap\n",
    "    chunk_length = 510\n",
    "    overlap = 100\n",
    "    token_chunks = [[101] + token_ids[i:i + chunk_length] + [102] for i in range(0, len(token_ids), chunk_length - overlap)]\n",
    "\n",
    "    # Process each chunk and get embeddings for the specified span\n",
    "    embeddings = []\n",
    "    for chunk in token_chunks:\n",
    "        input_ids = torch.tensor(chunk).unsqueeze(0).to(device)\n",
    "\n",
    "        # Get embeddings\n",
    "        with torch.no_grad():\n",
    "            outputs = model(input_ids=input_ids)\n",
    "            last_hidden_states = outputs.last_hidden_state\n",
    "\n",
    "        # Remove special tokens and concatenate remaining embeddings\n",
    "        trimmed_embeddings = last_hidden_states[:, 1:len(chunk) + 1, :]\n",
    "        if i < len(token_chunks) - 1:\n",
    "            trimmed_embeddings = trimmed_embeddings[:, overlap:, :]\n",
    "\n",
    "        embeddings.append(trimmed_embeddings)\n",
    "\n",
    "    # Concatenate embeddings from all chunks into one tensor\n",
    "    concatenated_embeddings = torch.cat(embeddings, dim=1).to(device)\n",
    "    concatenated_embeddings = concatenated_embeddings[:, span_start:span_end + 1, :]\n",
    "\n",
    "    # # Extract embeddings for the span\n",
    "    # start_embedding = concatenated_embeddings[:, span_start, :]\n",
    "    # end_embedding = concatenated_embeddings[:, span_end, :]\n",
    "\n",
    "    # # Max pooling along the sequence length dimension\n",
    "    # endpoint = torch.cat([start_embedding, end_embedding], dim=1)\n",
    "\n",
    "    # Save the tensor to a file in the 'embeddings' folder\n",
    "    embeddings_folder = f'{model_name}_{mode}_embeddings/'\n",
    "    os.makedirs(embeddings_folder, exist_ok=True)  # Create 'embeddings' folder if it doesn't exist\n",
    "    embeddings_filename = os.path.basename(text_path).replace('.txt', f'_{index}_span_raw_embeddings.pt')\n",
    "    embeddings_path = os.path.join(embeddings_folder, embeddings_filename)\n",
    "    torch.save(concatenated_embeddings, embeddings_path)\n",
    "\n",
    "    return embeddings_path\n",
    "\n",
    "# Process unique paths and save span-max-pooled embeddings\n",
    "embeddings_info = []\n",
    "for index, row in tqdm(data.iterrows(), total=len(data), desc='Processing spans'):\n",
    "    text_path = row['path']  # Update this with the actual folder path\n",
    "    text_span = row['span']  # Assuming 'span' column contains text-based spans like 'start-end'\n",
    "    embeddings_path = process_text_and_save_embeddings(text_path, text_span, index, model_name, mode)\n",
    "    embeddings_info.append({'path_to_text': text_path, 'path_to_embeddings': embeddings_path, 'label': row['label']})\n",
    "\n",
    "# Create DataFrame with paths to text and embeddings\n",
    "embeddings_df = pd.DataFrame(embeddings_info)\n",
    "\n",
    "# Save the DataFrame to a CSV file\n",
    "embeddings_info_path = f'{model_name}_{mode}_embeddings_with_span_raw.csv'\n",
    "embeddings_df.to_csv(embeddings_info_path, index=False)"
   ]
  },
  {
   "cell_type": "code",
   "execution_count": 2,
   "metadata": {},
   "outputs": [
    {
     "name": "stderr",
     "output_type": "stream",
     "text": [
      "Processing spans: 100%|██████████| 3280/3280 [21:38<00:00,  2.53it/s]  \n"
     ]
    }
   ],
   "source": [
    "import pandas as pd\n",
    "from transformers import BertTokenizer, BertModel, RobertaTokenizer, RobertaModel\n",
    "import torch\n",
    "import os\n",
    "from tqdm import tqdm\n",
    "\n",
    "# Check if GPU is available and set the device accordingly\n",
    "device = torch.device(\"cuda\" if torch.cuda.is_available() else \"cpu\")\n",
    "\n",
    "mode = 'test'\n",
    "\n",
    "# Read the CSV file\n",
    "data = pd.read_csv(f'semeval-{mode}-spans.csv')\n",
    "\n",
    "# Initialize the BERT tokenizer and model and move to GPU\n",
    "model_name = 'bert-base-uncased'\n",
    "tokenizer = BertTokenizer.from_pretrained(model_name)\n",
    "model = BertModel.from_pretrained(model_name).to(device)\n",
    "\n",
    "# Function to process text and generate embeddings based on text spans\n",
    "def process_text_and_save_embeddings(text_path, text_span, index, model_name, mode):\n",
    "    # Load text from file using the path\n",
    "    with open(text_path, 'r', encoding='utf-8') as file:\n",
    "        text = file.read()\n",
    "\n",
    "    # Tokenize text and span\n",
    "    tokens = tokenizer.tokenize(text)\n",
    "    span_tokens = tokenizer.tokenize(text_span)\n",
    "\n",
    "    # Convert tokens to token IDs\n",
    "    token_ids = tokenizer.convert_tokens_to_ids(tokens)\n",
    "    span_token_ids = tokenizer.convert_tokens_to_ids(span_tokens)\n",
    "\n",
    "    # Find the start and end token indexes of the span in the text tokens\n",
    "    span_start, span_end = 0, 0\n",
    "    for i in range(len(token_ids) - len(span_token_ids) + 1):\n",
    "        if token_ids[i:i + len(span_token_ids)] == span_token_ids:\n",
    "            span_start, span_end = i, i + len(span_token_ids) - 1\n",
    "            break\n",
    "\n",
    "    # print(span_start, span_end)\n",
    "\n",
    "    # Split tokens into chunks with specified length and overlap\n",
    "    chunk_length = 510\n",
    "    overlap = 100\n",
    "    token_chunks = [[101] + token_ids[i:i + chunk_length] + [102] for i in range(0, len(token_ids), chunk_length - overlap)]\n",
    "\n",
    "    # Process each chunk and get embeddings for the specified span\n",
    "    embeddings = []\n",
    "    for chunk in token_chunks:\n",
    "        input_ids = torch.tensor(chunk).unsqueeze(0).to(device)\n",
    "\n",
    "        # Get embeddings\n",
    "        with torch.no_grad():\n",
    "            outputs = model(input_ids=input_ids)\n",
    "            last_hidden_states = outputs.last_hidden_state\n",
    "\n",
    "        # Remove special tokens and concatenate remaining embeddings\n",
    "        trimmed_embeddings = last_hidden_states[:, 1:len(chunk) + 1, :]\n",
    "        if i < len(token_chunks) - 1:\n",
    "            trimmed_embeddings = trimmed_embeddings[:, overlap:, :]\n",
    "\n",
    "        embeddings.append(trimmed_embeddings)\n",
    "\n",
    "    # Concatenate embeddings from all chunks into one tensor\n",
    "    concatenated_embeddings = torch.cat(embeddings, dim=1).to(device)\n",
    "    concatenated_embeddings = concatenated_embeddings[:, span_start:span_end + 1, :]\n",
    "\n",
    "    # # Extract embeddings for the span\n",
    "    # start_embedding = concatenated_embeddings[:, span_start, :]\n",
    "    # end_embedding = concatenated_embeddings[:, span_end, :]\n",
    "\n",
    "    # # Max pooling along the sequence length dimension\n",
    "    # endpoint = torch.cat([start_embedding, end_embedding], dim=1)\n",
    "\n",
    "    # Save the tensor to a file in the 'embeddings' folder\n",
    "    embeddings_folder = f'{model_name}_{mode}_embeddings/'\n",
    "    os.makedirs(embeddings_folder, exist_ok=True)  # Create 'embeddings' folder if it doesn't exist\n",
    "    embeddings_filename = os.path.basename(text_path).replace('.txt', f'_{index}_span_raw_embeddings.pt')\n",
    "    embeddings_path = os.path.join(embeddings_folder, embeddings_filename)\n",
    "    torch.save(concatenated_embeddings, embeddings_path)\n",
    "\n",
    "    return embeddings_path\n",
    "\n",
    "# Process unique paths and save span-max-pooled embeddings\n",
    "embeddings_info = []\n",
    "for index, row in tqdm(data.iterrows(), total=len(data), desc='Processing spans'):\n",
    "    text_path = row['path']  # Update this with the actual folder path\n",
    "    text_span = row['span']  # Assuming 'span' column contains text-based spans like 'start-end'\n",
    "    embeddings_path = process_text_and_save_embeddings(text_path, text_span, index, model_name, mode)\n",
    "    embeddings_info.append({'path_to_text': text_path, 'path_to_embeddings': embeddings_path, 'label': row['label']})\n",
    "\n",
    "# Create DataFrame with paths to text and embeddings\n",
    "embeddings_df = pd.DataFrame(embeddings_info)\n",
    "\n",
    "# Save the DataFrame to a CSV file\n",
    "embeddings_info_path = f'{model_name}_{mode}_embeddings_with_span_raw.csv'\n",
    "embeddings_df.to_csv(embeddings_info_path, index=False)"
   ]
  },
  {
   "cell_type": "code",
   "execution_count": 33,
   "metadata": {},
   "outputs": [
    {
     "name": "stderr",
     "output_type": "stream",
     "text": [
      "d:\\OneDrive\\Documents\\ДИССЕРТАЦИЯ\\Span Identification Project\\.venv\\Lib\\site-packages\\sklearn\\preprocessing\\_encoders.py:975: FutureWarning: `sparse` was renamed to `sparse_output` in version 1.2 and will be removed in 1.4. `sparse_output` is ignored unless you leave `sparse` to its default value.\n",
      "  warnings.warn(\n"
     ]
    }
   ],
   "source": [
    "import torch\n",
    "from torch.utils.data import Dataset, DataLoader\n",
    "import pandas as pd\n",
    "from sklearn.preprocessing import OneHotEncoder\n",
    "\n",
    "onehot_encoder = OneHotEncoder(sparse=False)\n",
    "data = pd.read_csv('bert-base-uncased_train_embeddings_with_span_diff-sum.csv')['label'].values.reshape(-1, 1)\n",
    "onehot_encoder.fit(data)\n",
    "\n",
    "class CustomDataset(Dataset):\n",
    "    def __init__(self, csv_file, onehot_encoder):\n",
    "        self.data = pd.read_csv(csv_file)\n",
    "        self.onehot_encoder = onehot_encoder\n",
    "        self.labels = onehot_encoder.transform(self.data['label'].values.reshape(-1, 1))\n",
    "\n",
    "    def __len__(self):\n",
    "        return len(self.data)\n",
    "\n",
    "    def __getitem__(self, idx):\n",
    "        if torch.is_tensor(idx):\n",
    "            idx = idx.tolist()\n",
    "\n",
    "        file_path = self.data.iloc[idx]['path_to_embeddings']\n",
    "        # label = self.data.iloc[idx]['label']\n",
    "        label = self.labels[idx]\n",
    "\n",
    "        # Load embedding from .pt file\n",
    "        embedding = torch.load(file_path).cpu()\n",
    "\n",
    "        # # Perform one-hot encoding for the label\n",
    "        # label_onehot = self.onehot_encoder.transform([[label]])[0]\n",
    "\n",
    "        # return embedding, torch.FloatTensor(label_onehot)\n",
    "        return embedding, torch.FloatTensor(label)\n",
    "    \n",
    "# Paths to train and test CSV files\n",
    "train_csv_path = 'bert-base-uncased_train_embeddings_with_span_diff-sum.csv'\n",
    "test_csv_path = 'bert-base-uncased_test_embeddings_with_span_diff-sum.csv'\n",
    "\n",
    "# Create instances of CustomDataset for train and test\n",
    "train_dataset = CustomDataset(train_csv_path, onehot_encoder)\n",
    "test_dataset = CustomDataset(test_csv_path, onehot_encoder)\n",
    "\n",
    "# Define batch sizes\n",
    "train_batch_size = 128\n",
    "test_batch_size = 128\n",
    "\n",
    "# Create DataLoaders for train and test datasets\n",
    "train_data_loader = DataLoader(train_dataset, batch_size=train_batch_size, shuffle=True)\n",
    "test_data_loader = DataLoader(test_dataset, batch_size=test_batch_size, shuffle=False)"
   ]
  },
  {
   "cell_type": "code",
   "execution_count": 34,
   "metadata": {},
   "outputs": [
    {
     "data": {
      "text/plain": [
       "(tensor([[-0.3304, -0.0032,  0.1859,  ..., -0.7387, -0.0578,  0.3866]]),\n",
       " tensor([0., 0., 0., 0., 0., 0., 0., 0., 1., 0., 0., 0., 0., 0., 0., 0., 0., 0.,\n",
       "         0., 0.]))"
      ]
     },
     "execution_count": 34,
     "metadata": {},
     "output_type": "execute_result"
    }
   ],
   "source": [
    "test_dataset[0]"
   ]
  },
  {
   "cell_type": "code",
   "execution_count": 114,
   "metadata": {},
   "outputs": [],
   "source": [
    "import torch.nn.functional as F\n",
    "import torch.nn as nn\n",
    "\n",
    "class CustomLinearClassifier(nn.Module):\n",
    "    def __init__(self, input_dim=768, num_classes=20):\n",
    "        super(CustomLinearClassifier, self).__init__()\n",
    "        self.fc1 = nn.Linear(input_dim, 1024)\n",
    "        self.bn1 = nn.BatchNorm1d(1)\n",
    "        self.relu1 = nn.ReLU()\n",
    "        self.dropout1 = nn.Dropout(0.5)\n",
    "\n",
    "        self.fc2 = nn.Linear(1024, 512)\n",
    "        self.bn2 = nn.BatchNorm1d(1)\n",
    "        self.relu2 = nn.ReLU()\n",
    "        self.dropout2 = nn.Dropout(0.5)\n",
    "\n",
    "        self.fc3 = nn.Linear(512, 128)\n",
    "        self.bn3 = nn.BatchNorm1d(1)\n",
    "        self.relu3 = nn.ReLU()\n",
    "        self.dropout3 = nn.Dropout(0.5)\n",
    "\n",
    "        self.fc4 = nn.Linear(128, num_classes)\n",
    "\n",
    "    def forward(self, x):\n",
    "        # x = self.dropout1(self.relu1(self.bn1(self.fc1(x))))\n",
    "        # x = self.dropout2(self.relu2(self.bn2(self.fc2(x))))\n",
    "        # x = self.dropout3(self.relu3(self.bn3(self.fc3(x))))\n",
    "        x = self.relu1(self.bn1(self.fc1(x)))\n",
    "        x = self.relu2(self.bn2(self.fc2(x)))\n",
    "        x = self.relu3(self.bn3(self.fc3(x)))\n",
    "        x = self.fc4(x)\n",
    "        x = F.softmax(x, dim=0)\n",
    "        return x"
   ]
  },
  {
   "cell_type": "code",
   "execution_count": 115,
   "metadata": {},
   "outputs": [
    {
     "name": "stderr",
     "output_type": "stream",
     "text": [
      "Epoch 1: 100%|██████████| 114/114 [00:05<00:00, 20.76it/s]\n"
     ]
    },
    {
     "name": "stdout",
     "output_type": "stream",
     "text": [
      "Epoch [1/200] Train Loss: 2.9857 Val Loss: 2.9914 Precision: 0.0716 Recall: 0.0678 F1 Score: 0.0420\n"
     ]
    },
    {
     "name": "stderr",
     "output_type": "stream",
     "text": [
      "Epoch 2: 100%|██████████| 114/114 [00:06<00:00, 18.01it/s]\n"
     ]
    },
    {
     "name": "stdout",
     "output_type": "stream",
     "text": [
      "Epoch [2/200] Train Loss: 2.9784 Val Loss: 2.9904 Precision: 0.0882 Recall: 0.0653 F1 Score: 0.0322\n"
     ]
    },
    {
     "name": "stderr",
     "output_type": "stream",
     "text": [
      "Epoch 3: 100%|██████████| 114/114 [00:06<00:00, 17.36it/s]\n"
     ]
    },
    {
     "name": "stdout",
     "output_type": "stream",
     "text": [
      "Epoch [3/200] Train Loss: 2.9742 Val Loss: 2.9879 Precision: 0.1153 Recall: 0.1179 F1 Score: 0.0510\n"
     ]
    },
    {
     "name": "stderr",
     "output_type": "stream",
     "text": [
      "Epoch 4: 100%|██████████| 114/114 [00:06<00:00, 17.62it/s]\n"
     ]
    },
    {
     "name": "stdout",
     "output_type": "stream",
     "text": [
      "Epoch [4/200] Train Loss: 2.9716 Val Loss: 2.9877 Precision: 0.1042 Recall: 0.0883 F1 Score: 0.0383\n"
     ]
    },
    {
     "name": "stderr",
     "output_type": "stream",
     "text": [
      "Epoch 5: 100%|██████████| 114/114 [00:06<00:00, 17.41it/s]\n"
     ]
    },
    {
     "name": "stdout",
     "output_type": "stream",
     "text": [
      "Epoch [5/200] Train Loss: 2.9694 Val Loss: 2.9891 Precision: 0.1166 Recall: 0.1086 F1 Score: 0.0375\n"
     ]
    },
    {
     "name": "stderr",
     "output_type": "stream",
     "text": [
      "Epoch 6: 100%|██████████| 114/114 [00:06<00:00, 17.21it/s]\n"
     ]
    },
    {
     "name": "stdout",
     "output_type": "stream",
     "text": [
      "Epoch [6/200] Train Loss: 2.9674 Val Loss: 2.9887 Precision: 0.1011 Recall: 0.0876 F1 Score: 0.0390\n"
     ]
    },
    {
     "name": "stderr",
     "output_type": "stream",
     "text": [
      "Epoch 7: 100%|██████████| 114/114 [00:06<00:00, 16.88it/s]\n"
     ]
    },
    {
     "name": "stdout",
     "output_type": "stream",
     "text": [
      "Epoch [7/200] Train Loss: 2.9674 Val Loss: 2.9895 Precision: 0.1036 Recall: 0.1087 F1 Score: 0.0376\n"
     ]
    },
    {
     "name": "stderr",
     "output_type": "stream",
     "text": [
      "Epoch 8: 100%|██████████| 114/114 [00:06<00:00, 17.34it/s]\n"
     ]
    },
    {
     "name": "stdout",
     "output_type": "stream",
     "text": [
      "Epoch [8/200] Train Loss: 2.9657 Val Loss: 2.9880 Precision: 0.1217 Recall: 0.0920 F1 Score: 0.0492\n"
     ]
    },
    {
     "name": "stderr",
     "output_type": "stream",
     "text": [
      "Epoch 9: 100%|██████████| 114/114 [00:06<00:00, 17.54it/s]\n"
     ]
    },
    {
     "name": "stdout",
     "output_type": "stream",
     "text": [
      "Epoch [9/200] Train Loss: 2.9649 Val Loss: 2.9881 Precision: 0.1062 Recall: 0.0737 F1 Score: 0.0413\n"
     ]
    },
    {
     "name": "stderr",
     "output_type": "stream",
     "text": [
      "Epoch 10: 100%|██████████| 114/114 [00:06<00:00, 17.66it/s]\n"
     ]
    },
    {
     "name": "stdout",
     "output_type": "stream",
     "text": [
      "Epoch [10/200] Train Loss: 2.9652 Val Loss: 2.9882 Precision: 0.1037 Recall: 0.0817 F1 Score: 0.0391\n"
     ]
    },
    {
     "name": "stderr",
     "output_type": "stream",
     "text": [
      "Epoch 11: 100%|██████████| 114/114 [00:06<00:00, 17.75it/s]\n"
     ]
    },
    {
     "name": "stdout",
     "output_type": "stream",
     "text": [
      "Epoch [11/200] Train Loss: 2.9649 Val Loss: 2.9893 Precision: 0.1065 Recall: 0.0844 F1 Score: 0.0486\n"
     ]
    },
    {
     "name": "stderr",
     "output_type": "stream",
     "text": [
      "Epoch 12: 100%|██████████| 114/114 [00:06<00:00, 17.76it/s]\n"
     ]
    },
    {
     "name": "stdout",
     "output_type": "stream",
     "text": [
      "Epoch [12/200] Train Loss: 2.9629 Val Loss: 2.9882 Precision: 0.0943 Recall: 0.0665 F1 Score: 0.0383\n"
     ]
    },
    {
     "name": "stderr",
     "output_type": "stream",
     "text": [
      "Epoch 13: 100%|██████████| 114/114 [00:06<00:00, 17.52it/s]\n"
     ]
    },
    {
     "name": "stdout",
     "output_type": "stream",
     "text": [
      "Epoch [13/200] Train Loss: 2.9625 Val Loss: 2.9883 Precision: 0.1054 Recall: 0.1061 F1 Score: 0.0434\n"
     ]
    },
    {
     "name": "stderr",
     "output_type": "stream",
     "text": [
      "Epoch 14: 100%|██████████| 114/114 [00:06<00:00, 17.76it/s]\n"
     ]
    },
    {
     "name": "stdout",
     "output_type": "stream",
     "text": [
      "Epoch [14/200] Train Loss: 2.9614 Val Loss: 2.9865 Precision: 0.1060 Recall: 0.1172 F1 Score: 0.0530\n"
     ]
    },
    {
     "name": "stderr",
     "output_type": "stream",
     "text": [
      "Epoch 15: 100%|██████████| 114/114 [00:06<00:00, 17.08it/s]\n"
     ]
    },
    {
     "name": "stdout",
     "output_type": "stream",
     "text": [
      "Epoch [15/200] Train Loss: 2.9601 Val Loss: 2.9892 Precision: 0.0886 Recall: 0.1066 F1 Score: 0.0493\n"
     ]
    },
    {
     "name": "stderr",
     "output_type": "stream",
     "text": [
      "Epoch 16: 100%|██████████| 114/114 [00:06<00:00, 17.53it/s]\n"
     ]
    },
    {
     "name": "stdout",
     "output_type": "stream",
     "text": [
      "Epoch [16/200] Train Loss: 2.9583 Val Loss: 2.9865 Precision: 0.1030 Recall: 0.1195 F1 Score: 0.0586\n"
     ]
    },
    {
     "name": "stderr",
     "output_type": "stream",
     "text": [
      "Epoch 17: 100%|██████████| 114/114 [00:06<00:00, 18.50it/s]\n"
     ]
    },
    {
     "name": "stdout",
     "output_type": "stream",
     "text": [
      "Epoch [17/200] Train Loss: 2.9579 Val Loss: 2.9869 Precision: 0.1059 Recall: 0.0914 F1 Score: 0.0606\n"
     ]
    },
    {
     "name": "stderr",
     "output_type": "stream",
     "text": [
      "Epoch 18: 100%|██████████| 114/114 [00:06<00:00, 18.22it/s]\n"
     ]
    },
    {
     "name": "stdout",
     "output_type": "stream",
     "text": [
      "Epoch [18/200] Train Loss: 2.9572 Val Loss: 2.9890 Precision: 0.1033 Recall: 0.0785 F1 Score: 0.0523\n"
     ]
    },
    {
     "name": "stderr",
     "output_type": "stream",
     "text": [
      "Epoch 19: 100%|██████████| 114/114 [00:06<00:00, 17.98it/s]\n"
     ]
    },
    {
     "name": "stdout",
     "output_type": "stream",
     "text": [
      "Epoch [19/200] Train Loss: 2.9552 Val Loss: 2.9882 Precision: 0.1165 Recall: 0.1065 F1 Score: 0.0548\n"
     ]
    },
    {
     "name": "stderr",
     "output_type": "stream",
     "text": [
      "Epoch 20: 100%|██████████| 114/114 [00:06<00:00, 18.18it/s]\n"
     ]
    },
    {
     "name": "stdout",
     "output_type": "stream",
     "text": [
      "Epoch [20/200] Train Loss: 2.9554 Val Loss: 2.9872 Precision: 0.1061 Recall: 0.0989 F1 Score: 0.0485\n"
     ]
    },
    {
     "name": "stderr",
     "output_type": "stream",
     "text": [
      "Epoch 21: 100%|██████████| 114/114 [00:06<00:00, 17.23it/s]\n"
     ]
    },
    {
     "name": "stdout",
     "output_type": "stream",
     "text": [
      "Epoch [21/200] Train Loss: 2.9557 Val Loss: 2.9868 Precision: 0.1117 Recall: 0.1075 F1 Score: 0.0528\n"
     ]
    },
    {
     "name": "stderr",
     "output_type": "stream",
     "text": [
      "Epoch 22: 100%|██████████| 114/114 [00:06<00:00, 17.13it/s]\n"
     ]
    },
    {
     "name": "stdout",
     "output_type": "stream",
     "text": [
      "Epoch [22/200] Train Loss: 2.9545 Val Loss: 2.9885 Precision: 0.1148 Recall: 0.0871 F1 Score: 0.0525\n"
     ]
    },
    {
     "name": "stderr",
     "output_type": "stream",
     "text": [
      "Epoch 23: 100%|██████████| 114/114 [00:06<00:00, 17.06it/s]\n"
     ]
    },
    {
     "name": "stdout",
     "output_type": "stream",
     "text": [
      "Epoch [23/200] Train Loss: 2.9545 Val Loss: 2.9877 Precision: 0.1110 Recall: 0.0851 F1 Score: 0.0535\n"
     ]
    },
    {
     "name": "stderr",
     "output_type": "stream",
     "text": [
      "Epoch 24: 100%|██████████| 114/114 [00:06<00:00, 17.41it/s]\n"
     ]
    },
    {
     "name": "stdout",
     "output_type": "stream",
     "text": [
      "Epoch [24/200] Train Loss: 2.9521 Val Loss: 2.9880 Precision: 0.1014 Recall: 0.0791 F1 Score: 0.0497\n"
     ]
    },
    {
     "name": "stderr",
     "output_type": "stream",
     "text": [
      "Epoch 25: 100%|██████████| 114/114 [00:06<00:00, 17.79it/s]\n"
     ]
    },
    {
     "name": "stdout",
     "output_type": "stream",
     "text": [
      "Epoch [25/200] Train Loss: 2.9532 Val Loss: 2.9872 Precision: 0.1132 Recall: 0.0753 F1 Score: 0.0457\n"
     ]
    },
    {
     "name": "stderr",
     "output_type": "stream",
     "text": [
      "Epoch 26: 100%|██████████| 114/114 [00:06<00:00, 18.43it/s]\n"
     ]
    },
    {
     "name": "stdout",
     "output_type": "stream",
     "text": [
      "Epoch [26/200] Train Loss: 2.9531 Val Loss: 2.9880 Precision: 0.1118 Recall: 0.1213 F1 Score: 0.0456\n"
     ]
    },
    {
     "name": "stderr",
     "output_type": "stream",
     "text": [
      "Epoch 27: 100%|██████████| 114/114 [00:06<00:00, 18.41it/s]\n"
     ]
    },
    {
     "name": "stdout",
     "output_type": "stream",
     "text": [
      "Epoch [27/200] Train Loss: 2.9514 Val Loss: 2.9869 Precision: 0.1259 Recall: 0.0893 F1 Score: 0.0548\n"
     ]
    },
    {
     "name": "stderr",
     "output_type": "stream",
     "text": [
      "Epoch 28: 100%|██████████| 114/114 [00:06<00:00, 18.09it/s]\n"
     ]
    },
    {
     "name": "stdout",
     "output_type": "stream",
     "text": [
      "Epoch [28/200] Train Loss: 2.9531 Val Loss: 2.9876 Precision: 0.1242 Recall: 0.0811 F1 Score: 0.0571\n"
     ]
    },
    {
     "name": "stderr",
     "output_type": "stream",
     "text": [
      "Epoch 29: 100%|██████████| 114/114 [00:06<00:00, 18.19it/s]\n"
     ]
    },
    {
     "name": "stdout",
     "output_type": "stream",
     "text": [
      "Epoch [29/200] Train Loss: 2.9519 Val Loss: 2.9878 Precision: 0.1129 Recall: 0.1156 F1 Score: 0.0577\n"
     ]
    },
    {
     "name": "stderr",
     "output_type": "stream",
     "text": [
      "Epoch 30: 100%|██████████| 114/114 [00:06<00:00, 18.37it/s]\n"
     ]
    },
    {
     "name": "stdout",
     "output_type": "stream",
     "text": [
      "Epoch [30/200] Train Loss: 2.9523 Val Loss: 2.9884 Precision: 0.1224 Recall: 0.0695 F1 Score: 0.0554\n"
     ]
    },
    {
     "name": "stderr",
     "output_type": "stream",
     "text": [
      "Epoch 31: 100%|██████████| 114/114 [00:06<00:00, 18.14it/s]\n"
     ]
    },
    {
     "name": "stdout",
     "output_type": "stream",
     "text": [
      "Epoch [31/200] Train Loss: 2.9502 Val Loss: 2.9882 Precision: 0.1120 Recall: 0.0684 F1 Score: 0.0467\n"
     ]
    },
    {
     "name": "stderr",
     "output_type": "stream",
     "text": [
      "Epoch 32: 100%|██████████| 114/114 [00:06<00:00, 18.89it/s]\n"
     ]
    },
    {
     "name": "stdout",
     "output_type": "stream",
     "text": [
      "Epoch [32/200] Train Loss: 2.9501 Val Loss: 2.9867 Precision: 0.0974 Recall: 0.0918 F1 Score: 0.0479\n"
     ]
    },
    {
     "name": "stderr",
     "output_type": "stream",
     "text": [
      "Epoch 33: 100%|██████████| 114/114 [00:06<00:00, 17.93it/s]\n"
     ]
    },
    {
     "name": "stdout",
     "output_type": "stream",
     "text": [
      "Epoch [33/200] Train Loss: 2.9496 Val Loss: 2.9877 Precision: 0.1035 Recall: 0.1120 F1 Score: 0.0565\n"
     ]
    },
    {
     "name": "stderr",
     "output_type": "stream",
     "text": [
      "Epoch 34: 100%|██████████| 114/114 [00:06<00:00, 18.74it/s]\n"
     ]
    },
    {
     "name": "stdout",
     "output_type": "stream",
     "text": [
      "Epoch [34/200] Train Loss: 2.9492 Val Loss: 2.9873 Precision: 0.1107 Recall: 0.1069 F1 Score: 0.0525\n"
     ]
    },
    {
     "name": "stderr",
     "output_type": "stream",
     "text": [
      "Epoch 35: 100%|██████████| 114/114 [00:06<00:00, 18.69it/s]\n"
     ]
    },
    {
     "name": "stdout",
     "output_type": "stream",
     "text": [
      "Epoch [35/200] Train Loss: 2.9488 Val Loss: 2.9886 Precision: 0.1089 Recall: 0.1257 F1 Score: 0.0571\n"
     ]
    },
    {
     "name": "stderr",
     "output_type": "stream",
     "text": [
      "Epoch 36: 100%|██████████| 114/114 [00:06<00:00, 18.12it/s]\n"
     ]
    },
    {
     "name": "stdout",
     "output_type": "stream",
     "text": [
      "Epoch [36/200] Train Loss: 2.9488 Val Loss: 2.9862 Precision: 0.1240 Recall: 0.1426 F1 Score: 0.0654\n"
     ]
    },
    {
     "name": "stderr",
     "output_type": "stream",
     "text": [
      "Epoch 37: 100%|██████████| 114/114 [00:06<00:00, 17.71it/s]\n"
     ]
    },
    {
     "name": "stdout",
     "output_type": "stream",
     "text": [
      "Epoch [37/200] Train Loss: 2.9486 Val Loss: 2.9870 Precision: 0.1314 Recall: 0.1590 F1 Score: 0.0779\n"
     ]
    },
    {
     "name": "stderr",
     "output_type": "stream",
     "text": [
      "Epoch 38: 100%|██████████| 114/114 [00:06<00:00, 17.19it/s]\n"
     ]
    },
    {
     "name": "stdout",
     "output_type": "stream",
     "text": [
      "Epoch [38/200] Train Loss: 2.9501 Val Loss: 2.9868 Precision: 0.1299 Recall: 0.0782 F1 Score: 0.0552\n"
     ]
    },
    {
     "name": "stderr",
     "output_type": "stream",
     "text": [
      "Epoch 39: 100%|██████████| 114/114 [00:06<00:00, 17.30it/s]\n"
     ]
    },
    {
     "name": "stdout",
     "output_type": "stream",
     "text": [
      "Epoch [39/200] Train Loss: 2.9478 Val Loss: 2.9870 Precision: 0.1167 Recall: 0.1017 F1 Score: 0.0547\n"
     ]
    },
    {
     "name": "stderr",
     "output_type": "stream",
     "text": [
      "Epoch 40: 100%|██████████| 114/114 [00:06<00:00, 17.67it/s]\n"
     ]
    },
    {
     "name": "stdout",
     "output_type": "stream",
     "text": [
      "Epoch [40/200] Train Loss: 2.9465 Val Loss: 2.9875 Precision: 0.1105 Recall: 0.0613 F1 Score: 0.0430\n"
     ]
    },
    {
     "name": "stderr",
     "output_type": "stream",
     "text": [
      "Epoch 41: 100%|██████████| 114/114 [00:06<00:00, 18.48it/s]\n"
     ]
    },
    {
     "name": "stdout",
     "output_type": "stream",
     "text": [
      "Epoch [41/200] Train Loss: 2.9484 Val Loss: 2.9867 Precision: 0.1164 Recall: 0.1204 F1 Score: 0.0507\n"
     ]
    },
    {
     "name": "stderr",
     "output_type": "stream",
     "text": [
      "Epoch 42: 100%|██████████| 114/114 [00:06<00:00, 18.34it/s]\n"
     ]
    },
    {
     "name": "stdout",
     "output_type": "stream",
     "text": [
      "Epoch [42/200] Train Loss: 2.9466 Val Loss: 2.9878 Precision: 0.1169 Recall: 0.0965 F1 Score: 0.0547\n"
     ]
    },
    {
     "name": "stderr",
     "output_type": "stream",
     "text": [
      "Epoch 43: 100%|██████████| 114/114 [00:06<00:00, 18.29it/s]\n"
     ]
    },
    {
     "name": "stdout",
     "output_type": "stream",
     "text": [
      "Epoch [43/200] Train Loss: 2.9462 Val Loss: 2.9879 Precision: 0.1066 Recall: 0.0981 F1 Score: 0.0499\n"
     ]
    },
    {
     "name": "stderr",
     "output_type": "stream",
     "text": [
      "Epoch 44: 100%|██████████| 114/114 [00:06<00:00, 18.47it/s]\n"
     ]
    },
    {
     "name": "stdout",
     "output_type": "stream",
     "text": [
      "Epoch [44/200] Train Loss: 2.9473 Val Loss: 2.9868 Precision: 0.1223 Recall: 0.0873 F1 Score: 0.0564\n"
     ]
    },
    {
     "name": "stderr",
     "output_type": "stream",
     "text": [
      "Epoch 45: 100%|██████████| 114/114 [00:06<00:00, 18.84it/s]\n"
     ]
    },
    {
     "name": "stdout",
     "output_type": "stream",
     "text": [
      "Epoch [45/200] Train Loss: 2.9466 Val Loss: 2.9852 Precision: 0.1322 Recall: 0.1104 F1 Score: 0.0626\n"
     ]
    },
    {
     "name": "stderr",
     "output_type": "stream",
     "text": [
      "Epoch 46: 100%|██████████| 114/114 [00:05<00:00, 19.26it/s]\n"
     ]
    },
    {
     "name": "stdout",
     "output_type": "stream",
     "text": [
      "Epoch [46/200] Train Loss: 2.9457 Val Loss: 2.9866 Precision: 0.1189 Recall: 0.0810 F1 Score: 0.0545\n"
     ]
    },
    {
     "name": "stderr",
     "output_type": "stream",
     "text": [
      "Epoch 47: 100%|██████████| 114/114 [00:06<00:00, 18.93it/s]\n"
     ]
    },
    {
     "name": "stdout",
     "output_type": "stream",
     "text": [
      "Epoch [47/200] Train Loss: 2.9464 Val Loss: 2.9883 Precision: 0.1079 Recall: 0.0896 F1 Score: 0.0471\n"
     ]
    },
    {
     "name": "stderr",
     "output_type": "stream",
     "text": [
      "Epoch 48: 100%|██████████| 114/114 [00:06<00:00, 18.38it/s]\n"
     ]
    },
    {
     "name": "stdout",
     "output_type": "stream",
     "text": [
      "Epoch [48/200] Train Loss: 2.9452 Val Loss: 2.9873 Precision: 0.1187 Recall: 0.0895 F1 Score: 0.0521\n"
     ]
    },
    {
     "name": "stderr",
     "output_type": "stream",
     "text": [
      "Epoch 49: 100%|██████████| 114/114 [00:05<00:00, 21.13it/s]\n"
     ]
    },
    {
     "name": "stdout",
     "output_type": "stream",
     "text": [
      "Epoch [49/200] Train Loss: 2.9443 Val Loss: 2.9868 Precision: 0.1161 Recall: 0.1010 F1 Score: 0.0593\n"
     ]
    },
    {
     "name": "stderr",
     "output_type": "stream",
     "text": [
      "Epoch 50: 100%|██████████| 114/114 [00:06<00:00, 18.60it/s]\n"
     ]
    },
    {
     "name": "stdout",
     "output_type": "stream",
     "text": [
      "Epoch [50/200] Train Loss: 2.9441 Val Loss: 2.9878 Precision: 0.1220 Recall: 0.0661 F1 Score: 0.0562\n"
     ]
    },
    {
     "name": "stderr",
     "output_type": "stream",
     "text": [
      "Epoch 51: 100%|██████████| 114/114 [00:06<00:00, 18.68it/s]\n"
     ]
    },
    {
     "name": "stdout",
     "output_type": "stream",
     "text": [
      "Epoch [51/200] Train Loss: 2.9446 Val Loss: 2.9868 Precision: 0.1259 Recall: 0.0991 F1 Score: 0.0621\n"
     ]
    },
    {
     "name": "stderr",
     "output_type": "stream",
     "text": [
      "Epoch 52: 100%|██████████| 114/114 [00:06<00:00, 18.12it/s]\n"
     ]
    },
    {
     "name": "stdout",
     "output_type": "stream",
     "text": [
      "Epoch [52/200] Train Loss: 2.9445 Val Loss: 2.9867 Precision: 0.1360 Recall: 0.0942 F1 Score: 0.0627\n"
     ]
    },
    {
     "name": "stderr",
     "output_type": "stream",
     "text": [
      "Epoch 53: 100%|██████████| 114/114 [00:06<00:00, 18.25it/s]\n"
     ]
    },
    {
     "name": "stdout",
     "output_type": "stream",
     "text": [
      "Epoch [53/200] Train Loss: 2.9430 Val Loss: 2.9860 Precision: 0.1168 Recall: 0.0734 F1 Score: 0.0589\n"
     ]
    },
    {
     "name": "stderr",
     "output_type": "stream",
     "text": [
      "Epoch 54: 100%|██████████| 114/114 [00:06<00:00, 18.24it/s]\n"
     ]
    },
    {
     "name": "stdout",
     "output_type": "stream",
     "text": [
      "Epoch [54/200] Train Loss: 2.9427 Val Loss: 2.9875 Precision: 0.1117 Recall: 0.0661 F1 Score: 0.0566\n"
     ]
    },
    {
     "name": "stderr",
     "output_type": "stream",
     "text": [
      "Epoch 55: 100%|██████████| 114/114 [00:06<00:00, 18.13it/s]\n"
     ]
    },
    {
     "name": "stdout",
     "output_type": "stream",
     "text": [
      "Epoch [55/200] Train Loss: 2.9425 Val Loss: 2.9871 Precision: 0.1240 Recall: 0.0800 F1 Score: 0.0638\n"
     ]
    },
    {
     "name": "stderr",
     "output_type": "stream",
     "text": [
      "Epoch 56: 100%|██████████| 114/114 [00:06<00:00, 17.28it/s]\n"
     ]
    },
    {
     "name": "stdout",
     "output_type": "stream",
     "text": [
      "Epoch [56/200] Train Loss: 2.9427 Val Loss: 2.9882 Precision: 0.1211 Recall: 0.0989 F1 Score: 0.0647\n"
     ]
    },
    {
     "name": "stderr",
     "output_type": "stream",
     "text": [
      "Epoch 57: 100%|██████████| 114/114 [00:06<00:00, 18.05it/s]\n"
     ]
    },
    {
     "name": "stdout",
     "output_type": "stream",
     "text": [
      "Epoch [57/200] Train Loss: 2.9420 Val Loss: 2.9882 Precision: 0.1016 Recall: 0.0800 F1 Score: 0.0484\n"
     ]
    },
    {
     "name": "stderr",
     "output_type": "stream",
     "text": [
      "Epoch 58: 100%|██████████| 114/114 [00:05<00:00, 21.68it/s]\n"
     ]
    },
    {
     "name": "stdout",
     "output_type": "stream",
     "text": [
      "Epoch [58/200] Train Loss: 2.9423 Val Loss: 2.9882 Precision: 0.1035 Recall: 0.0784 F1 Score: 0.0533\n"
     ]
    },
    {
     "name": "stderr",
     "output_type": "stream",
     "text": [
      "Epoch 59: 100%|██████████| 114/114 [00:06<00:00, 18.02it/s]\n"
     ]
    },
    {
     "name": "stdout",
     "output_type": "stream",
     "text": [
      "Epoch [59/200] Train Loss: 2.9413 Val Loss: 2.9883 Precision: 0.1204 Recall: 0.0822 F1 Score: 0.0653\n"
     ]
    },
    {
     "name": "stderr",
     "output_type": "stream",
     "text": [
      "Epoch 60: 100%|██████████| 114/114 [00:06<00:00, 18.39it/s]\n"
     ]
    },
    {
     "name": "stdout",
     "output_type": "stream",
     "text": [
      "Epoch [60/200] Train Loss: 2.9420 Val Loss: 2.9880 Precision: 0.1103 Recall: 0.0886 F1 Score: 0.0576\n"
     ]
    },
    {
     "name": "stderr",
     "output_type": "stream",
     "text": [
      "Epoch 61: 100%|██████████| 114/114 [00:06<00:00, 17.89it/s]\n"
     ]
    },
    {
     "name": "stdout",
     "output_type": "stream",
     "text": [
      "Epoch [61/200] Train Loss: 2.9406 Val Loss: 2.9866 Precision: 0.1118 Recall: 0.1057 F1 Score: 0.0597\n"
     ]
    },
    {
     "name": "stderr",
     "output_type": "stream",
     "text": [
      "Epoch 62: 100%|██████████| 114/114 [00:06<00:00, 17.06it/s]\n"
     ]
    },
    {
     "name": "stdout",
     "output_type": "stream",
     "text": [
      "Epoch [62/200] Train Loss: 2.9408 Val Loss: 2.9864 Precision: 0.1308 Recall: 0.0761 F1 Score: 0.0632\n"
     ]
    },
    {
     "name": "stderr",
     "output_type": "stream",
     "text": [
      "Epoch 63: 100%|██████████| 114/114 [00:06<00:00, 18.19it/s]\n"
     ]
    },
    {
     "name": "stdout",
     "output_type": "stream",
     "text": [
      "Epoch [63/200] Train Loss: 2.9420 Val Loss: 2.9867 Precision: 0.1243 Recall: 0.0863 F1 Score: 0.0596\n"
     ]
    },
    {
     "name": "stderr",
     "output_type": "stream",
     "text": [
      "Epoch 64: 100%|██████████| 114/114 [00:06<00:00, 16.58it/s]\n"
     ]
    },
    {
     "name": "stdout",
     "output_type": "stream",
     "text": [
      "Epoch [64/200] Train Loss: 2.9410 Val Loss: 2.9856 Precision: 0.1168 Recall: 0.1016 F1 Score: 0.0654\n"
     ]
    },
    {
     "name": "stderr",
     "output_type": "stream",
     "text": [
      "Epoch 65: 100%|██████████| 114/114 [00:06<00:00, 18.66it/s]\n"
     ]
    },
    {
     "name": "stdout",
     "output_type": "stream",
     "text": [
      "Epoch [65/200] Train Loss: 2.9410 Val Loss: 2.9865 Precision: 0.1127 Recall: 0.0967 F1 Score: 0.0596\n"
     ]
    },
    {
     "name": "stderr",
     "output_type": "stream",
     "text": [
      "Epoch 66: 100%|██████████| 114/114 [00:06<00:00, 18.09it/s]\n"
     ]
    },
    {
     "name": "stdout",
     "output_type": "stream",
     "text": [
      "Epoch [66/200] Train Loss: 2.9402 Val Loss: 2.9863 Precision: 0.1242 Recall: 0.1183 F1 Score: 0.0658\n"
     ]
    },
    {
     "name": "stderr",
     "output_type": "stream",
     "text": [
      "Epoch 67: 100%|██████████| 114/114 [00:06<00:00, 18.91it/s]\n"
     ]
    },
    {
     "name": "stdout",
     "output_type": "stream",
     "text": [
      "Epoch [67/200] Train Loss: 2.9414 Val Loss: 2.9864 Precision: 0.1073 Recall: 0.0810 F1 Score: 0.0548\n"
     ]
    },
    {
     "name": "stderr",
     "output_type": "stream",
     "text": [
      "Epoch 68: 100%|██████████| 114/114 [00:05<00:00, 21.69it/s]\n"
     ]
    },
    {
     "name": "stdout",
     "output_type": "stream",
     "text": [
      "Epoch [68/200] Train Loss: 2.9414 Val Loss: 2.9862 Precision: 0.1068 Recall: 0.0980 F1 Score: 0.0579\n"
     ]
    },
    {
     "name": "stderr",
     "output_type": "stream",
     "text": [
      "Epoch 69: 100%|██████████| 114/114 [00:05<00:00, 22.03it/s]\n"
     ]
    },
    {
     "name": "stdout",
     "output_type": "stream",
     "text": [
      "Epoch [69/200] Train Loss: 2.9399 Val Loss: 2.9871 Precision: 0.1177 Recall: 0.1304 F1 Score: 0.0644\n"
     ]
    },
    {
     "name": "stderr",
     "output_type": "stream",
     "text": [
      "Epoch 70: 100%|██████████| 114/114 [00:06<00:00, 17.54it/s]\n"
     ]
    },
    {
     "name": "stdout",
     "output_type": "stream",
     "text": [
      "Epoch [70/200] Train Loss: 2.9392 Val Loss: 2.9872 Precision: 0.1073 Recall: 0.1120 F1 Score: 0.0630\n"
     ]
    },
    {
     "name": "stderr",
     "output_type": "stream",
     "text": [
      "Epoch 71: 100%|██████████| 114/114 [00:04<00:00, 22.90it/s]\n"
     ]
    },
    {
     "name": "stdout",
     "output_type": "stream",
     "text": [
      "Epoch [71/200] Train Loss: 2.9400 Val Loss: 2.9867 Precision: 0.1250 Recall: 0.0908 F1 Score: 0.0615\n"
     ]
    },
    {
     "name": "stderr",
     "output_type": "stream",
     "text": [
      "Epoch 72: 100%|██████████| 114/114 [00:06<00:00, 18.13it/s]\n"
     ]
    },
    {
     "name": "stdout",
     "output_type": "stream",
     "text": [
      "Epoch [72/200] Train Loss: 2.9387 Val Loss: 2.9860 Precision: 0.1208 Recall: 0.1047 F1 Score: 0.0593\n"
     ]
    },
    {
     "name": "stderr",
     "output_type": "stream",
     "text": [
      "Epoch 73: 100%|██████████| 114/114 [00:06<00:00, 18.07it/s]\n"
     ]
    },
    {
     "name": "stdout",
     "output_type": "stream",
     "text": [
      "Epoch [73/200] Train Loss: 2.9393 Val Loss: 2.9871 Precision: 0.1232 Recall: 0.0862 F1 Score: 0.0614\n"
     ]
    },
    {
     "name": "stderr",
     "output_type": "stream",
     "text": [
      "Epoch 74: 100%|██████████| 114/114 [00:06<00:00, 18.76it/s]\n"
     ]
    },
    {
     "name": "stdout",
     "output_type": "stream",
     "text": [
      "Epoch [74/200] Train Loss: 2.9383 Val Loss: 2.9863 Precision: 0.1154 Recall: 0.1062 F1 Score: 0.0642\n"
     ]
    },
    {
     "name": "stderr",
     "output_type": "stream",
     "text": [
      "Epoch 75: 100%|██████████| 114/114 [00:06<00:00, 18.09it/s]\n"
     ]
    },
    {
     "name": "stdout",
     "output_type": "stream",
     "text": [
      "Epoch [75/200] Train Loss: 2.9389 Val Loss: 2.9864 Precision: 0.1093 Recall: 0.0767 F1 Score: 0.0534\n"
     ]
    },
    {
     "name": "stderr",
     "output_type": "stream",
     "text": [
      "Epoch 76: 100%|██████████| 114/114 [00:06<00:00, 18.52it/s]\n"
     ]
    },
    {
     "name": "stdout",
     "output_type": "stream",
     "text": [
      "Epoch [76/200] Train Loss: 2.9393 Val Loss: 2.9867 Precision: 0.1131 Recall: 0.0907 F1 Score: 0.0581\n"
     ]
    },
    {
     "name": "stderr",
     "output_type": "stream",
     "text": [
      "Epoch 77: 100%|██████████| 114/114 [00:06<00:00, 18.51it/s]\n"
     ]
    },
    {
     "name": "stdout",
     "output_type": "stream",
     "text": [
      "Epoch [77/200] Train Loss: 2.9386 Val Loss: 2.9873 Precision: 0.1163 Recall: 0.1064 F1 Score: 0.0616\n"
     ]
    },
    {
     "name": "stderr",
     "output_type": "stream",
     "text": [
      "Epoch 78: 100%|██████████| 114/114 [00:04<00:00, 23.01it/s]\n"
     ]
    },
    {
     "name": "stdout",
     "output_type": "stream",
     "text": [
      "Epoch [78/200] Train Loss: 2.9390 Val Loss: 2.9868 Precision: 0.1113 Recall: 0.0926 F1 Score: 0.0547\n"
     ]
    },
    {
     "name": "stderr",
     "output_type": "stream",
     "text": [
      "Epoch 79: 100%|██████████| 114/114 [00:06<00:00, 17.53it/s]\n"
     ]
    },
    {
     "name": "stdout",
     "output_type": "stream",
     "text": [
      "Epoch [79/200] Train Loss: 2.9383 Val Loss: 2.9863 Precision: 0.1105 Recall: 0.0981 F1 Score: 0.0586\n"
     ]
    },
    {
     "name": "stderr",
     "output_type": "stream",
     "text": [
      "Epoch 80: 100%|██████████| 114/114 [00:06<00:00, 18.72it/s]\n"
     ]
    },
    {
     "name": "stdout",
     "output_type": "stream",
     "text": [
      "Epoch [80/200] Train Loss: 2.9384 Val Loss: 2.9871 Precision: 0.1092 Recall: 0.1001 F1 Score: 0.0555\n"
     ]
    },
    {
     "name": "stderr",
     "output_type": "stream",
     "text": [
      "Epoch 81: 100%|██████████| 114/114 [00:06<00:00, 18.87it/s]\n"
     ]
    },
    {
     "name": "stdout",
     "output_type": "stream",
     "text": [
      "Epoch [81/200] Train Loss: 2.9387 Val Loss: 2.9871 Precision: 0.1124 Recall: 0.1201 F1 Score: 0.0594\n"
     ]
    },
    {
     "name": "stderr",
     "output_type": "stream",
     "text": [
      "Epoch 82: 100%|██████████| 114/114 [00:06<00:00, 18.32it/s]\n"
     ]
    },
    {
     "name": "stdout",
     "output_type": "stream",
     "text": [
      "Epoch [82/200] Train Loss: 2.9374 Val Loss: 2.9880 Precision: 0.1151 Recall: 0.1037 F1 Score: 0.0601\n"
     ]
    },
    {
     "name": "stderr",
     "output_type": "stream",
     "text": [
      "Epoch 83: 100%|██████████| 114/114 [00:06<00:00, 18.59it/s]\n"
     ]
    },
    {
     "name": "stdout",
     "output_type": "stream",
     "text": [
      "Epoch [83/200] Train Loss: 2.9383 Val Loss: 2.9880 Precision: 0.1128 Recall: 0.1164 F1 Score: 0.0566\n"
     ]
    },
    {
     "name": "stderr",
     "output_type": "stream",
     "text": [
      "Epoch 84: 100%|██████████| 114/114 [00:06<00:00, 18.64it/s]\n"
     ]
    },
    {
     "name": "stdout",
     "output_type": "stream",
     "text": [
      "Epoch [84/200] Train Loss: 2.9364 Val Loss: 2.9873 Precision: 0.1168 Recall: 0.1182 F1 Score: 0.0605\n"
     ]
    },
    {
     "name": "stderr",
     "output_type": "stream",
     "text": [
      "Epoch 85: 100%|██████████| 114/114 [00:06<00:00, 18.10it/s]\n"
     ]
    },
    {
     "name": "stdout",
     "output_type": "stream",
     "text": [
      "Epoch [85/200] Train Loss: 2.9368 Val Loss: 2.9870 Precision: 0.1081 Recall: 0.0854 F1 Score: 0.0564\n"
     ]
    },
    {
     "name": "stderr",
     "output_type": "stream",
     "text": [
      "Epoch 86: 100%|██████████| 114/114 [00:05<00:00, 22.32it/s]\n"
     ]
    },
    {
     "name": "stdout",
     "output_type": "stream",
     "text": [
      "Epoch [86/200] Train Loss: 2.9368 Val Loss: 2.9870 Precision: 0.1026 Recall: 0.0901 F1 Score: 0.0540\n"
     ]
    },
    {
     "name": "stderr",
     "output_type": "stream",
     "text": [
      "Epoch 87: 100%|██████████| 114/114 [00:06<00:00, 16.97it/s]\n"
     ]
    },
    {
     "name": "stdout",
     "output_type": "stream",
     "text": [
      "Epoch [87/200] Train Loss: 2.9370 Val Loss: 2.9869 Precision: 0.1079 Recall: 0.1172 F1 Score: 0.0619\n"
     ]
    },
    {
     "name": "stderr",
     "output_type": "stream",
     "text": [
      "Epoch 88: 100%|██████████| 114/114 [00:05<00:00, 20.56it/s]\n"
     ]
    },
    {
     "name": "stdout",
     "output_type": "stream",
     "text": [
      "Epoch [88/200] Train Loss: 2.9363 Val Loss: 2.9867 Precision: 0.1175 Recall: 0.1153 F1 Score: 0.0636\n"
     ]
    },
    {
     "name": "stderr",
     "output_type": "stream",
     "text": [
      "Epoch 89: 100%|██████████| 114/114 [00:05<00:00, 21.82it/s]\n"
     ]
    },
    {
     "name": "stdout",
     "output_type": "stream",
     "text": [
      "Epoch [89/200] Train Loss: 2.9350 Val Loss: 2.9866 Precision: 0.1103 Recall: 0.0702 F1 Score: 0.0559\n"
     ]
    },
    {
     "name": "stderr",
     "output_type": "stream",
     "text": [
      "Epoch 90: 100%|██████████| 114/114 [00:06<00:00, 17.05it/s]\n"
     ]
    },
    {
     "name": "stdout",
     "output_type": "stream",
     "text": [
      "Epoch [90/200] Train Loss: 2.9358 Val Loss: 2.9867 Precision: 0.1107 Recall: 0.1229 F1 Score: 0.0599\n"
     ]
    },
    {
     "name": "stderr",
     "output_type": "stream",
     "text": [
      "Epoch 91: 100%|██████████| 114/114 [00:06<00:00, 18.65it/s]\n"
     ]
    },
    {
     "name": "stdout",
     "output_type": "stream",
     "text": [
      "Epoch [91/200] Train Loss: 2.9365 Val Loss: 2.9877 Precision: 0.1089 Recall: 0.1323 F1 Score: 0.0616\n"
     ]
    },
    {
     "name": "stderr",
     "output_type": "stream",
     "text": [
      "Epoch 92: 100%|██████████| 114/114 [00:06<00:00, 18.57it/s]\n"
     ]
    },
    {
     "name": "stdout",
     "output_type": "stream",
     "text": [
      "Epoch [92/200] Train Loss: 2.9357 Val Loss: 2.9867 Precision: 0.1115 Recall: 0.1181 F1 Score: 0.0627\n"
     ]
    },
    {
     "name": "stderr",
     "output_type": "stream",
     "text": [
      "Epoch 93: 100%|██████████| 114/114 [00:06<00:00, 18.45it/s]\n"
     ]
    },
    {
     "name": "stdout",
     "output_type": "stream",
     "text": [
      "Epoch [93/200] Train Loss: 2.9359 Val Loss: 2.9871 Precision: 0.1212 Recall: 0.1249 F1 Score: 0.0618\n"
     ]
    },
    {
     "name": "stderr",
     "output_type": "stream",
     "text": [
      "Epoch 94: 100%|██████████| 114/114 [00:06<00:00, 18.14it/s]\n"
     ]
    },
    {
     "name": "stdout",
     "output_type": "stream",
     "text": [
      "Epoch [94/200] Train Loss: 2.9355 Val Loss: 2.9866 Precision: 0.1170 Recall: 0.0770 F1 Score: 0.0533\n"
     ]
    },
    {
     "name": "stderr",
     "output_type": "stream",
     "text": [
      "Epoch 95: 100%|██████████| 114/114 [00:06<00:00, 18.14it/s]\n"
     ]
    },
    {
     "name": "stdout",
     "output_type": "stream",
     "text": [
      "Epoch [95/200] Train Loss: 2.9346 Val Loss: 2.9872 Precision: 0.1199 Recall: 0.1323 F1 Score: 0.0639\n"
     ]
    },
    {
     "name": "stderr",
     "output_type": "stream",
     "text": [
      "Epoch 96: 100%|██████████| 114/114 [00:06<00:00, 18.17it/s]\n"
     ]
    },
    {
     "name": "stdout",
     "output_type": "stream",
     "text": [
      "Epoch [96/200] Train Loss: 2.9348 Val Loss: 2.9871 Precision: 0.1202 Recall: 0.0723 F1 Score: 0.0627\n"
     ]
    },
    {
     "name": "stderr",
     "output_type": "stream",
     "text": [
      "Epoch 97: 100%|██████████| 114/114 [00:06<00:00, 18.17it/s]\n"
     ]
    },
    {
     "name": "stdout",
     "output_type": "stream",
     "text": [
      "Epoch [97/200] Train Loss: 2.9360 Val Loss: 2.9866 Precision: 0.1156 Recall: 0.1374 F1 Score: 0.0625\n"
     ]
    },
    {
     "name": "stderr",
     "output_type": "stream",
     "text": [
      "Epoch 98: 100%|██████████| 114/114 [00:06<00:00, 18.09it/s]\n"
     ]
    },
    {
     "name": "stdout",
     "output_type": "stream",
     "text": [
      "Epoch [98/200] Train Loss: 2.9341 Val Loss: 2.9865 Precision: 0.1164 Recall: 0.1249 F1 Score: 0.0618\n"
     ]
    },
    {
     "name": "stderr",
     "output_type": "stream",
     "text": [
      "Epoch 99: 100%|██████████| 114/114 [00:06<00:00, 18.92it/s]\n"
     ]
    },
    {
     "name": "stdout",
     "output_type": "stream",
     "text": [
      "Epoch [99/200] Train Loss: 2.9349 Val Loss: 2.9871 Precision: 0.1075 Recall: 0.1080 F1 Score: 0.0568\n"
     ]
    },
    {
     "name": "stderr",
     "output_type": "stream",
     "text": [
      "Epoch 100: 100%|██████████| 114/114 [00:06<00:00, 18.54it/s]\n"
     ]
    },
    {
     "name": "stdout",
     "output_type": "stream",
     "text": [
      "Epoch [100/200] Train Loss: 2.9337 Val Loss: 2.9869 Precision: 0.1140 Recall: 0.1119 F1 Score: 0.0614\n"
     ]
    },
    {
     "name": "stderr",
     "output_type": "stream",
     "text": [
      "Epoch 101: 100%|██████████| 114/114 [00:06<00:00, 18.61it/s]\n"
     ]
    },
    {
     "name": "stdout",
     "output_type": "stream",
     "text": [
      "Epoch [101/200] Train Loss: 2.9340 Val Loss: 2.9859 Precision: 0.1161 Recall: 0.1187 F1 Score: 0.0639\n"
     ]
    },
    {
     "name": "stderr",
     "output_type": "stream",
     "text": [
      "Epoch 102: 100%|██████████| 114/114 [00:06<00:00, 17.47it/s]\n"
     ]
    },
    {
     "name": "stdout",
     "output_type": "stream",
     "text": [
      "Epoch [102/200] Train Loss: 2.9349 Val Loss: 2.9858 Precision: 0.1133 Recall: 0.1149 F1 Score: 0.0633\n"
     ]
    },
    {
     "name": "stderr",
     "output_type": "stream",
     "text": [
      "Epoch 103: 100%|██████████| 114/114 [00:06<00:00, 17.95it/s]\n"
     ]
    },
    {
     "name": "stdout",
     "output_type": "stream",
     "text": [
      "Epoch [103/200] Train Loss: 2.9332 Val Loss: 2.9860 Precision: 0.1148 Recall: 0.1120 F1 Score: 0.0609\n"
     ]
    },
    {
     "name": "stderr",
     "output_type": "stream",
     "text": [
      "Epoch 104: 100%|██████████| 114/114 [00:05<00:00, 22.36it/s]\n"
     ]
    },
    {
     "name": "stdout",
     "output_type": "stream",
     "text": [
      "Epoch [104/200] Train Loss: 2.9329 Val Loss: 2.9863 Precision: 0.1144 Recall: 0.1201 F1 Score: 0.0573\n"
     ]
    },
    {
     "name": "stderr",
     "output_type": "stream",
     "text": [
      "Epoch 105: 100%|██████████| 114/114 [00:06<00:00, 16.96it/s]\n"
     ]
    },
    {
     "name": "stdout",
     "output_type": "stream",
     "text": [
      "Epoch [105/200] Train Loss: 2.9343 Val Loss: 2.9869 Precision: 0.1202 Recall: 0.0997 F1 Score: 0.0590\n"
     ]
    },
    {
     "name": "stderr",
     "output_type": "stream",
     "text": [
      "Epoch 106: 100%|██████████| 114/114 [00:06<00:00, 17.82it/s]\n"
     ]
    },
    {
     "name": "stdout",
     "output_type": "stream",
     "text": [
      "Epoch [106/200] Train Loss: 2.9342 Val Loss: 2.9870 Precision: 0.1246 Recall: 0.0940 F1 Score: 0.0601\n"
     ]
    },
    {
     "name": "stderr",
     "output_type": "stream",
     "text": [
      "Epoch 107: 100%|██████████| 114/114 [00:06<00:00, 17.85it/s]\n"
     ]
    },
    {
     "name": "stdout",
     "output_type": "stream",
     "text": [
      "Epoch [107/200] Train Loss: 2.9341 Val Loss: 2.9863 Precision: 0.1172 Recall: 0.0803 F1 Score: 0.0575\n"
     ]
    },
    {
     "name": "stderr",
     "output_type": "stream",
     "text": [
      "Epoch 108: 100%|██████████| 114/114 [00:06<00:00, 18.12it/s]\n"
     ]
    },
    {
     "name": "stdout",
     "output_type": "stream",
     "text": [
      "Epoch [108/200] Train Loss: 2.9339 Val Loss: 2.9865 Precision: 0.1029 Recall: 0.1083 F1 Score: 0.0595\n"
     ]
    },
    {
     "name": "stderr",
     "output_type": "stream",
     "text": [
      "Epoch 109: 100%|██████████| 114/114 [00:06<00:00, 18.17it/s]\n"
     ]
    },
    {
     "name": "stdout",
     "output_type": "stream",
     "text": [
      "Epoch [109/200] Train Loss: 2.9342 Val Loss: 2.9868 Precision: 0.1031 Recall: 0.1012 F1 Score: 0.0557\n"
     ]
    },
    {
     "name": "stderr",
     "output_type": "stream",
     "text": [
      "Epoch 110: 100%|██████████| 114/114 [00:06<00:00, 18.53it/s]\n"
     ]
    },
    {
     "name": "stdout",
     "output_type": "stream",
     "text": [
      "Epoch [110/200] Train Loss: 2.9347 Val Loss: 2.9868 Precision: 0.1132 Recall: 0.1389 F1 Score: 0.0642\n"
     ]
    },
    {
     "name": "stderr",
     "output_type": "stream",
     "text": [
      "Epoch 111: 100%|██████████| 114/114 [00:06<00:00, 18.00it/s]\n"
     ]
    },
    {
     "name": "stdout",
     "output_type": "stream",
     "text": [
      "Epoch [111/200] Train Loss: 2.9331 Val Loss: 2.9865 Precision: 0.1114 Recall: 0.0887 F1 Score: 0.0604\n"
     ]
    },
    {
     "name": "stderr",
     "output_type": "stream",
     "text": [
      "Epoch 112: 100%|██████████| 114/114 [00:06<00:00, 17.71it/s]\n"
     ]
    },
    {
     "name": "stdout",
     "output_type": "stream",
     "text": [
      "Epoch [112/200] Train Loss: 2.9338 Val Loss: 2.9863 Precision: 0.1113 Recall: 0.1008 F1 Score: 0.0555\n"
     ]
    },
    {
     "name": "stderr",
     "output_type": "stream",
     "text": [
      "Epoch 113: 100%|██████████| 114/114 [00:06<00:00, 17.30it/s]\n"
     ]
    },
    {
     "name": "stdout",
     "output_type": "stream",
     "text": [
      "Epoch [113/200] Train Loss: 2.9324 Val Loss: 2.9864 Precision: 0.1186 Recall: 0.0922 F1 Score: 0.0618\n"
     ]
    },
    {
     "name": "stderr",
     "output_type": "stream",
     "text": [
      "Epoch 114: 100%|██████████| 114/114 [00:06<00:00, 18.43it/s]\n"
     ]
    },
    {
     "name": "stdout",
     "output_type": "stream",
     "text": [
      "Epoch [114/200] Train Loss: 2.9327 Val Loss: 2.9874 Precision: 0.1042 Recall: 0.1250 F1 Score: 0.0634\n"
     ]
    },
    {
     "name": "stderr",
     "output_type": "stream",
     "text": [
      "Epoch 115: 100%|██████████| 114/114 [00:06<00:00, 17.40it/s]\n"
     ]
    },
    {
     "name": "stdout",
     "output_type": "stream",
     "text": [
      "Epoch [115/200] Train Loss: 2.9330 Val Loss: 2.9872 Precision: 0.1115 Recall: 0.1057 F1 Score: 0.0642\n"
     ]
    },
    {
     "name": "stderr",
     "output_type": "stream",
     "text": [
      "Epoch 116: 100%|██████████| 114/114 [00:05<00:00, 19.27it/s]\n"
     ]
    },
    {
     "name": "stdout",
     "output_type": "stream",
     "text": [
      "Epoch [116/200] Train Loss: 2.9334 Val Loss: 2.9870 Precision: 0.1152 Recall: 0.1045 F1 Score: 0.0655\n"
     ]
    },
    {
     "name": "stderr",
     "output_type": "stream",
     "text": [
      "Epoch 117: 100%|██████████| 114/114 [00:06<00:00, 18.99it/s]\n"
     ]
    },
    {
     "name": "stdout",
     "output_type": "stream",
     "text": [
      "Epoch [117/200] Train Loss: 2.9332 Val Loss: 2.9879 Precision: 0.1111 Recall: 0.0991 F1 Score: 0.0618\n"
     ]
    },
    {
     "name": "stderr",
     "output_type": "stream",
     "text": [
      "Epoch 118: 100%|██████████| 114/114 [00:04<00:00, 23.07it/s]\n"
     ]
    },
    {
     "name": "stdout",
     "output_type": "stream",
     "text": [
      "Epoch [118/200] Train Loss: 2.9315 Val Loss: 2.9858 Precision: 0.1079 Recall: 0.1166 F1 Score: 0.0606\n"
     ]
    },
    {
     "name": "stderr",
     "output_type": "stream",
     "text": [
      "Epoch 119: 100%|██████████| 114/114 [00:06<00:00, 17.42it/s]\n"
     ]
    },
    {
     "name": "stdout",
     "output_type": "stream",
     "text": [
      "Epoch [119/200] Train Loss: 2.9319 Val Loss: 2.9876 Precision: 0.1039 Recall: 0.0875 F1 Score: 0.0556\n"
     ]
    },
    {
     "name": "stderr",
     "output_type": "stream",
     "text": [
      "Epoch 120: 100%|██████████| 114/114 [00:06<00:00, 17.79it/s]\n"
     ]
    },
    {
     "name": "stdout",
     "output_type": "stream",
     "text": [
      "Epoch [120/200] Train Loss: 2.9322 Val Loss: 2.9859 Precision: 0.1105 Recall: 0.1132 F1 Score: 0.0608\n"
     ]
    },
    {
     "name": "stderr",
     "output_type": "stream",
     "text": [
      "Epoch 121: 100%|██████████| 114/114 [00:06<00:00, 17.94it/s]\n"
     ]
    },
    {
     "name": "stdout",
     "output_type": "stream",
     "text": [
      "Epoch [121/200] Train Loss: 2.9315 Val Loss: 2.9861 Precision: 0.1104 Recall: 0.1105 F1 Score: 0.0609\n"
     ]
    },
    {
     "name": "stderr",
     "output_type": "stream",
     "text": [
      "Epoch 122: 100%|██████████| 114/114 [00:05<00:00, 21.72it/s]\n"
     ]
    },
    {
     "name": "stdout",
     "output_type": "stream",
     "text": [
      "Epoch [122/200] Train Loss: 2.9317 Val Loss: 2.9860 Precision: 0.0969 Recall: 0.1310 F1 Score: 0.0631\n"
     ]
    },
    {
     "name": "stderr",
     "output_type": "stream",
     "text": [
      "Epoch 123: 100%|██████████| 114/114 [00:06<00:00, 18.20it/s]\n"
     ]
    },
    {
     "name": "stdout",
     "output_type": "stream",
     "text": [
      "Epoch [123/200] Train Loss: 2.9322 Val Loss: 2.9866 Precision: 0.1093 Recall: 0.1150 F1 Score: 0.0641\n"
     ]
    },
    {
     "name": "stderr",
     "output_type": "stream",
     "text": [
      "Epoch 124: 100%|██████████| 114/114 [00:05<00:00, 19.06it/s]\n"
     ]
    },
    {
     "name": "stdout",
     "output_type": "stream",
     "text": [
      "Epoch [124/200] Train Loss: 2.9332 Val Loss: 2.9876 Precision: 0.0964 Recall: 0.1118 F1 Score: 0.0542\n"
     ]
    },
    {
     "name": "stderr",
     "output_type": "stream",
     "text": [
      "Epoch 125: 100%|██████████| 114/114 [00:06<00:00, 18.32it/s]\n"
     ]
    },
    {
     "name": "stdout",
     "output_type": "stream",
     "text": [
      "Epoch [125/200] Train Loss: 2.9320 Val Loss: 2.9876 Precision: 0.0991 Recall: 0.0948 F1 Score: 0.0607\n"
     ]
    },
    {
     "name": "stderr",
     "output_type": "stream",
     "text": [
      "Epoch 126: 100%|██████████| 114/114 [00:06<00:00, 18.92it/s]\n"
     ]
    },
    {
     "name": "stdout",
     "output_type": "stream",
     "text": [
      "Epoch [126/200] Train Loss: 2.9307 Val Loss: 2.9875 Precision: 0.0933 Recall: 0.1285 F1 Score: 0.0658\n"
     ]
    },
    {
     "name": "stderr",
     "output_type": "stream",
     "text": [
      "Epoch 127: 100%|██████████| 114/114 [00:06<00:00, 18.23it/s]\n"
     ]
    },
    {
     "name": "stdout",
     "output_type": "stream",
     "text": [
      "Epoch [127/200] Train Loss: 2.9316 Val Loss: 2.9872 Precision: 0.1118 Recall: 0.1121 F1 Score: 0.0626\n"
     ]
    },
    {
     "name": "stderr",
     "output_type": "stream",
     "text": [
      "Epoch 128: 100%|██████████| 114/114 [00:05<00:00, 20.00it/s]\n"
     ]
    },
    {
     "name": "stdout",
     "output_type": "stream",
     "text": [
      "Epoch [128/200] Train Loss: 2.9319 Val Loss: 2.9888 Precision: 0.1053 Recall: 0.1155 F1 Score: 0.0582\n"
     ]
    },
    {
     "name": "stderr",
     "output_type": "stream",
     "text": [
      "Epoch 129: 100%|██████████| 114/114 [00:05<00:00, 19.03it/s]\n"
     ]
    },
    {
     "name": "stdout",
     "output_type": "stream",
     "text": [
      "Epoch [129/200] Train Loss: 2.9321 Val Loss: 2.9877 Precision: 0.1055 Recall: 0.1069 F1 Score: 0.0575\n"
     ]
    },
    {
     "name": "stderr",
     "output_type": "stream",
     "text": [
      "Epoch 130: 100%|██████████| 114/114 [00:05<00:00, 19.09it/s]\n"
     ]
    },
    {
     "name": "stdout",
     "output_type": "stream",
     "text": [
      "Epoch [130/200] Train Loss: 2.9298 Val Loss: 2.9884 Precision: 0.1049 Recall: 0.1148 F1 Score: 0.0612\n"
     ]
    },
    {
     "name": "stderr",
     "output_type": "stream",
     "text": [
      "Epoch 131: 100%|██████████| 114/114 [00:05<00:00, 19.57it/s]\n"
     ]
    },
    {
     "name": "stdout",
     "output_type": "stream",
     "text": [
      "Epoch [131/200] Train Loss: 2.9305 Val Loss: 2.9880 Precision: 0.1006 Recall: 0.1083 F1 Score: 0.0599\n"
     ]
    },
    {
     "name": "stderr",
     "output_type": "stream",
     "text": [
      "Epoch 132: 100%|██████████| 114/114 [00:05<00:00, 19.85it/s]\n"
     ]
    },
    {
     "name": "stdout",
     "output_type": "stream",
     "text": [
      "Epoch [132/200] Train Loss: 2.9299 Val Loss: 2.9878 Precision: 0.1035 Recall: 0.1145 F1 Score: 0.0557\n"
     ]
    },
    {
     "name": "stderr",
     "output_type": "stream",
     "text": [
      "Epoch 133: 100%|██████████| 114/114 [00:05<00:00, 21.00it/s]\n"
     ]
    },
    {
     "name": "stdout",
     "output_type": "stream",
     "text": [
      "Epoch [133/200] Train Loss: 2.9295 Val Loss: 2.9870 Precision: 0.1022 Recall: 0.1184 F1 Score: 0.0608\n"
     ]
    },
    {
     "name": "stderr",
     "output_type": "stream",
     "text": [
      "Epoch 134: 100%|██████████| 114/114 [00:06<00:00, 18.37it/s]\n"
     ]
    },
    {
     "name": "stdout",
     "output_type": "stream",
     "text": [
      "Epoch [134/200] Train Loss: 2.9304 Val Loss: 2.9864 Precision: 0.1134 Recall: 0.1405 F1 Score: 0.0634\n"
     ]
    },
    {
     "name": "stderr",
     "output_type": "stream",
     "text": [
      "Epoch 135: 100%|██████████| 114/114 [00:05<00:00, 19.55it/s]\n"
     ]
    },
    {
     "name": "stdout",
     "output_type": "stream",
     "text": [
      "Epoch [135/200] Train Loss: 2.9311 Val Loss: 2.9869 Precision: 0.1069 Recall: 0.1081 F1 Score: 0.0602\n"
     ]
    },
    {
     "name": "stderr",
     "output_type": "stream",
     "text": [
      "Epoch 136: 100%|██████████| 114/114 [00:05<00:00, 21.99it/s]\n"
     ]
    },
    {
     "name": "stdout",
     "output_type": "stream",
     "text": [
      "Epoch [136/200] Train Loss: 2.9287 Val Loss: 2.9875 Precision: 0.1047 Recall: 0.1154 F1 Score: 0.0569\n"
     ]
    },
    {
     "name": "stderr",
     "output_type": "stream",
     "text": [
      "Epoch 137: 100%|██████████| 114/114 [00:05<00:00, 19.44it/s]\n"
     ]
    },
    {
     "name": "stdout",
     "output_type": "stream",
     "text": [
      "Epoch [137/200] Train Loss: 2.9292 Val Loss: 2.9882 Precision: 0.1054 Recall: 0.1235 F1 Score: 0.0611\n"
     ]
    },
    {
     "name": "stderr",
     "output_type": "stream",
     "text": [
      "Epoch 138: 100%|██████████| 114/114 [00:06<00:00, 17.63it/s]\n"
     ]
    },
    {
     "name": "stdout",
     "output_type": "stream",
     "text": [
      "Epoch [138/200] Train Loss: 2.9292 Val Loss: 2.9882 Precision: 0.1068 Recall: 0.1095 F1 Score: 0.0571\n"
     ]
    },
    {
     "name": "stderr",
     "output_type": "stream",
     "text": [
      "Epoch 139: 100%|██████████| 114/114 [00:07<00:00, 16.23it/s]\n"
     ]
    },
    {
     "name": "stdout",
     "output_type": "stream",
     "text": [
      "Epoch [139/200] Train Loss: 2.9307 Val Loss: 2.9886 Precision: 0.1091 Recall: 0.1100 F1 Score: 0.0612\n"
     ]
    },
    {
     "name": "stderr",
     "output_type": "stream",
     "text": [
      "Epoch 140: 100%|██████████| 114/114 [00:05<00:00, 19.74it/s]\n"
     ]
    },
    {
     "name": "stdout",
     "output_type": "stream",
     "text": [
      "Epoch [140/200] Train Loss: 2.9298 Val Loss: 2.9884 Precision: 0.1167 Recall: 0.1480 F1 Score: 0.0649\n"
     ]
    },
    {
     "name": "stderr",
     "output_type": "stream",
     "text": [
      "Epoch 141: 100%|██████████| 114/114 [00:06<00:00, 18.35it/s]\n"
     ]
    },
    {
     "name": "stdout",
     "output_type": "stream",
     "text": [
      "Epoch [141/200] Train Loss: 2.9299 Val Loss: 2.9879 Precision: 0.1153 Recall: 0.1079 F1 Score: 0.0609\n"
     ]
    },
    {
     "name": "stderr",
     "output_type": "stream",
     "text": [
      "Epoch 142: 100%|██████████| 114/114 [00:05<00:00, 20.45it/s]\n"
     ]
    },
    {
     "name": "stdout",
     "output_type": "stream",
     "text": [
      "Epoch [142/200] Train Loss: 2.9282 Val Loss: 2.9889 Precision: 0.0981 Recall: 0.1064 F1 Score: 0.0570\n"
     ]
    },
    {
     "name": "stderr",
     "output_type": "stream",
     "text": [
      "Epoch 143: 100%|██████████| 114/114 [00:05<00:00, 20.62it/s]\n"
     ]
    },
    {
     "name": "stdout",
     "output_type": "stream",
     "text": [
      "Epoch [143/200] Train Loss: 2.9303 Val Loss: 2.9882 Precision: 0.1078 Recall: 0.1089 F1 Score: 0.0590\n"
     ]
    },
    {
     "name": "stderr",
     "output_type": "stream",
     "text": [
      "Epoch 144: 100%|██████████| 114/114 [00:06<00:00, 18.56it/s]\n"
     ]
    },
    {
     "name": "stdout",
     "output_type": "stream",
     "text": [
      "Epoch [144/200] Train Loss: 2.9300 Val Loss: 2.9884 Precision: 0.1057 Recall: 0.1097 F1 Score: 0.0567\n"
     ]
    },
    {
     "name": "stderr",
     "output_type": "stream",
     "text": [
      "Epoch 145: 100%|██████████| 114/114 [00:06<00:00, 18.19it/s]\n"
     ]
    },
    {
     "name": "stdout",
     "output_type": "stream",
     "text": [
      "Epoch [145/200] Train Loss: 2.9288 Val Loss: 2.9882 Precision: 0.1044 Recall: 0.0991 F1 Score: 0.0532\n"
     ]
    },
    {
     "name": "stderr",
     "output_type": "stream",
     "text": [
      "Epoch 146: 100%|██████████| 114/114 [00:06<00:00, 17.63it/s]\n"
     ]
    },
    {
     "name": "stdout",
     "output_type": "stream",
     "text": [
      "Epoch [146/200] Train Loss: 2.9290 Val Loss: 2.9881 Precision: 0.0978 Recall: 0.1086 F1 Score: 0.0537\n"
     ]
    },
    {
     "name": "stderr",
     "output_type": "stream",
     "text": [
      "Epoch 147: 100%|██████████| 114/114 [00:06<00:00, 18.48it/s]\n"
     ]
    },
    {
     "name": "stdout",
     "output_type": "stream",
     "text": [
      "Epoch [147/200] Train Loss: 2.9290 Val Loss: 2.9883 Precision: 0.1101 Recall: 0.1094 F1 Score: 0.0604\n"
     ]
    },
    {
     "name": "stderr",
     "output_type": "stream",
     "text": [
      "Epoch 148: 100%|██████████| 114/114 [00:06<00:00, 18.04it/s]\n"
     ]
    },
    {
     "name": "stdout",
     "output_type": "stream",
     "text": [
      "Epoch [148/200] Train Loss: 2.9287 Val Loss: 2.9872 Precision: 0.1081 Recall: 0.1167 F1 Score: 0.0576\n"
     ]
    },
    {
     "name": "stderr",
     "output_type": "stream",
     "text": [
      "Epoch 149: 100%|██████████| 114/114 [00:06<00:00, 18.27it/s]\n"
     ]
    },
    {
     "name": "stdout",
     "output_type": "stream",
     "text": [
      "Epoch [149/200] Train Loss: 2.9297 Val Loss: 2.9875 Precision: 0.1047 Recall: 0.0951 F1 Score: 0.0516\n"
     ]
    },
    {
     "name": "stderr",
     "output_type": "stream",
     "text": [
      "Epoch 150: 100%|██████████| 114/114 [00:06<00:00, 17.92it/s]\n"
     ]
    },
    {
     "name": "stdout",
     "output_type": "stream",
     "text": [
      "Epoch [150/200] Train Loss: 2.9287 Val Loss: 2.9878 Precision: 0.0907 Recall: 0.1071 F1 Score: 0.0504\n"
     ]
    },
    {
     "name": "stderr",
     "output_type": "stream",
     "text": [
      "Epoch 151: 100%|██████████| 114/114 [00:05<00:00, 20.51it/s]\n"
     ]
    },
    {
     "name": "stdout",
     "output_type": "stream",
     "text": [
      "Epoch [151/200] Train Loss: 2.9291 Val Loss: 2.9880 Precision: 0.1045 Recall: 0.1107 F1 Score: 0.0555\n"
     ]
    },
    {
     "name": "stderr",
     "output_type": "stream",
     "text": [
      "Epoch 152: 100%|██████████| 114/114 [00:06<00:00, 17.11it/s]\n"
     ]
    },
    {
     "name": "stdout",
     "output_type": "stream",
     "text": [
      "Epoch [152/200] Train Loss: 2.9284 Val Loss: 2.9881 Precision: 0.1013 Recall: 0.1119 F1 Score: 0.0567\n"
     ]
    },
    {
     "name": "stderr",
     "output_type": "stream",
     "text": [
      "Epoch 153: 100%|██████████| 114/114 [00:06<00:00, 16.95it/s]\n"
     ]
    },
    {
     "name": "stdout",
     "output_type": "stream",
     "text": [
      "Epoch [153/200] Train Loss: 2.9305 Val Loss: 2.9882 Precision: 0.1005 Recall: 0.0934 F1 Score: 0.0524\n"
     ]
    },
    {
     "name": "stderr",
     "output_type": "stream",
     "text": [
      "Epoch 154: 100%|██████████| 114/114 [00:06<00:00, 17.13it/s]\n"
     ]
    },
    {
     "name": "stdout",
     "output_type": "stream",
     "text": [
      "Epoch [154/200] Train Loss: 2.9288 Val Loss: 2.9886 Precision: 0.0988 Recall: 0.1018 F1 Score: 0.0572\n"
     ]
    },
    {
     "name": "stderr",
     "output_type": "stream",
     "text": [
      "Epoch 155: 100%|██████████| 114/114 [00:06<00:00, 16.37it/s]\n"
     ]
    },
    {
     "name": "stdout",
     "output_type": "stream",
     "text": [
      "Epoch [155/200] Train Loss: 2.9286 Val Loss: 2.9888 Precision: 0.1053 Recall: 0.0894 F1 Score: 0.0538\n"
     ]
    },
    {
     "name": "stderr",
     "output_type": "stream",
     "text": [
      "Epoch 156: 100%|██████████| 114/114 [00:06<00:00, 17.34it/s]\n"
     ]
    },
    {
     "name": "stdout",
     "output_type": "stream",
     "text": [
      "Epoch [156/200] Train Loss: 2.9274 Val Loss: 2.9884 Precision: 0.1015 Recall: 0.0925 F1 Score: 0.0548\n"
     ]
    },
    {
     "name": "stderr",
     "output_type": "stream",
     "text": [
      "Epoch 157: 100%|██████████| 114/114 [00:06<00:00, 17.37it/s]\n"
     ]
    },
    {
     "name": "stdout",
     "output_type": "stream",
     "text": [
      "Epoch [157/200] Train Loss: 2.9291 Val Loss: 2.9878 Precision: 0.1033 Recall: 0.1063 F1 Score: 0.0582\n"
     ]
    },
    {
     "name": "stderr",
     "output_type": "stream",
     "text": [
      "Epoch 158: 100%|██████████| 114/114 [00:06<00:00, 16.93it/s]\n"
     ]
    },
    {
     "name": "stdout",
     "output_type": "stream",
     "text": [
      "Epoch [158/200] Train Loss: 2.9286 Val Loss: 2.9878 Precision: 0.1045 Recall: 0.1042 F1 Score: 0.0545\n"
     ]
    },
    {
     "name": "stderr",
     "output_type": "stream",
     "text": [
      "Epoch 159: 100%|██████████| 114/114 [00:06<00:00, 17.01it/s]\n"
     ]
    },
    {
     "name": "stdout",
     "output_type": "stream",
     "text": [
      "Epoch [159/200] Train Loss: 2.9274 Val Loss: 2.9870 Precision: 0.1060 Recall: 0.0949 F1 Score: 0.0493\n"
     ]
    },
    {
     "name": "stderr",
     "output_type": "stream",
     "text": [
      "Epoch 160: 100%|██████████| 114/114 [00:05<00:00, 19.03it/s]\n"
     ]
    },
    {
     "name": "stdout",
     "output_type": "stream",
     "text": [
      "Epoch [160/200] Train Loss: 2.9275 Val Loss: 2.9863 Precision: 0.1067 Recall: 0.1236 F1 Score: 0.0590\n"
     ]
    },
    {
     "name": "stderr",
     "output_type": "stream",
     "text": [
      "Epoch 161: 100%|██████████| 114/114 [00:06<00:00, 17.03it/s]\n"
     ]
    },
    {
     "name": "stdout",
     "output_type": "stream",
     "text": [
      "Epoch [161/200] Train Loss: 2.9264 Val Loss: 2.9873 Precision: 0.1184 Recall: 0.1255 F1 Score: 0.0656\n"
     ]
    },
    {
     "name": "stderr",
     "output_type": "stream",
     "text": [
      "Epoch 162: 100%|██████████| 114/114 [00:06<00:00, 17.61it/s]\n"
     ]
    },
    {
     "name": "stdout",
     "output_type": "stream",
     "text": [
      "Epoch [162/200] Train Loss: 2.9290 Val Loss: 2.9868 Precision: 0.1052 Recall: 0.1345 F1 Score: 0.0652\n"
     ]
    },
    {
     "name": "stderr",
     "output_type": "stream",
     "text": [
      "Epoch 163: 100%|██████████| 114/114 [00:06<00:00, 17.48it/s]\n"
     ]
    },
    {
     "name": "stdout",
     "output_type": "stream",
     "text": [
      "Epoch [163/200] Train Loss: 2.9282 Val Loss: 2.9873 Precision: 0.0938 Recall: 0.1247 F1 Score: 0.0611\n"
     ]
    },
    {
     "name": "stderr",
     "output_type": "stream",
     "text": [
      "Epoch 164: 100%|██████████| 114/114 [00:06<00:00, 17.74it/s]\n"
     ]
    },
    {
     "name": "stdout",
     "output_type": "stream",
     "text": [
      "Epoch [164/200] Train Loss: 2.9287 Val Loss: 2.9879 Precision: 0.0975 Recall: 0.1114 F1 Score: 0.0551\n"
     ]
    },
    {
     "name": "stderr",
     "output_type": "stream",
     "text": [
      "Epoch 165: 100%|██████████| 114/114 [00:06<00:00, 17.92it/s]\n"
     ]
    },
    {
     "name": "stdout",
     "output_type": "stream",
     "text": [
      "Epoch [165/200] Train Loss: 2.9270 Val Loss: 2.9882 Precision: 0.1004 Recall: 0.1120 F1 Score: 0.0564\n"
     ]
    },
    {
     "name": "stderr",
     "output_type": "stream",
     "text": [
      "Epoch 166: 100%|██████████| 114/114 [00:06<00:00, 16.99it/s]\n"
     ]
    },
    {
     "name": "stdout",
     "output_type": "stream",
     "text": [
      "Epoch [166/200] Train Loss: 2.9273 Val Loss: 2.9876 Precision: 0.1031 Recall: 0.1059 F1 Score: 0.0551\n"
     ]
    },
    {
     "name": "stderr",
     "output_type": "stream",
     "text": [
      "Epoch 167: 100%|██████████| 114/114 [00:06<00:00, 17.18it/s]\n"
     ]
    },
    {
     "name": "stdout",
     "output_type": "stream",
     "text": [
      "Epoch [167/200] Train Loss: 2.9282 Val Loss: 2.9880 Precision: 0.1059 Recall: 0.1328 F1 Score: 0.0579\n"
     ]
    },
    {
     "name": "stderr",
     "output_type": "stream",
     "text": [
      "Epoch 168: 100%|██████████| 114/114 [00:06<00:00, 17.37it/s]\n"
     ]
    },
    {
     "name": "stdout",
     "output_type": "stream",
     "text": [
      "Epoch [168/200] Train Loss: 2.9277 Val Loss: 2.9874 Precision: 0.1021 Recall: 0.1285 F1 Score: 0.0609\n"
     ]
    },
    {
     "name": "stderr",
     "output_type": "stream",
     "text": [
      "Epoch 169: 100%|██████████| 114/114 [00:06<00:00, 17.68it/s]\n"
     ]
    },
    {
     "name": "stdout",
     "output_type": "stream",
     "text": [
      "Epoch [169/200] Train Loss: 2.9261 Val Loss: 2.9875 Precision: 0.1019 Recall: 0.1145 F1 Score: 0.0559\n"
     ]
    },
    {
     "name": "stderr",
     "output_type": "stream",
     "text": [
      "Epoch 170: 100%|██████████| 114/114 [00:06<00:00, 17.44it/s]\n"
     ]
    },
    {
     "name": "stdout",
     "output_type": "stream",
     "text": [
      "Epoch [170/200] Train Loss: 2.9273 Val Loss: 2.9876 Precision: 0.1077 Recall: 0.1253 F1 Score: 0.0613\n"
     ]
    },
    {
     "name": "stderr",
     "output_type": "stream",
     "text": [
      "Epoch 171: 100%|██████████| 114/114 [00:06<00:00, 17.15it/s]\n"
     ]
    },
    {
     "name": "stdout",
     "output_type": "stream",
     "text": [
      "Epoch [171/200] Train Loss: 2.9282 Val Loss: 2.9879 Precision: 0.0959 Recall: 0.1140 F1 Score: 0.0519\n"
     ]
    },
    {
     "name": "stderr",
     "output_type": "stream",
     "text": [
      "Epoch 172: 100%|██████████| 114/114 [00:06<00:00, 17.57it/s]\n"
     ]
    },
    {
     "name": "stdout",
     "output_type": "stream",
     "text": [
      "Epoch [172/200] Train Loss: 2.9260 Val Loss: 2.9876 Precision: 0.0961 Recall: 0.1204 F1 Score: 0.0573\n"
     ]
    },
    {
     "name": "stderr",
     "output_type": "stream",
     "text": [
      "Epoch 173: 100%|██████████| 114/114 [00:06<00:00, 17.71it/s]\n"
     ]
    },
    {
     "name": "stdout",
     "output_type": "stream",
     "text": [
      "Epoch [173/200] Train Loss: 2.9264 Val Loss: 2.9878 Precision: 0.1051 Recall: 0.1282 F1 Score: 0.0594\n"
     ]
    },
    {
     "name": "stderr",
     "output_type": "stream",
     "text": [
      "Epoch 174: 100%|██████████| 114/114 [00:05<00:00, 19.90it/s]\n"
     ]
    },
    {
     "name": "stdout",
     "output_type": "stream",
     "text": [
      "Epoch [174/200] Train Loss: 2.9268 Val Loss: 2.9875 Precision: 0.1080 Recall: 0.1162 F1 Score: 0.0599\n"
     ]
    },
    {
     "name": "stderr",
     "output_type": "stream",
     "text": [
      "Epoch 175: 100%|██████████| 114/114 [00:06<00:00, 17.94it/s]\n"
     ]
    },
    {
     "name": "stdout",
     "output_type": "stream",
     "text": [
      "Epoch [175/200] Train Loss: 2.9273 Val Loss: 2.9878 Precision: 0.1094 Recall: 0.1255 F1 Score: 0.0631\n"
     ]
    },
    {
     "name": "stderr",
     "output_type": "stream",
     "text": [
      "Epoch 176: 100%|██████████| 114/114 [00:06<00:00, 16.96it/s]\n"
     ]
    },
    {
     "name": "stdout",
     "output_type": "stream",
     "text": [
      "Epoch [176/200] Train Loss: 2.9283 Val Loss: 2.9877 Precision: 0.1083 Recall: 0.1362 F1 Score: 0.0586\n"
     ]
    },
    {
     "name": "stderr",
     "output_type": "stream",
     "text": [
      "Epoch 177: 100%|██████████| 114/114 [00:06<00:00, 16.94it/s]\n"
     ]
    },
    {
     "name": "stdout",
     "output_type": "stream",
     "text": [
      "Epoch [177/200] Train Loss: 2.9260 Val Loss: 2.9876 Precision: 0.1127 Recall: 0.1308 F1 Score: 0.0601\n"
     ]
    },
    {
     "name": "stderr",
     "output_type": "stream",
     "text": [
      "Epoch 178: 100%|██████████| 114/114 [00:06<00:00, 17.41it/s]\n"
     ]
    },
    {
     "name": "stdout",
     "output_type": "stream",
     "text": [
      "Epoch [178/200] Train Loss: 2.9268 Val Loss: 2.9876 Precision: 0.1050 Recall: 0.1364 F1 Score: 0.0596\n"
     ]
    },
    {
     "name": "stderr",
     "output_type": "stream",
     "text": [
      "Epoch 179: 100%|██████████| 114/114 [00:06<00:00, 17.35it/s]\n"
     ]
    },
    {
     "name": "stdout",
     "output_type": "stream",
     "text": [
      "Epoch [179/200] Train Loss: 2.9268 Val Loss: 2.9885 Precision: 0.1044 Recall: 0.1077 F1 Score: 0.0575\n"
     ]
    },
    {
     "name": "stderr",
     "output_type": "stream",
     "text": [
      "Epoch 180: 100%|██████████| 114/114 [00:06<00:00, 17.19it/s]\n"
     ]
    },
    {
     "name": "stdout",
     "output_type": "stream",
     "text": [
      "Epoch [180/200] Train Loss: 2.9268 Val Loss: 2.9877 Precision: 0.1079 Recall: 0.1264 F1 Score: 0.0596\n"
     ]
    },
    {
     "name": "stderr",
     "output_type": "stream",
     "text": [
      "Epoch 181: 100%|██████████| 114/114 [00:06<00:00, 18.90it/s]\n"
     ]
    },
    {
     "name": "stdout",
     "output_type": "stream",
     "text": [
      "Epoch [181/200] Train Loss: 2.9262 Val Loss: 2.9884 Precision: 0.1100 Recall: 0.0951 F1 Score: 0.0561\n"
     ]
    },
    {
     "name": "stderr",
     "output_type": "stream",
     "text": [
      "Epoch 182: 100%|██████████| 114/114 [00:05<00:00, 19.18it/s]\n"
     ]
    },
    {
     "name": "stdout",
     "output_type": "stream",
     "text": [
      "Epoch [182/200] Train Loss: 2.9261 Val Loss: 2.9882 Precision: 0.1115 Recall: 0.1272 F1 Score: 0.0624\n"
     ]
    },
    {
     "name": "stderr",
     "output_type": "stream",
     "text": [
      "Epoch 183: 100%|██████████| 114/114 [00:06<00:00, 17.52it/s]\n"
     ]
    },
    {
     "name": "stdout",
     "output_type": "stream",
     "text": [
      "Epoch [183/200] Train Loss: 2.9254 Val Loss: 2.9882 Precision: 0.1055 Recall: 0.1126 F1 Score: 0.0527\n"
     ]
    },
    {
     "name": "stderr",
     "output_type": "stream",
     "text": [
      "Epoch 184: 100%|██████████| 114/114 [00:05<00:00, 19.17it/s]\n"
     ]
    },
    {
     "name": "stdout",
     "output_type": "stream",
     "text": [
      "Epoch [184/200] Train Loss: 2.9261 Val Loss: 2.9882 Precision: 0.1052 Recall: 0.1228 F1 Score: 0.0582\n"
     ]
    },
    {
     "name": "stderr",
     "output_type": "stream",
     "text": [
      "Epoch 185: 100%|██████████| 114/114 [00:06<00:00, 18.38it/s]\n"
     ]
    },
    {
     "name": "stdout",
     "output_type": "stream",
     "text": [
      "Epoch [185/200] Train Loss: 2.9261 Val Loss: 2.9880 Precision: 0.1046 Recall: 0.1426 F1 Score: 0.0563\n"
     ]
    },
    {
     "name": "stderr",
     "output_type": "stream",
     "text": [
      "Epoch 186: 100%|██████████| 114/114 [00:06<00:00, 18.32it/s]\n"
     ]
    },
    {
     "name": "stdout",
     "output_type": "stream",
     "text": [
      "Epoch [186/200] Train Loss: 2.9257 Val Loss: 2.9879 Precision: 0.1129 Recall: 0.1190 F1 Score: 0.0555\n"
     ]
    },
    {
     "name": "stderr",
     "output_type": "stream",
     "text": [
      "Epoch 187: 100%|██████████| 114/114 [00:06<00:00, 17.72it/s]\n"
     ]
    },
    {
     "name": "stdout",
     "output_type": "stream",
     "text": [
      "Epoch [187/200] Train Loss: 2.9268 Val Loss: 2.9879 Precision: 0.0971 Recall: 0.1029 F1 Score: 0.0497\n"
     ]
    },
    {
     "name": "stderr",
     "output_type": "stream",
     "text": [
      "Epoch 188: 100%|██████████| 114/114 [00:06<00:00, 17.69it/s]\n"
     ]
    },
    {
     "name": "stdout",
     "output_type": "stream",
     "text": [
      "Epoch [188/200] Train Loss: 2.9267 Val Loss: 2.9876 Precision: 0.1066 Recall: 0.1168 F1 Score: 0.0566\n"
     ]
    },
    {
     "name": "stderr",
     "output_type": "stream",
     "text": [
      "Epoch 189: 100%|██████████| 114/114 [00:05<00:00, 19.13it/s]\n"
     ]
    },
    {
     "name": "stdout",
     "output_type": "stream",
     "text": [
      "Epoch [189/200] Train Loss: 2.9252 Val Loss: 2.9874 Precision: 0.1102 Recall: 0.1387 F1 Score: 0.0611\n"
     ]
    },
    {
     "name": "stderr",
     "output_type": "stream",
     "text": [
      "Epoch 190: 100%|██████████| 114/114 [00:06<00:00, 17.57it/s]\n"
     ]
    },
    {
     "name": "stdout",
     "output_type": "stream",
     "text": [
      "Epoch [190/200] Train Loss: 2.9261 Val Loss: 2.9868 Precision: 0.1155 Recall: 0.1073 F1 Score: 0.0565\n"
     ]
    },
    {
     "name": "stderr",
     "output_type": "stream",
     "text": [
      "Epoch 191: 100%|██████████| 114/114 [00:06<00:00, 17.78it/s]\n"
     ]
    },
    {
     "name": "stdout",
     "output_type": "stream",
     "text": [
      "Epoch [191/200] Train Loss: 2.9266 Val Loss: 2.9873 Precision: 0.1075 Recall: 0.1098 F1 Score: 0.0556\n"
     ]
    },
    {
     "name": "stderr",
     "output_type": "stream",
     "text": [
      "Epoch 192: 100%|██████████| 114/114 [00:06<00:00, 17.72it/s]\n"
     ]
    },
    {
     "name": "stdout",
     "output_type": "stream",
     "text": [
      "Epoch [192/200] Train Loss: 2.9265 Val Loss: 2.9872 Precision: 0.1116 Recall: 0.1220 F1 Score: 0.0599\n"
     ]
    },
    {
     "name": "stderr",
     "output_type": "stream",
     "text": [
      "Epoch 193: 100%|██████████| 114/114 [00:05<00:00, 19.11it/s]\n"
     ]
    },
    {
     "name": "stdout",
     "output_type": "stream",
     "text": [
      "Epoch [193/200] Train Loss: 2.9262 Val Loss: 2.9867 Precision: 0.1047 Recall: 0.1150 F1 Score: 0.0583\n"
     ]
    },
    {
     "name": "stderr",
     "output_type": "stream",
     "text": [
      "Epoch 194: 100%|██████████| 114/114 [00:04<00:00, 23.72it/s]\n"
     ]
    },
    {
     "name": "stdout",
     "output_type": "stream",
     "text": [
      "Epoch [194/200] Train Loss: 2.9256 Val Loss: 2.9869 Precision: 0.1114 Recall: 0.1261 F1 Score: 0.0592\n"
     ]
    },
    {
     "name": "stderr",
     "output_type": "stream",
     "text": [
      "Epoch 195: 100%|██████████| 114/114 [00:05<00:00, 19.05it/s]\n"
     ]
    },
    {
     "name": "stdout",
     "output_type": "stream",
     "text": [
      "Epoch [195/200] Train Loss: 2.9263 Val Loss: 2.9871 Precision: 0.1117 Recall: 0.1243 F1 Score: 0.0616\n"
     ]
    },
    {
     "name": "stderr",
     "output_type": "stream",
     "text": [
      "Epoch 196: 100%|██████████| 114/114 [00:05<00:00, 21.76it/s]\n"
     ]
    },
    {
     "name": "stdout",
     "output_type": "stream",
     "text": [
      "Epoch [196/200] Train Loss: 2.9247 Val Loss: 2.9872 Precision: 0.1033 Recall: 0.1160 F1 Score: 0.0568\n"
     ]
    },
    {
     "name": "stderr",
     "output_type": "stream",
     "text": [
      "Epoch 197: 100%|██████████| 114/114 [00:06<00:00, 18.50it/s]\n"
     ]
    },
    {
     "name": "stdout",
     "output_type": "stream",
     "text": [
      "Epoch [197/200] Train Loss: 2.9254 Val Loss: 2.9876 Precision: 0.1041 Recall: 0.1134 F1 Score: 0.0538\n"
     ]
    },
    {
     "name": "stderr",
     "output_type": "stream",
     "text": [
      "Epoch 198: 100%|██████████| 114/114 [00:06<00:00, 18.34it/s]\n"
     ]
    },
    {
     "name": "stdout",
     "output_type": "stream",
     "text": [
      "Epoch [198/200] Train Loss: 2.9263 Val Loss: 2.9876 Precision: 0.1075 Recall: 0.1286 F1 Score: 0.0601\n"
     ]
    },
    {
     "name": "stderr",
     "output_type": "stream",
     "text": [
      "Epoch 199: 100%|██████████| 114/114 [00:06<00:00, 18.35it/s]\n"
     ]
    },
    {
     "name": "stdout",
     "output_type": "stream",
     "text": [
      "Epoch [199/200] Train Loss: 2.9256 Val Loss: 2.9877 Precision: 0.1041 Recall: 0.1302 F1 Score: 0.0587\n"
     ]
    },
    {
     "name": "stderr",
     "output_type": "stream",
     "text": [
      "Epoch 200: 100%|██████████| 114/114 [00:06<00:00, 17.81it/s]\n"
     ]
    },
    {
     "name": "stdout",
     "output_type": "stream",
     "text": [
      "Epoch [200/200] Train Loss: 2.9258 Val Loss: 2.9871 Precision: 0.1010 Recall: 0.1117 F1 Score: 0.0551\n"
     ]
    },
    {
     "data": {
      "image/png": "[encoded data removed]",
      "text/plain": [
       "<Figure size 1200x400 with 2 Axes>"
      ]
     },
     "metadata": {},
     "output_type": "display_data"
    }
   ],
   "source": [
    "import torch\n",
    "import torch.nn as nn\n",
    "import torch.optim as optim\n",
    "from sklearn.metrics import precision_recall_fscore_support\n",
    "import matplotlib.pyplot as plt\n",
    "from tqdm import tqdm\n",
    "\n",
    "device = torch.device(\"cuda\" if torch.cuda.is_available() else \"cpu\")\n",
    "\n",
    "def train_validate_model(model, train_loader, val_loader, num_epochs=10, learning_rate=0.1, stepslr=10, gamma=0.9):\n",
    "    model.to(device)\n",
    "    criterion = nn.CrossEntropyLoss()\n",
    "    optimizer = optim.AdamW(model.parameters(), lr=learning_rate)\n",
    "    scheduler = optim.lr_scheduler.StepLR(optimizer, stepslr, gamma=gamma)\n",
    "\n",
    "    train_losses = []\n",
    "    val_losses = []\n",
    "    precision_scores = []\n",
    "    recall_scores = []\n",
    "    f1_scores = []\n",
    "\n",
    "    for epoch in range(num_epochs):\n",
    "        model.train()\n",
    "        running_train_loss = 0.0\n",
    "        for i, (inputs, labels) in enumerate(tqdm(train_loader, total=len(train_data_loader), desc=f'Epoch {epoch + 1}')):\n",
    "            inputs, labels = inputs.to(device), labels.to(device)\n",
    "            optimizer.zero_grad()\n",
    "            outputs = model(inputs.float())\n",
    "            # print(outputs, labels.unsqueeze(1))\n",
    "            loss = criterion(outputs.squeeze(1), labels)\n",
    "            loss.backward()\n",
    "            optimizer.step()\n",
    "            running_train_loss += loss.item()\n",
    "        \n",
    "        # print(running_train_loss, len(train_loader))\n",
    "        train_loss = running_train_loss / len(train_loader)\n",
    "        train_losses.append(train_loss)\n",
    "\n",
    "        model.eval()\n",
    "        running_val_loss = 0.0\n",
    "        all_preds = []\n",
    "        all_labels = []\n",
    "        with torch.no_grad():\n",
    "            for inputs, labels in val_loader:\n",
    "                inputs, labels = inputs.to(device), labels.to(device)\n",
    "                outputs = model(inputs.float())\n",
    "                loss = criterion(outputs.squeeze(1), labels)\n",
    "                running_val_loss += loss.item()\n",
    "\n",
    "                # print(outputs.shape, labels.shape)\n",
    "                # print(outputs, labels)\n",
    "                predicted = torch.argmax(outputs.squeeze(1), 1)\n",
    "                labels = torch.argmax(labels, 1)\n",
    "                # print(predicted.shape, labels.shape)\n",
    "                # print(predicted, labels)\n",
    "                # break\n",
    "                all_preds.extend(predicted.cpu().numpy())\n",
    "                all_labels.extend(labels.cpu().numpy())\n",
    "\n",
    "        val_loss = running_val_loss / len(val_loader)\n",
    "        val_losses.append(val_loss)\n",
    "\n",
    "        precision, recall, f1, _ = precision_recall_fscore_support(all_labels, all_preds, average='macro')\n",
    "        precision_scores.append(precision)\n",
    "        recall_scores.append(recall)\n",
    "        f1_scores.append(f1)\n",
    "\n",
    "        scheduler.step()\n",
    "\n",
    "        print(f\"Epoch [{epoch + 1}/{num_epochs}] \"\n",
    "              f\"Train Loss: {train_loss:.4f} \"\n",
    "              f\"Val Loss: {val_loss:.4f} \"\n",
    "              f\"Precision: {precision:.4f} \"\n",
    "              f\"Recall: {recall:.4f} \"\n",
    "              f\"F1 Score: {f1:.4f}\")\n",
    "\n",
    "    # Plotting\n",
    "    plt.figure(figsize=(12, 4))\n",
    "\n",
    "    plt.subplot(1, 2, 1)\n",
    "    plt.plot(train_losses, label='Train Loss')\n",
    "    plt.plot(val_losses, label='Val Loss')\n",
    "    plt.xlabel('Epochs')\n",
    "    plt.ylabel('Loss')\n",
    "    plt.title('Training and Validation Loss')\n",
    "    plt.legend()\n",
    "\n",
    "    plt.subplot(1, 2, 2)\n",
    "    plt.plot(precision_scores, label='Precision')\n",
    "    plt.plot(recall_scores, label='Recall')\n",
    "    plt.plot(f1_scores, label='F1 Score')\n",
    "    plt.xlabel('Epochs')\n",
    "    plt.ylabel('Scores')\n",
    "    plt.title('Precision, Recall, and F1 Score')\n",
    "    plt.legend()\n",
    "\n",
    "    plt.tight_layout()\n",
    "    plt.show()\n",
    "\n",
    "\n",
    "model = CustomLinearClassifier(input_dim=768, num_classes=20)\n",
    "train_validate_model(model, train_data_loader, test_data_loader, num_epochs=200, learning_rate=0.01)\n"
   ]
  },
  {
   "cell_type": "code",
   "execution_count": 21,
   "metadata": {},
   "outputs": [
    {
     "name": "stdout",
     "output_type": "stream",
     "text": [
      "Val Loss: 1.3855 Precision: 0.3750 Recall: 0.3658 F1 Score: 0.3510\n"
     ]
    }
   ],
   "source": [
    "model.to(device)\n",
    "criterion = nn.CrossEntropyLoss()\n",
    "\n",
    "train_losses = []\n",
    "val_losses = []\n",
    "precision_scores = []\n",
    "recall_scores = []\n",
    "f1_scores = []\n",
    "\n",
    "model.eval()\n",
    "running_val_loss = 0.0\n",
    "all_preds = []\n",
    "all_labels = []\n",
    "with torch.no_grad():\n",
    "    for inputs, labels in test_data_loader:\n",
    "        inputs, labels = inputs.to(device), labels.to(device)\n",
    "        outputs = model(inputs.float())\n",
    "        loss = criterion(outputs.squeeze(1), labels)\n",
    "        running_val_loss += loss.item()\n",
    "\n",
    "        # print(outputs.shape, labels.shape)\n",
    "        # print(outputs, labels)\n",
    "        predicted = torch.argmax(outputs.squeeze(1), 1)\n",
    "        labels = torch.argmax(labels, 1)\n",
    "        # print(predicted.shape, labels.shape)\n",
    "        # print(predicted, labels)\n",
    "        # break\n",
    "        all_preds.extend(predicted.cpu().numpy())\n",
    "        all_labels.extend(labels.cpu().numpy())\n",
    "\n",
    "val_loss = running_val_loss / len(test_data_loader)\n",
    "val_losses.append(val_loss)\n",
    "\n",
    "precision, recall, f1, _ = precision_recall_fscore_support(all_labels, all_preds, average='macro')\n",
    "precision_scores.append(precision)\n",
    "recall_scores.append(recall)\n",
    "f1_scores.append(f1)\n",
    "\n",
    "\n",
    "print(f\"Val Loss: {val_loss:.4f} \"\n",
    "        f\"Precision: {precision:.4f} \"\n",
    "        f\"Recall: {recall:.4f} \"\n",
    "        f\"F1 Score: {f1:.4f}\")"
   ]
  }
 ],
 "metadata": {
  "kernelspec": {
   "display_name": ".venv",
   "language": "python",
   "name": "python3"
  },
  "language_info": {
   "codemirror_mode": {
    "name": "ipython",
    "version": 3
   },
   "file_extension": ".py",
   "mimetype": "text/x-python",
   "name": "python",
   "nbconvert_exporter": "python",
   "pygments_lexer": "ipython3",
   "version": "3.11.6"
  },
  "orig_nbformat": 4
 },
 "nbformat": 4,
 "nbformat_minor": 2
}
